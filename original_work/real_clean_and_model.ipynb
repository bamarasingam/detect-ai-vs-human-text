{
 "cells": [
  {
   "cell_type": "code",
   "execution_count": 420,
   "id": "cbe89959",
   "metadata": {},
   "outputs": [],
   "source": [
    "import pandas as pd\n",
    "import numpy as np\n",
    "import matplotlib.pyplot as plt\n",
    "import nltk\n",
    "from sklearn.model_selection import train_test_split, GridSearchCV, cross_val_score\n",
    "from sklearn.pipeline import Pipeline\n",
    "from sklearn.naive_bayes import MultinomialNB, GaussianNB, BernoulliNB\n",
    "from sklearn.feature_extraction.text import TfidfVectorizer, CountVectorizer\n",
    "from sklearn.linear_model import LogisticRegression\n",
    "from sklearn.metrics import classification_report\n",
    "from sklearn.metrics import confusion_matrix, ConfusionMatrixDisplay\n",
    "from nltk.corpus import stopwords\n",
    "from nltk.stem import WordNetLemmatizer, PorterStemmer\n",
    "from nltk.tokenize import word_tokenize"
   ]
  },
  {
   "cell_type": "markdown",
   "id": "4bf348b0",
   "metadata": {},
   "source": [
    "# Data Cleaning & EDA"
   ]
  },
  {
   "cell_type": "markdown",
   "id": "09c0fe41",
   "metadata": {},
   "source": [
    "Pre-cleaning notes\n",
    "- Need to remove rows which include [deleted] in comment\n",
    "- Need to remove rows which include '# Message to all users...'\n",
    "- Delete ones which have [removed]\n",
    "- Remove ones that start with 'Welcome'\n",
    "- Remove NaN\n",
    "- Removing the various ways people use markdown shortcuts in reddit comments\n",
    "    - https://www.reddit.com/wiki/markdown/\n",
    "\n",
    "- NLTK\n",
    "    - Lemmatizer\n",
    "    - StopWords\n"
   ]
  },
  {
   "cell_type": "code",
   "execution_count": 421,
   "id": "12c0d672",
   "metadata": {},
   "outputs": [],
   "source": [
    "real = pd.read_csv('reddit_ai_df.csv')"
   ]
  },
  {
   "cell_type": "code",
   "execution_count": 422,
   "id": "7d1f36f1",
   "metadata": {},
   "outputs": [
    {
     "data": {
      "text/html": [
       "<div>\n",
       "<style scoped>\n",
       "    .dataframe tbody tr th:only-of-type {\n",
       "        vertical-align: middle;\n",
       "    }\n",
       "\n",
       "    .dataframe tbody tr th {\n",
       "        vertical-align: top;\n",
       "    }\n",
       "\n",
       "    .dataframe thead th {\n",
       "        text-align: right;\n",
       "    }\n",
       "</style>\n",
       "<table border=\"1\" class=\"dataframe\">\n",
       "  <thead>\n",
       "    <tr style=\"text-align: right;\">\n",
       "      <th></th>\n",
       "      <th>title</th>\n",
       "      <th>top_comment</th>\n",
       "      <th>answers</th>\n",
       "    </tr>\n",
       "  </thead>\n",
       "  <tbody>\n",
       "    <tr>\n",
       "      <th>0</th>\n",
       "      <td>How can I purposely get clumps in my spaghetti</td>\n",
       "      <td>I’ve actually done this before. \\n\\nTie a whol...</td>\n",
       "      <td>sauce?\\n\\n1. Use a potato masher to mash the ...</td>\n",
       "    </tr>\n",
       "    <tr>\n",
       "      <th>1</th>\n",
       "      <td>Rabbit hole engaged... 11,082 cookbooks in dig...</td>\n",
       "      <td>Brewster Kahle is the man responsible for this...</td>\n",
       "      <td>\\n\\nThere are actually a few digital collectio...</td>\n",
       "    </tr>\n",
       "    <tr>\n",
       "      <th>2</th>\n",
       "      <td>Hello everybody, I’m Maangchi! I have a Korean...</td>\n",
       "      <td>Hello Maangchi! I've followed your channel sin...</td>\n",
       "      <td>NaN</td>\n",
       "    </tr>\n",
       "    <tr>\n",
       "      <th>3</th>\n",
       "      <td>UPDATE: I prepared Japanese A5 Wagyu Steak for...</td>\n",
       "      <td>This is my favorite type of update post! All t...</td>\n",
       "      <td>!\\n\\nThank you so much for your help! I really...</td>\n",
       "    </tr>\n",
       "    <tr>\n",
       "      <th>4</th>\n",
       "      <td>Instacart gave me 50 pounds of limes instead o...</td>\n",
       "      <td>[deleted]</td>\n",
       "      <td>\\n\\nThere are many things you can do with 50 p...</td>\n",
       "    </tr>\n",
       "  </tbody>\n",
       "</table>\n",
       "</div>"
      ],
      "text/plain": [
       "                                               title  \\\n",
       "0     How can I purposely get clumps in my spaghetti   \n",
       "1  Rabbit hole engaged... 11,082 cookbooks in dig...   \n",
       "2  Hello everybody, I’m Maangchi! I have a Korean...   \n",
       "3  UPDATE: I prepared Japanese A5 Wagyu Steak for...   \n",
       "4  Instacart gave me 50 pounds of limes instead o...   \n",
       "\n",
       "                                         top_comment  \\\n",
       "0  I’ve actually done this before. \\n\\nTie a whol...   \n",
       "1  Brewster Kahle is the man responsible for this...   \n",
       "2  Hello Maangchi! I've followed your channel sin...   \n",
       "3  This is my favorite type of update post! All t...   \n",
       "4                                          [deleted]   \n",
       "\n",
       "                                             answers  \n",
       "0   sauce?\\n\\n1. Use a potato masher to mash the ...  \n",
       "1  \\n\\nThere are actually a few digital collectio...  \n",
       "2                                                NaN  \n",
       "3  !\\n\\nThank you so much for your help! I really...  \n",
       "4  \\n\\nThere are many things you can do with 50 p...  "
      ]
     },
     "execution_count": 422,
     "metadata": {},
     "output_type": "execute_result"
    }
   ],
   "source": [
    "real.head()"
   ]
  },
  {
   "cell_type": "code",
   "execution_count": 423,
   "id": "408d9bb6",
   "metadata": {
    "scrolled": true
   },
   "outputs": [
    {
     "data": {
      "text/plain": [
       "(3751, 3)"
      ]
     },
     "execution_count": 423,
     "metadata": {},
     "output_type": "execute_result"
    }
   ],
   "source": [
    "real.shape"
   ]
  },
  {
   "cell_type": "code",
   "execution_count": 424,
   "id": "3ffcba03",
   "metadata": {},
   "outputs": [],
   "source": [
    "#Start index at 1 instead of 0\n",
    "#https://www.includehelp.com/python/pandas-start-row-index-from-1-instead-of-zero-without-creating-additional-column.aspx\n",
    "real.index = np.arange(1, len(real) + 1)"
   ]
  },
  {
   "cell_type": "code",
   "execution_count": 425,
   "id": "8ae357e7",
   "metadata": {},
   "outputs": [],
   "source": [
    "#Rename index to row_id\n",
    "#https://saturncloud.io/blog/how-to-name-your-pandas-index-column-a-guide-for-data-scientists/#:~:text=Method%201%3A%20Using%20the%20rename_axis()%20Method&text=In%20this%20example%2C%20we%20first,index%20column%20to%20'person'.\n",
    "real.rename_axis('row_id', inplace=True)"
   ]
  },
  {
   "cell_type": "code",
   "execution_count": 426,
   "id": "c648eafb",
   "metadata": {},
   "outputs": [
    {
     "data": {
      "text/html": [
       "<div>\n",
       "<style scoped>\n",
       "    .dataframe tbody tr th:only-of-type {\n",
       "        vertical-align: middle;\n",
       "    }\n",
       "\n",
       "    .dataframe tbody tr th {\n",
       "        vertical-align: top;\n",
       "    }\n",
       "\n",
       "    .dataframe thead th {\n",
       "        text-align: right;\n",
       "    }\n",
       "</style>\n",
       "<table border=\"1\" class=\"dataframe\">\n",
       "  <thead>\n",
       "    <tr style=\"text-align: right;\">\n",
       "      <th></th>\n",
       "      <th>title</th>\n",
       "      <th>top_comment</th>\n",
       "      <th>answers</th>\n",
       "    </tr>\n",
       "    <tr>\n",
       "      <th>row_id</th>\n",
       "      <th></th>\n",
       "      <th></th>\n",
       "      <th></th>\n",
       "    </tr>\n",
       "  </thead>\n",
       "  <tbody>\n",
       "    <tr>\n",
       "      <th>1</th>\n",
       "      <td>How can I purposely get clumps in my spaghetti</td>\n",
       "      <td>I’ve actually done this before. \\n\\nTie a whol...</td>\n",
       "      <td>sauce?\\n\\n1. Use a potato masher to mash the ...</td>\n",
       "    </tr>\n",
       "    <tr>\n",
       "      <th>2</th>\n",
       "      <td>Rabbit hole engaged... 11,082 cookbooks in dig...</td>\n",
       "      <td>Brewster Kahle is the man responsible for this...</td>\n",
       "      <td>\\n\\nThere are actually a few digital collectio...</td>\n",
       "    </tr>\n",
       "    <tr>\n",
       "      <th>3</th>\n",
       "      <td>Hello everybody, I’m Maangchi! I have a Korean...</td>\n",
       "      <td>Hello Maangchi! I've followed your channel sin...</td>\n",
       "      <td>NaN</td>\n",
       "    </tr>\n",
       "    <tr>\n",
       "      <th>4</th>\n",
       "      <td>UPDATE: I prepared Japanese A5 Wagyu Steak for...</td>\n",
       "      <td>This is my favorite type of update post! All t...</td>\n",
       "      <td>!\\n\\nThank you so much for your help! I really...</td>\n",
       "    </tr>\n",
       "    <tr>\n",
       "      <th>5</th>\n",
       "      <td>Instacart gave me 50 pounds of limes instead o...</td>\n",
       "      <td>[deleted]</td>\n",
       "      <td>\\n\\nThere are many things you can do with 50 p...</td>\n",
       "    </tr>\n",
       "  </tbody>\n",
       "</table>\n",
       "</div>"
      ],
      "text/plain": [
       "                                                    title  \\\n",
       "row_id                                                      \n",
       "1          How can I purposely get clumps in my spaghetti   \n",
       "2       Rabbit hole engaged... 11,082 cookbooks in dig...   \n",
       "3       Hello everybody, I’m Maangchi! I have a Korean...   \n",
       "4       UPDATE: I prepared Japanese A5 Wagyu Steak for...   \n",
       "5       Instacart gave me 50 pounds of limes instead o...   \n",
       "\n",
       "                                              top_comment  \\\n",
       "row_id                                                      \n",
       "1       I’ve actually done this before. \\n\\nTie a whol...   \n",
       "2       Brewster Kahle is the man responsible for this...   \n",
       "3       Hello Maangchi! I've followed your channel sin...   \n",
       "4       This is my favorite type of update post! All t...   \n",
       "5                                               [deleted]   \n",
       "\n",
       "                                                  answers  \n",
       "row_id                                                     \n",
       "1        sauce?\\n\\n1. Use a potato masher to mash the ...  \n",
       "2       \\n\\nThere are actually a few digital collectio...  \n",
       "3                                                     NaN  \n",
       "4       !\\n\\nThank you so much for your help! I really...  \n",
       "5       \\n\\nThere are many things you can do with 50 p...  "
      ]
     },
     "execution_count": 426,
     "metadata": {},
     "output_type": "execute_result"
    }
   ],
   "source": [
    "real.head()"
   ]
  },
  {
   "cell_type": "code",
   "execution_count": 427,
   "id": "4b987f0f",
   "metadata": {},
   "outputs": [],
   "source": [
    "real.to_csv('final_dataframe.csv', index = False)"
   ]
  },
  {
   "cell_type": "code",
   "execution_count": 428,
   "id": "332defc2",
   "metadata": {},
   "outputs": [],
   "source": [
    "#Removing white space from all AI answers\n",
    "#https://www.geeksforgeeks.org/pandas-strip-whitespace-from-entire-dataframe/\n",
    "real['answers'] = real['answers'].str.strip()"
   ]
  },
  {
   "cell_type": "code",
   "execution_count": 429,
   "id": "e2fd4dea",
   "metadata": {},
   "outputs": [],
   "source": [
    "#Drop rows with NaN\n",
    "real = real.dropna()"
   ]
  },
  {
   "cell_type": "code",
   "execution_count": 430,
   "id": "8d62b50e",
   "metadata": {},
   "outputs": [
    {
     "data": {
      "text/plain": [
       "(3562, 3)"
      ]
     },
     "execution_count": 430,
     "metadata": {},
     "output_type": "execute_result"
    }
   ],
   "source": [
    "#Drop rows which include [deleted] in top_comment\n",
    "#https://stackoverflow.com/questions/18172851/deleting-dataframe-row-in-pandas-based-on-column-value\n",
    "real = real[real.top_comment != '[deleted]']\n",
    "real.shape"
   ]
  },
  {
   "cell_type": "code",
   "execution_count": 431,
   "id": "54709a06",
   "metadata": {},
   "outputs": [
    {
     "data": {
      "text/plain": [
       "(3539, 3)"
      ]
     },
     "execution_count": 431,
     "metadata": {},
     "output_type": "execute_result"
    }
   ],
   "source": [
    "#Delete rows which have [removed] in top_comment\n",
    "real = real[real.top_comment != '[removed]']\n",
    "real.shape"
   ]
  },
  {
   "cell_type": "code",
   "execution_count": 432,
   "id": "809a7365",
   "metadata": {
    "scrolled": true
   },
   "outputs": [
    {
     "data": {
      "text/html": [
       "<div>\n",
       "<style scoped>\n",
       "    .dataframe tbody tr th:only-of-type {\n",
       "        vertical-align: middle;\n",
       "    }\n",
       "\n",
       "    .dataframe tbody tr th {\n",
       "        vertical-align: top;\n",
       "    }\n",
       "\n",
       "    .dataframe thead th {\n",
       "        text-align: right;\n",
       "    }\n",
       "</style>\n",
       "<table border=\"1\" class=\"dataframe\">\n",
       "  <thead>\n",
       "    <tr style=\"text-align: right;\">\n",
       "      <th></th>\n",
       "      <th>title</th>\n",
       "      <th>top_comment</th>\n",
       "      <th>answers</th>\n",
       "    </tr>\n",
       "    <tr>\n",
       "      <th>row_id</th>\n",
       "      <th></th>\n",
       "      <th></th>\n",
       "      <th></th>\n",
       "    </tr>\n",
       "  </thead>\n",
       "  <tbody>\n",
       "    <tr>\n",
       "      <th>874</th>\n",
       "      <td>Guys i feel like an idiot</td>\n",
       "      <td>Welcome to being a man make sure to stick it i...</td>\n",
       "      <td>.\\n\\nThat's okay. We all make mistakes sometim...</td>\n",
       "    </tr>\n",
       "    <tr>\n",
       "      <th>2381</th>\n",
       "      <td>Is it all about building the same mediocre pro...</td>\n",
       "      <td>Welcome to work. Unless you’re inventing somet...</td>\n",
       "      <td>again?\\n\\nNo, it is not. Building the same med...</td>\n",
       "    </tr>\n",
       "    <tr>\n",
       "      <th>3185</th>\n",
       "      <td>China has had almost zero recorded cases of co...</td>\n",
       "      <td>Welcome to r/TrueAskReddit. Remember that this...</td>\n",
       "      <td>Journalists are likely reporting on this topic...</td>\n",
       "    </tr>\n",
       "    <tr>\n",
       "      <th>3192</th>\n",
       "      <td>Is it all Carpe diem then?</td>\n",
       "      <td>Welcome to r/TrueAskReddit. Remember that this...</td>\n",
       "      <td>No, not necessarily. Carpe diem is a Latin phr...</td>\n",
       "    </tr>\n",
       "    <tr>\n",
       "      <th>3199</th>\n",
       "      <td>Why don't the Olympics maintain a single venue...</td>\n",
       "      <td>Welcome to r/TrueAskReddit. Remember that this...</td>\n",
       "      <td>The Olympics are a global event, and maintaini...</td>\n",
       "    </tr>\n",
       "    <tr>\n",
       "      <th>3210</th>\n",
       "      <td>If you are punished for being an efficient and...</td>\n",
       "      <td>Welcome to r/TrueAskReddit. Remember that this...</td>\n",
       "      <td>No, it is not morally acceptable to stop givin...</td>\n",
       "    </tr>\n",
       "    <tr>\n",
       "      <th>3214</th>\n",
       "      <td>Today as an American, I constantly hear about ...</td>\n",
       "      <td>Welcome to r/TrueAskReddit. Remember that this...</td>\n",
       "      <td>1. Invest in infrastructure: Investing in our ...</td>\n",
       "    </tr>\n",
       "    <tr>\n",
       "      <th>3258</th>\n",
       "      <td>Is it better to teach your teens to be realist...</td>\n",
       "      <td>Welcome to r/TrueAskReddit. Remember that this...</td>\n",
       "      <td>Yes, it is better to teach teens to be realist...</td>\n",
       "    </tr>\n",
       "    <tr>\n",
       "      <th>3309</th>\n",
       "      <td>Why is child abuse on boys played for laughs i...</td>\n",
       "      <td>Welcome to r/TrueAskReddit. Remember that this...</td>\n",
       "      <td>Child abuse is often played for laughs in movi...</td>\n",
       "    </tr>\n",
       "    <tr>\n",
       "      <th>3320</th>\n",
       "      <td>Would the GameStop short squeeze be as controv...</td>\n",
       "      <td>Welcome to r/TrueAskReddit. Remember that this...</td>\n",
       "      <td>It is possible that a similar short squeeze by...</td>\n",
       "    </tr>\n",
       "    <tr>\n",
       "      <th>3331</th>\n",
       "      <td>If all suffering is not physical, why is the r...</td>\n",
       "      <td>Welcome to r/TrueAskReddit. Remember that this...</td>\n",
       "      <td>The right to die is not fully extended to peop...</td>\n",
       "    </tr>\n",
       "    <tr>\n",
       "      <th>3338</th>\n",
       "      <td>What do you think children of today will chang...</td>\n",
       "      <td>Welcome to r/TrueAskReddit. Remember that this...</td>\n",
       "      <td>Children of today will likely bring a greater ...</td>\n",
       "    </tr>\n",
       "    <tr>\n",
       "      <th>3370</th>\n",
       "      <td>How to rekindle that childlike sense of wonder...</td>\n",
       "      <td>Welcome to r/TrueAskReddit. Remember that this...</td>\n",
       "      <td>1. Take up a hobby that you have always wanted...</td>\n",
       "    </tr>\n",
       "    <tr>\n",
       "      <th>3374</th>\n",
       "      <td>It's been said that public education in the US...</td>\n",
       "      <td>Welcome to r/TrueAskReddit. Remember that this...</td>\n",
       "      <td>The alternative to public education designed t...</td>\n",
       "    </tr>\n",
       "    <tr>\n",
       "      <th>3387</th>\n",
       "      <td>Why do people give so much value to those who ...</td>\n",
       "      <td>Welcome to r/TrueAskReddit. Remember that this...</td>\n",
       "      <td>People often give more value to celebrities be...</td>\n",
       "    </tr>\n",
       "    <tr>\n",
       "      <th>3396</th>\n",
       "      <td>What's the point of a democracy where the elec...</td>\n",
       "      <td>Welcome to r/TrueAskReddit. Remember that this...</td>\n",
       "      <td>The point of democracy is to give citizens a s...</td>\n",
       "    </tr>\n",
       "    <tr>\n",
       "      <th>3405</th>\n",
       "      <td>After the covid vaccine gets to everyone and e...</td>\n",
       "      <td>Welcome to r/TrueAskReddit. Remember that this...</td>\n",
       "      <td>It is difficult to predict how society will ad...</td>\n",
       "    </tr>\n",
       "    <tr>\n",
       "      <th>3406</th>\n",
       "      <td>What harmful things are still being taught in ...</td>\n",
       "      <td>Welcome to r/TrueAskReddit. Remember that this...</td>\n",
       "      <td>1. Gender roles and stereotypes: In some schoo...</td>\n",
       "    </tr>\n",
       "    <tr>\n",
       "      <th>3416</th>\n",
       "      <td>What steps should a person take if they find t...</td>\n",
       "      <td>Welcome to r/TrueAskReddit. Remember that this...</td>\n",
       "      <td>1. Monitor and document changes in the governm...</td>\n",
       "    </tr>\n",
       "    <tr>\n",
       "      <th>3418</th>\n",
       "      <td>Why is it that increasing numbers of people on...</td>\n",
       "      <td>Welcome to r/TrueAskReddit. Remember that this...</td>\n",
       "      <td>The internet can be an isolating environment f...</td>\n",
       "    </tr>\n",
       "    <tr>\n",
       "      <th>3426</th>\n",
       "      <td>How can we protect the civilization from growi...</td>\n",
       "      <td>Welcome to r/TrueAskReddit. Remember that this...</td>\n",
       "      <td>1. Strengthen public education systems to ensu...</td>\n",
       "    </tr>\n",
       "    <tr>\n",
       "      <th>3433</th>\n",
       "      <td>Has peaceful protest lost its effectiveness in...</td>\n",
       "      <td>Welcome to r/TrueAskReddit. Remember that this...</td>\n",
       "      <td>No, peaceful protest has not lost its effectiv...</td>\n",
       "    </tr>\n",
       "    <tr>\n",
       "      <th>3463</th>\n",
       "      <td>Why is it considered the mature thing to tread...</td>\n",
       "      <td>Welcome to r/TrueAskReddit. Remember that this...</td>\n",
       "      <td>It is considered the mature thing to tread car...</td>\n",
       "    </tr>\n",
       "    <tr>\n",
       "      <th>3483</th>\n",
       "      <td>Why is male bisexuality doubted more than fema...</td>\n",
       "      <td>Welcome to r/TrueAskReddit. Remember that this...</td>\n",
       "      <td>There are a few potential explanations for why...</td>\n",
       "    </tr>\n",
       "    <tr>\n",
       "      <th>3512</th>\n",
       "      <td>How do you handle situations where \"motivation...</td>\n",
       "      <td>Welcome to r/TrueAskReddit. Remember that this...</td>\n",
       "      <td>In situations where you only feel bad for not ...</td>\n",
       "    </tr>\n",
       "    <tr>\n",
       "      <th>3521</th>\n",
       "      <td>Why are people so reluctant to change their mi...</td>\n",
       "      <td>Welcome to r/TrueAskReddit. Remember that this...</td>\n",
       "      <td>People may be reluctant to change their minds ...</td>\n",
       "    </tr>\n",
       "    <tr>\n",
       "      <th>3522</th>\n",
       "      <td>how can you tell when youre being unreasonable?</td>\n",
       "      <td>Welcome to r/TrueAskReddit. Remember that this...</td>\n",
       "      <td>When you find yourself feeling angry, frustrat...</td>\n",
       "    </tr>\n",
       "    <tr>\n",
       "      <th>3600</th>\n",
       "      <td>If the results of the 2024 election is as cont...</td>\n",
       "      <td>Welcome to r/TrueAskReddit. Remember that this...</td>\n",
       "      <td>If the results of the 2024 election are as con...</td>\n",
       "    </tr>\n",
       "    <tr>\n",
       "      <th>3607</th>\n",
       "      <td>Why do children need so much attention from ot...</td>\n",
       "      <td>Welcome to r/TrueAskReddit. Remember that this...</td>\n",
       "      <td>Children need attention from others to help th...</td>\n",
       "    </tr>\n",
       "    <tr>\n",
       "      <th>3608</th>\n",
       "      <td>What effects would high quality, affordable, s...</td>\n",
       "      <td>Welcome to r/TrueAskReddit. Remember that this...</td>\n",
       "      <td>The effects of high quality, affordable sex ro...</td>\n",
       "    </tr>\n",
       "    <tr>\n",
       "      <th>3636</th>\n",
       "      <td>How do we save young men from being drawn into...</td>\n",
       "      <td>Welcome to r/TrueAskReddit. Remember that this...</td>\n",
       "      <td>1. Create and promote positive role models of ...</td>\n",
       "    </tr>\n",
       "    <tr>\n",
       "      <th>3637</th>\n",
       "      <td>Why are summer camps for children common in th...</td>\n",
       "      <td>Welcome to r/TrueAskReddit. Remember that this...</td>\n",
       "      <td>Summer camps for children are common in the Un...</td>\n",
       "    </tr>\n",
       "    <tr>\n",
       "      <th>3640</th>\n",
       "      <td>Why are we so bored despite having so many thi...</td>\n",
       "      <td>Welcome to r/TrueAskReddit. Remember that this...</td>\n",
       "      <td>We are often bored because we are so used to h...</td>\n",
       "    </tr>\n",
       "    <tr>\n",
       "      <th>3646</th>\n",
       "      <td>What generally accepted behavior now will age ...</td>\n",
       "      <td>Welcome to r/TrueAskReddit. Remember that this...</td>\n",
       "      <td>Texting while driving, not wearing a face mask...</td>\n",
       "    </tr>\n",
       "    <tr>\n",
       "      <th>3669</th>\n",
       "      <td>Why do Chinese citizens, especially Chinese mi...</td>\n",
       "      <td>Welcome to r/TrueAskReddit. Remember that this...</td>\n",
       "      <td>Chinese citizens, particularly Chinese minorit...</td>\n",
       "    </tr>\n",
       "    <tr>\n",
       "      <th>3670</th>\n",
       "      <td>Why are languages dieing considered a bad thin...</td>\n",
       "      <td>Welcome to r/TrueAskReddit. Remember that this...</td>\n",
       "      <td>Languages dying can be considered a bad thing ...</td>\n",
       "    </tr>\n",
       "    <tr>\n",
       "      <th>3689</th>\n",
       "      <td>Can a child (or adult) who has trauma-based em...</td>\n",
       "      <td>Welcome to r/TrueAskReddit. Remember that this...</td>\n",
       "      <td>Yes, it is possible for someone with trauma-ba...</td>\n",
       "    </tr>\n",
       "    <tr>\n",
       "      <th>3703</th>\n",
       "      <td>What are the caveats or nuances when looking a...</td>\n",
       "      <td>Welcome to r/TrueAskReddit. Remember that this...</td>\n",
       "      <td>1. Many of Trump's successes are short-term ga...</td>\n",
       "    </tr>\n",
       "    <tr>\n",
       "      <th>3711</th>\n",
       "      <td>To what extent should we put the burden of sav...</td>\n",
       "      <td>Welcome to r/TrueAskReddit. Remember that this...</td>\n",
       "      <td>The burden of saving the environment should be...</td>\n",
       "    </tr>\n",
       "    <tr>\n",
       "      <th>3712</th>\n",
       "      <td>How can the problem of uninformed and irration...</td>\n",
       "      <td>Welcome to r/TrueAskReddit. Remember that this...</td>\n",
       "      <td>1. Increase voter education: Governments shoul...</td>\n",
       "    </tr>\n",
       "    <tr>\n",
       "      <th>3722</th>\n",
       "      <td>Is it fine to live in a daydream instead of ac...</td>\n",
       "      <td>Welcome to r/TrueAskReddit. Remember that this...</td>\n",
       "      <td>It can be fine to live in a daydream instead o...</td>\n",
       "    </tr>\n",
       "    <tr>\n",
       "      <th>3751</th>\n",
       "      <td>Why does it seem that drug addiction is the ad...</td>\n",
       "      <td>Welcome to r/TrueAskReddit. Remember that this...</td>\n",
       "      <td>Drug addiction often leads to homelessness and...</td>\n",
       "    </tr>\n",
       "  </tbody>\n",
       "</table>\n",
       "</div>"
      ],
      "text/plain": [
       "                                                    title  \\\n",
       "row_id                                                      \n",
       "874                             Guys i feel like an idiot   \n",
       "2381    Is it all about building the same mediocre pro...   \n",
       "3185    China has had almost zero recorded cases of co...   \n",
       "3192                           Is it all Carpe diem then?   \n",
       "3199    Why don't the Olympics maintain a single venue...   \n",
       "3210    If you are punished for being an efficient and...   \n",
       "3214    Today as an American, I constantly hear about ...   \n",
       "3258    Is it better to teach your teens to be realist...   \n",
       "3309    Why is child abuse on boys played for laughs i...   \n",
       "3320    Would the GameStop short squeeze be as controv...   \n",
       "3331    If all suffering is not physical, why is the r...   \n",
       "3338    What do you think children of today will chang...   \n",
       "3370    How to rekindle that childlike sense of wonder...   \n",
       "3374    It's been said that public education in the US...   \n",
       "3387    Why do people give so much value to those who ...   \n",
       "3396    What's the point of a democracy where the elec...   \n",
       "3405    After the covid vaccine gets to everyone and e...   \n",
       "3406    What harmful things are still being taught in ...   \n",
       "3416    What steps should a person take if they find t...   \n",
       "3418    Why is it that increasing numbers of people on...   \n",
       "3426    How can we protect the civilization from growi...   \n",
       "3433    Has peaceful protest lost its effectiveness in...   \n",
       "3463    Why is it considered the mature thing to tread...   \n",
       "3483    Why is male bisexuality doubted more than fema...   \n",
       "3512    How do you handle situations where \"motivation...   \n",
       "3521    Why are people so reluctant to change their mi...   \n",
       "3522      how can you tell when youre being unreasonable?   \n",
       "3600    If the results of the 2024 election is as cont...   \n",
       "3607    Why do children need so much attention from ot...   \n",
       "3608    What effects would high quality, affordable, s...   \n",
       "3636    How do we save young men from being drawn into...   \n",
       "3637    Why are summer camps for children common in th...   \n",
       "3640    Why are we so bored despite having so many thi...   \n",
       "3646    What generally accepted behavior now will age ...   \n",
       "3669    Why do Chinese citizens, especially Chinese mi...   \n",
       "3670    Why are languages dieing considered a bad thin...   \n",
       "3689    Can a child (or adult) who has trauma-based em...   \n",
       "3703    What are the caveats or nuances when looking a...   \n",
       "3711    To what extent should we put the burden of sav...   \n",
       "3712    How can the problem of uninformed and irration...   \n",
       "3722    Is it fine to live in a daydream instead of ac...   \n",
       "3751    Why does it seem that drug addiction is the ad...   \n",
       "\n",
       "                                              top_comment  \\\n",
       "row_id                                                      \n",
       "874     Welcome to being a man make sure to stick it i...   \n",
       "2381    Welcome to work. Unless you’re inventing somet...   \n",
       "3185    Welcome to r/TrueAskReddit. Remember that this...   \n",
       "3192    Welcome to r/TrueAskReddit. Remember that this...   \n",
       "3199    Welcome to r/TrueAskReddit. Remember that this...   \n",
       "3210    Welcome to r/TrueAskReddit. Remember that this...   \n",
       "3214    Welcome to r/TrueAskReddit. Remember that this...   \n",
       "3258    Welcome to r/TrueAskReddit. Remember that this...   \n",
       "3309    Welcome to r/TrueAskReddit. Remember that this...   \n",
       "3320    Welcome to r/TrueAskReddit. Remember that this...   \n",
       "3331    Welcome to r/TrueAskReddit. Remember that this...   \n",
       "3338    Welcome to r/TrueAskReddit. Remember that this...   \n",
       "3370    Welcome to r/TrueAskReddit. Remember that this...   \n",
       "3374    Welcome to r/TrueAskReddit. Remember that this...   \n",
       "3387    Welcome to r/TrueAskReddit. Remember that this...   \n",
       "3396    Welcome to r/TrueAskReddit. Remember that this...   \n",
       "3405    Welcome to r/TrueAskReddit. Remember that this...   \n",
       "3406    Welcome to r/TrueAskReddit. Remember that this...   \n",
       "3416    Welcome to r/TrueAskReddit. Remember that this...   \n",
       "3418    Welcome to r/TrueAskReddit. Remember that this...   \n",
       "3426    Welcome to r/TrueAskReddit. Remember that this...   \n",
       "3433    Welcome to r/TrueAskReddit. Remember that this...   \n",
       "3463    Welcome to r/TrueAskReddit. Remember that this...   \n",
       "3483    Welcome to r/TrueAskReddit. Remember that this...   \n",
       "3512    Welcome to r/TrueAskReddit. Remember that this...   \n",
       "3521    Welcome to r/TrueAskReddit. Remember that this...   \n",
       "3522    Welcome to r/TrueAskReddit. Remember that this...   \n",
       "3600    Welcome to r/TrueAskReddit. Remember that this...   \n",
       "3607    Welcome to r/TrueAskReddit. Remember that this...   \n",
       "3608    Welcome to r/TrueAskReddit. Remember that this...   \n",
       "3636    Welcome to r/TrueAskReddit. Remember that this...   \n",
       "3637    Welcome to r/TrueAskReddit. Remember that this...   \n",
       "3640    Welcome to r/TrueAskReddit. Remember that this...   \n",
       "3646    Welcome to r/TrueAskReddit. Remember that this...   \n",
       "3669    Welcome to r/TrueAskReddit. Remember that this...   \n",
       "3670    Welcome to r/TrueAskReddit. Remember that this...   \n",
       "3689    Welcome to r/TrueAskReddit. Remember that this...   \n",
       "3703    Welcome to r/TrueAskReddit. Remember that this...   \n",
       "3711    Welcome to r/TrueAskReddit. Remember that this...   \n",
       "3712    Welcome to r/TrueAskReddit. Remember that this...   \n",
       "3722    Welcome to r/TrueAskReddit. Remember that this...   \n",
       "3751    Welcome to r/TrueAskReddit. Remember that this...   \n",
       "\n",
       "                                                  answers  \n",
       "row_id                                                     \n",
       "874     .\\n\\nThat's okay. We all make mistakes sometim...  \n",
       "2381    again?\\n\\nNo, it is not. Building the same med...  \n",
       "3185    Journalists are likely reporting on this topic...  \n",
       "3192    No, not necessarily. Carpe diem is a Latin phr...  \n",
       "3199    The Olympics are a global event, and maintaini...  \n",
       "3210    No, it is not morally acceptable to stop givin...  \n",
       "3214    1. Invest in infrastructure: Investing in our ...  \n",
       "3258    Yes, it is better to teach teens to be realist...  \n",
       "3309    Child abuse is often played for laughs in movi...  \n",
       "3320    It is possible that a similar short squeeze by...  \n",
       "3331    The right to die is not fully extended to peop...  \n",
       "3338    Children of today will likely bring a greater ...  \n",
       "3370    1. Take up a hobby that you have always wanted...  \n",
       "3374    The alternative to public education designed t...  \n",
       "3387    People often give more value to celebrities be...  \n",
       "3396    The point of democracy is to give citizens a s...  \n",
       "3405    It is difficult to predict how society will ad...  \n",
       "3406    1. Gender roles and stereotypes: In some schoo...  \n",
       "3416    1. Monitor and document changes in the governm...  \n",
       "3418    The internet can be an isolating environment f...  \n",
       "3426    1. Strengthen public education systems to ensu...  \n",
       "3433    No, peaceful protest has not lost its effectiv...  \n",
       "3463    It is considered the mature thing to tread car...  \n",
       "3483    There are a few potential explanations for why...  \n",
       "3512    In situations where you only feel bad for not ...  \n",
       "3521    People may be reluctant to change their minds ...  \n",
       "3522    When you find yourself feeling angry, frustrat...  \n",
       "3600    If the results of the 2024 election are as con...  \n",
       "3607    Children need attention from others to help th...  \n",
       "3608    The effects of high quality, affordable sex ro...  \n",
       "3636    1. Create and promote positive role models of ...  \n",
       "3637    Summer camps for children are common in the Un...  \n",
       "3640    We are often bored because we are so used to h...  \n",
       "3646    Texting while driving, not wearing a face mask...  \n",
       "3669    Chinese citizens, particularly Chinese minorit...  \n",
       "3670    Languages dying can be considered a bad thing ...  \n",
       "3689    Yes, it is possible for someone with trauma-ba...  \n",
       "3703    1. Many of Trump's successes are short-term ga...  \n",
       "3711    The burden of saving the environment should be...  \n",
       "3712    1. Increase voter education: Governments shoul...  \n",
       "3722    It can be fine to live in a daydream instead o...  \n",
       "3751    Drug addiction often leads to homelessness and...  "
      ]
     },
     "execution_count": 432,
     "metadata": {},
     "output_type": "execute_result"
    }
   ],
   "source": [
    "#Remove ones that start with 'Welcome'\n",
    "#Going to check how they start with Welcome\n",
    "real[real['top_comment'].str.startswith('Welcome')]"
   ]
  },
  {
   "cell_type": "code",
   "execution_count": 433,
   "id": "c9437647",
   "metadata": {
    "scrolled": true
   },
   "outputs": [
    {
     "data": {
      "text/plain": [
       "'Welcome to r/TrueAskReddit. Remember that this subreddit is aimed at high quality discussion, so please elaborate on your answer as much as you can and avoid off-topic or jokey answers as per [subreddit rules](https://www.reddit.com/r/TrueAskReddit/about/sidebar).\\n\\n*I am a bot, and this action was performed automatically. Please [contact the moderators of this subreddit](/message/compose/?to=/r/TrueAskReddit) if you have any questions or concerns.*'"
      ]
     },
     "execution_count": 433,
     "metadata": {},
     "output_type": "execute_result"
    }
   ],
   "source": [
    "real.loc[3185, 'top_comment']"
   ]
  },
  {
   "cell_type": "code",
   "execution_count": 434,
   "id": "965de57b",
   "metadata": {},
   "outputs": [
    {
     "data": {
      "text/plain": [
       "(3499, 3)"
      ]
     },
     "execution_count": 434,
     "metadata": {},
     "output_type": "execute_result"
    }
   ],
   "source": [
    "#Deleting rows with the welcome message shown above\n",
    "real = real[real.top_comment != 'Welcome to r/TrueAskReddit. Remember that this subreddit is aimed at high quality discussion, so please elaborate on your answer as much as you can and avoid off-topic or jokey answers as per [subreddit rules](https://www.reddit.com/r/TrueAskReddit/about/sidebar).\\n\\n*I am a bot, and this action was performed automatically. Please [contact the moderators of this subreddit](/message/compose/?to=/r/TrueAskReddit) if you have any questions or concerns.*']\n",
    "real.shape"
   ]
  },
  {
   "cell_type": "code",
   "execution_count": 435,
   "id": "b9120767",
   "metadata": {},
   "outputs": [
    {
     "data": {
      "text/plain": [
       "'again?\\n\\nNo, it is not. Building the same mediocre products over and over again is not the goal of product development; rather, the goal is to build innovative products that provide value to customers. Product development involves a continuous cycle of research, design, testing, and improvement to ensure that products are meeting customer needs and staying ahead of the competition.'"
      ]
     },
     "execution_count": 435,
     "metadata": {},
     "output_type": "execute_result"
    }
   ],
   "source": [
    "real.loc[2381, 'answers']"
   ]
  },
  {
   "cell_type": "code",
   "execution_count": 436,
   "id": "85dc3f01",
   "metadata": {},
   "outputs": [
    {
     "data": {
      "text/plain": [
       "'again? No, it is not. Building the same mediocre products over and over again is not the goal of product development; rather, the goal is to build innovative products that provide value to customers. Product development involves a continuous cycle of research, design, testing, and improvement to ensure that products are meeting customer needs and staying ahead of the competition.'"
      ]
     },
     "execution_count": 436,
     "metadata": {},
     "output_type": "execute_result"
    }
   ],
   "source": [
    "#I thought I deleted whitespace with .strip(), but I see \\n\\n in AI answers\n",
    "#Will need to remove that\n",
    "#https://www.w3schools.com/python/ref_string_replace.asp\n",
    "real['answers'] = real['answers'].str.replace('\\n\\n', ' ')\n",
    "real.loc[2381, 'answers']"
   ]
  },
  {
   "cell_type": "code",
   "execution_count": 437,
   "id": "5c33bb78",
   "metadata": {},
   "outputs": [
    {
     "data": {
      "text/plain": [
       "(3499, 3)"
      ]
     },
     "execution_count": 437,
     "metadata": {},
     "output_type": "execute_result"
    }
   ],
   "source": [
    "real.shape"
   ]
  },
  {
   "cell_type": "code",
   "execution_count": 438,
   "id": "c3580ac4",
   "metadata": {},
   "outputs": [
    {
     "data": {
      "text/plain": [
       "6889"
      ]
     },
     "execution_count": 438,
     "metadata": {},
     "output_type": "execute_result"
    }
   ],
   "source": [
    "#Checking for all markdown shortcuts given from reddit\n",
    "#https://www.reddit.com/wiki/markdown/\n",
    "#Will need to remove as raw string\n",
    "#https://saturncloud.io/blog/how-to-count-occurrences-of-certain-words-in-pandas-dataframe/#:~:text=By%20using%20the%20str.,appear%20in%20a%20dataframe%20column.\n",
    "#https://www.geeksforgeeks.org/python-raw-strings/\n",
    "real['top_comment'].str.count(r'\\*').sum()"
   ]
  },
  {
   "cell_type": "code",
   "execution_count": 439,
   "id": "5402e8f8",
   "metadata": {},
   "outputs": [
    {
     "data": {
      "text/plain": [
       "13729"
      ]
     },
     "execution_count": 439,
     "metadata": {},
     "output_type": "execute_result"
    }
   ],
   "source": [
    "real['top_comment'].str.count(r'\\n').sum()"
   ]
  },
  {
   "cell_type": "code",
   "execution_count": 440,
   "id": "18ca4264",
   "metadata": {
    "scrolled": true
   },
   "outputs": [
    {
     "data": {
      "text/plain": [
       "626"
      ]
     },
     "execution_count": 440,
     "metadata": {},
     "output_type": "execute_result"
    }
   ],
   "source": [
    "real['top_comment'].str.count(r'--').sum()"
   ]
  },
  {
   "cell_type": "code",
   "execution_count": 441,
   "id": "6511dc60",
   "metadata": {},
   "outputs": [
    {
     "data": {
      "text/plain": [
       "0"
      ]
     },
     "execution_count": 441,
     "metadata": {},
     "output_type": "execute_result"
    }
   ],
   "source": [
    "real['top_comment'].str.count(r'>!spoilers!<').sum()"
   ]
  },
  {
   "cell_type": "code",
   "execution_count": 442,
   "id": "d8b030ac",
   "metadata": {},
   "outputs": [
    {
     "data": {
      "text/plain": [
       "0"
      ]
     },
     "execution_count": 442,
     "metadata": {},
     "output_type": "execute_result"
    }
   ],
   "source": [
    "real['top_comment'].str.count(r'superscript').sum()"
   ]
  },
  {
   "cell_type": "code",
   "execution_count": 443,
   "id": "ff03cf40",
   "metadata": {},
   "outputs": [
    {
     "data": {
      "text/plain": [
       "0"
      ]
     },
     "execution_count": 443,
     "metadata": {},
     "output_type": "execute_result"
    }
   ],
   "source": [
    "real['top_comment'].str.count(r\"'code'\").sum()"
   ]
  },
  {
   "cell_type": "code",
   "execution_count": 444,
   "id": "92a0ab76",
   "metadata": {},
   "outputs": [
    {
     "data": {
      "text/plain": [
       "30"
      ]
     },
     "execution_count": 444,
     "metadata": {},
     "output_type": "execute_result"
    }
   ],
   "source": [
    "real['top_comment'].str.count(r\"u/reddit\").sum()"
   ]
  },
  {
   "cell_type": "code",
   "execution_count": 445,
   "id": "45b9b4e7",
   "metadata": {},
   "outputs": [
    {
     "data": {
      "text/plain": [
       "176"
      ]
     },
     "execution_count": 445,
     "metadata": {},
     "output_type": "execute_result"
    }
   ],
   "source": [
    "real['top_comment'].str.count(r\"# \").sum()"
   ]
  },
  {
   "cell_type": "code",
   "execution_count": 446,
   "id": "d4e1335f",
   "metadata": {},
   "outputs": [
    {
     "data": {
      "text/plain": [
       "0"
      ]
     },
     "execution_count": 446,
     "metadata": {},
     "output_type": "execute_result"
    }
   ],
   "source": [
    "#Deletng all \\n\n",
    "real['top_comment'] = real['top_comment'].str.replace('\\n', ' ')\n",
    "real['top_comment'].str.count(r'\\n').sum()"
   ]
  },
  {
   "cell_type": "code",
   "execution_count": 447,
   "id": "4bf5df8b",
   "metadata": {},
   "outputs": [],
   "source": [
    "filterr = real[real['top_comment'].str.contains(r'--')]\n",
    "#Not going to delete this as some people actually use this within their text to convey message"
   ]
  },
  {
   "cell_type": "code",
   "execution_count": 448,
   "id": "498bc56e",
   "metadata": {},
   "outputs": [],
   "source": [
    "#Checking for u/reddit\n",
    "filterr = real[real['top_comment'].str.contains('u/reddit')]"
   ]
  },
  {
   "cell_type": "code",
   "execution_count": 449,
   "id": "a1f6e15c",
   "metadata": {
    "scrolled": true
   },
   "outputs": [
    {
     "data": {
      "text/html": [
       "<div>\n",
       "<style scoped>\n",
       "    .dataframe tbody tr th:only-of-type {\n",
       "        vertical-align: middle;\n",
       "    }\n",
       "\n",
       "    .dataframe tbody tr th {\n",
       "        vertical-align: top;\n",
       "    }\n",
       "\n",
       "    .dataframe thead th {\n",
       "        text-align: right;\n",
       "    }\n",
       "</style>\n",
       "<table border=\"1\" class=\"dataframe\">\n",
       "  <thead>\n",
       "    <tr style=\"text-align: right;\">\n",
       "      <th></th>\n",
       "      <th>title</th>\n",
       "      <th>top_comment</th>\n",
       "      <th>answers</th>\n",
       "    </tr>\n",
       "    <tr>\n",
       "      <th>row_id</th>\n",
       "      <th></th>\n",
       "      <th></th>\n",
       "      <th></th>\n",
       "    </tr>\n",
       "  </thead>\n",
       "  <tbody>\n",
       "    <tr>\n",
       "      <th>1900</th>\n",
       "      <td>Referrals Are King - A Shithead Guide On Succe...</td>\n",
       "      <td>A recent Reddit policy change threatens to kil...</td>\n",
       "      <td>1. Network, network, network. The best way to ...</td>\n",
       "    </tr>\n",
       "    <tr>\n",
       "      <th>1989</th>\n",
       "      <td>Years ago, I accidentally deleted the entire c...</td>\n",
       "      <td>A recent Reddit policy change threatens to kil...</td>\n",
       "      <td>I knew I had made a terrible mistake, and I im...</td>\n",
       "    </tr>\n",
       "    <tr>\n",
       "      <th>2028</th>\n",
       "      <td>Wow my team at Adobe put up a job offer for a ...</td>\n",
       "      <td>A recent Reddit policy change threatens to kil...</td>\n",
       "      <td>That's incredible! It speaks to the high quali...</td>\n",
       "    </tr>\n",
       "    <tr>\n",
       "      <th>2049</th>\n",
       "      <td>This sub is horrible for your mental health (s...</td>\n",
       "      <td>A recent Reddit policy change threatens to kil...</td>\n",
       "      <td>We understand that mental health is a very imp...</td>\n",
       "    </tr>\n",
       "    <tr>\n",
       "      <th>2051</th>\n",
       "      <td>I was laid-off/fired - UPDATE - junior who bro...</td>\n",
       "      <td>A recent Reddit policy change threatens to kil...</td>\n",
       "      <td>rules If you were laid off or fired for breaki...</td>\n",
       "    </tr>\n",
       "    <tr>\n",
       "      <th>2084</th>\n",
       "      <td>My manager got into a car crash while he was o...</td>\n",
       "      <td>A recent Reddit policy change threatens to kil...</td>\n",
       "      <td>If your manager was on a Zoom call while they ...</td>\n",
       "    </tr>\n",
       "    <tr>\n",
       "      <th>2174</th>\n",
       "      <td>Software Engineering isn't a backup career</td>\n",
       "      <td>A recent Reddit policy change threatens to kil...</td>\n",
       "      <td>No, it is not. Software engineering is a highl...</td>\n",
       "    </tr>\n",
       "    <tr>\n",
       "      <th>2176</th>\n",
       "      <td>Replying to unsolicited recruiters with \"No fu...</td>\n",
       "      <td>A recent Reddit policy change threatens to kil...</td>\n",
       "      <td>Thank you for your interest in my skills and e...</td>\n",
       "    </tr>\n",
       "    <tr>\n",
       "      <th>2178</th>\n",
       "      <td>Made fun of during a live coding round for usi...</td>\n",
       "      <td>A recent Reddit policy change threatens to kil...</td>\n",
       "      <td>That's okay - everyone makes mistakes when cod...</td>\n",
       "    </tr>\n",
       "    <tr>\n",
       "      <th>2221</th>\n",
       "      <td>How I used LinkedIn to land a great job</td>\n",
       "      <td>A recent Reddit policy change threatens to kil...</td>\n",
       "      <td>I used LinkedIn to land a great job by leverag...</td>\n",
       "    </tr>\n",
       "    <tr>\n",
       "      <th>2236</th>\n",
       "      <td>I’m astounded by the talent out there that can...</td>\n",
       "      <td>A recent Reddit policy change threatens to kil...</td>\n",
       "      <td>. It is truly disheartening that so many peopl...</td>\n",
       "    </tr>\n",
       "    <tr>\n",
       "      <th>2283</th>\n",
       "      <td>Screen sharing gone wrong</td>\n",
       "      <td>A recent Reddit policy change threatens to kil...</td>\n",
       "      <td>Screen sharing gone wrong can occur when someo...</td>\n",
       "    </tr>\n",
       "    <tr>\n",
       "      <th>2358</th>\n",
       "      <td>I’m at my wit’s end. Is the market really this...</td>\n",
       "      <td>A recent Reddit policy change threatens to kil...</td>\n",
       "      <td>It can be difficult to navigate the market in ...</td>\n",
       "    </tr>\n",
       "    <tr>\n",
       "      <th>2362</th>\n",
       "      <td>My experience being laid off in the current ma...</td>\n",
       "      <td>A recent Reddit policy change threatens to kil...</td>\n",
       "      <td>Being laid off in the current market has been ...</td>\n",
       "    </tr>\n",
       "    <tr>\n",
       "      <th>2436</th>\n",
       "      <td>My coworker \"refactored\" all of my code while ...</td>\n",
       "      <td>A recent Reddit policy change threatens to kil...</td>\n",
       "      <td>It's important to have clear communication abo...</td>\n",
       "    </tr>\n",
       "  </tbody>\n",
       "</table>\n",
       "</div>"
      ],
      "text/plain": [
       "                                                    title  \\\n",
       "row_id                                                      \n",
       "1900    Referrals Are King - A Shithead Guide On Succe...   \n",
       "1989    Years ago, I accidentally deleted the entire c...   \n",
       "2028    Wow my team at Adobe put up a job offer for a ...   \n",
       "2049    This sub is horrible for your mental health (s...   \n",
       "2051    I was laid-off/fired - UPDATE - junior who bro...   \n",
       "2084    My manager got into a car crash while he was o...   \n",
       "2174           Software Engineering isn't a backup career   \n",
       "2176    Replying to unsolicited recruiters with \"No fu...   \n",
       "2178    Made fun of during a live coding round for usi...   \n",
       "2221              How I used LinkedIn to land a great job   \n",
       "2236    I’m astounded by the talent out there that can...   \n",
       "2283                            Screen sharing gone wrong   \n",
       "2358    I’m at my wit’s end. Is the market really this...   \n",
       "2362    My experience being laid off in the current ma...   \n",
       "2436    My coworker \"refactored\" all of my code while ...   \n",
       "\n",
       "                                              top_comment  \\\n",
       "row_id                                                      \n",
       "1900    A recent Reddit policy change threatens to kil...   \n",
       "1989    A recent Reddit policy change threatens to kil...   \n",
       "2028    A recent Reddit policy change threatens to kil...   \n",
       "2049    A recent Reddit policy change threatens to kil...   \n",
       "2051    A recent Reddit policy change threatens to kil...   \n",
       "2084    A recent Reddit policy change threatens to kil...   \n",
       "2174    A recent Reddit policy change threatens to kil...   \n",
       "2176    A recent Reddit policy change threatens to kil...   \n",
       "2178    A recent Reddit policy change threatens to kil...   \n",
       "2221    A recent Reddit policy change threatens to kil...   \n",
       "2236    A recent Reddit policy change threatens to kil...   \n",
       "2283    A recent Reddit policy change threatens to kil...   \n",
       "2358    A recent Reddit policy change threatens to kil...   \n",
       "2362    A recent Reddit policy change threatens to kil...   \n",
       "2436    A recent Reddit policy change threatens to kil...   \n",
       "\n",
       "                                                  answers  \n",
       "row_id                                                     \n",
       "1900    1. Network, network, network. The best way to ...  \n",
       "1989    I knew I had made a terrible mistake, and I im...  \n",
       "2028    That's incredible! It speaks to the high quali...  \n",
       "2049    We understand that mental health is a very imp...  \n",
       "2051    rules If you were laid off or fired for breaki...  \n",
       "2084    If your manager was on a Zoom call while they ...  \n",
       "2174    No, it is not. Software engineering is a highl...  \n",
       "2176    Thank you for your interest in my skills and e...  \n",
       "2178    That's okay - everyone makes mistakes when cod...  \n",
       "2221    I used LinkedIn to land a great job by leverag...  \n",
       "2236    . It is truly disheartening that so many peopl...  \n",
       "2283    Screen sharing gone wrong can occur when someo...  \n",
       "2358    It can be difficult to navigate the market in ...  \n",
       "2362    Being laid off in the current market has been ...  \n",
       "2436    It's important to have clear communication abo...  "
      ]
     },
     "execution_count": 449,
     "metadata": {},
     "output_type": "execute_result"
    }
   ],
   "source": [
    "filterr.head(20)\n",
    "#Going to have to delete all the below with that automated comment"
   ]
  },
  {
   "cell_type": "code",
   "execution_count": 450,
   "id": "9898960a",
   "metadata": {},
   "outputs": [
    {
     "data": {
      "text/plain": [
       "\"A recent Reddit policy change threatens to kill many beloved third-party mobile apps, making a great many quality-of-life features not seen in the official mobile app **permanently inaccessible** to users.  On May 31, 2023, Reddit announced they were raising the price to make calls to their API from being free to a level that will kill every third party app on Reddit, from [Apollo](https://www.reddit.com/r/apolloapp/comments/13ws4w3/had_a_call_with_reddit_to_discuss_pricing_bad/) to [Reddit is Fun](https://www.reddit.com/r/redditisfun/comments/13wxepd/rif_dev_here_reddits_api_changes_will_likely_kill/) to [Narwhal](https://www.reddit.com/r/getnarwhal/comments/13wv038/reddit_have_quoted_the_apollo_devs_a_ridiculous/jmdqtyt/) to [BaconReader](https://www.reddit.com/r/baconreader/comments/13wveb2/reddit_api_changes_and_baconreader/).  Even if you're not a mobile user and don't use any of those apps, this is a step toward killing other ways of customizing Reddit, such as Reddit Enhancement Suite or the use of the old.reddit.com desktop interface .  This isn't only a problem on the user level: many subreddit moderators depend on tools only available outside the official app to keep their communities on-topic and spam-free.  &#x200B;  What can *you* do?  1. **Complain.** Message the mods of r/reddit.com, who are the admins of the site: message [/u/reddit](https://www.reddit.com/u/reddit/): submit a [support request](https://support.reddithelp.com/hc/en-us/requests/new): comment in relevant threads on [r/reddit](https://www.reddit.com/r/reddit/), such as [this one](https://www.reddit.com/r/reddit/comments/12qwagm/an_update_regarding_reddits_api/), leave a negative review on their official iOS or Android app- and sign your username in support to this post. 2. **Spread the word.** Rabble-rouse on related subreddits. Meme it up, make it spicy. Bitch about it to your cat. Suggest anyone you know who moderates a subreddit join us at our sister sub at [r/ModCoord](https://www.reddit.com/r/ModCoord/) \\\\- but please don't pester mods you *don't* know by simply spamming their modmail. 3. **Boycott** ***and*** **spread the word...to Reddit's competition!** Stay off Reddit as much as you can, instead, take to your favorite *non*\\\\-Reddit platform of choice and make some noise in support!   https://discord.gg/cscareerhub  https://programming.dev  4. **Don't be a jerk.** As upsetting this may be, threats, profanity and vandalism will be worse than useless in getting people on our side. Please make every effort to be as restrained, polite, reasonable and law-abiding as possible.   *I am a bot, and this action was performed automatically. Please [contact the moderators of this subreddit](/message/compose/?to=/r/cscareerquestions) if you have any questions or concerns.*\""
      ]
     },
     "execution_count": 450,
     "metadata": {},
     "output_type": "execute_result"
    }
   ],
   "source": [
    "real.loc[1900, 'top_comment']"
   ]
  },
  {
   "cell_type": "code",
   "execution_count": 451,
   "id": "921411f1",
   "metadata": {},
   "outputs": [
    {
     "data": {
      "text/plain": [
       "(3484, 3)"
      ]
     },
     "execution_count": 451,
     "metadata": {},
     "output_type": "execute_result"
    }
   ],
   "source": [
    "real = real[real.top_comment != f\"A recent Reddit policy change threatens to kill many beloved third-party mobile apps, making a great many quality-of-life features not seen in the official mobile app **permanently inaccessible** to users.  On May 31, 2023, Reddit announced they were raising the price to make calls to their API from being free to a level that will kill every third party app on Reddit, from [Apollo](https://www.reddit.com/r/apolloapp/comments/13ws4w3/had_a_call_with_reddit_to_discuss_pricing_bad/) to [Reddit is Fun](https://www.reddit.com/r/redditisfun/comments/13wxepd/rif_dev_here_reddits_api_changes_will_likely_kill/) to [Narwhal](https://www.reddit.com/r/getnarwhal/comments/13wv038/reddit_have_quoted_the_apollo_devs_a_ridiculous/jmdqtyt/) to [BaconReader](https://www.reddit.com/r/baconreader/comments/13wveb2/reddit_api_changes_and_baconreader/).  Even if you're not a mobile user and don't use any of those apps, this is a step toward killing other ways of customizing Reddit, such as Reddit Enhancement Suite or the use of the old.reddit.com desktop interface .  This isn't only a problem on the user level: many subreddit moderators depend on tools only available outside the official app to keep their communities on-topic and spam-free.  &#x200B;  What can *you* do?  1. **Complain.** Message the mods of r/reddit.com, who are the admins of the site: message [/u/reddit](https://www.reddit.com/u/reddit/): submit a [support request](https://support.reddithelp.com/hc/en-us/requests/new): comment in relevant threads on [r/reddit](https://www.reddit.com/r/reddit/), such as [this one](https://www.reddit.com/r/reddit/comments/12qwagm/an_update_regarding_reddits_api/), leave a negative review on their official iOS or Android app- and sign your username in support to this post. 2. **Spread the word.** Rabble-rouse on related subreddits. Meme it up, make it spicy. Bitch about it to your cat. Suggest anyone you know who moderates a subreddit join us at our sister sub at [r/ModCoord](https://www.reddit.com/r/ModCoord/) \\\\- but please don't pester mods you *don't* know by simply spamming their modmail. 3. **Boycott** ***and*** **spread the word...to Reddit's competition!** Stay off Reddit as much as you can, instead, take to your favorite *non*\\\\-Reddit platform of choice and make some noise in support!   https://discord.gg/cscareerhub  https://programming.dev  4. **Don't be a jerk.** As upsetting this may be, threats, profanity and vandalism will be worse than useless in getting people on our side. Please make every effort to be as restrained, polite, reasonable and law-abiding as possible.   *I am a bot, and this action was performed automatically. Please [contact the moderators of this subreddit](/message/compose/?to=/r/cscareerquestions) if you have any questions or concerns.*\"]\n",
    "real.shape"
   ]
  },
  {
   "cell_type": "code",
   "execution_count": 452,
   "id": "70eb4720",
   "metadata": {},
   "outputs": [],
   "source": [
    "#Deleting all # with a space afterwards as represents header\n",
    "real['top_comment'] = real['top_comment'].str.replace('# ', ' ')"
   ]
  },
  {
   "cell_type": "code",
   "execution_count": 453,
   "id": "979942d1",
   "metadata": {},
   "outputs": [
    {
     "data": {
      "text/html": [
       "<div>\n",
       "<style scoped>\n",
       "    .dataframe tbody tr th:only-of-type {\n",
       "        vertical-align: middle;\n",
       "    }\n",
       "\n",
       "    .dataframe tbody tr th {\n",
       "        vertical-align: top;\n",
       "    }\n",
       "\n",
       "    .dataframe thead th {\n",
       "        text-align: right;\n",
       "    }\n",
       "</style>\n",
       "<table border=\"1\" class=\"dataframe\">\n",
       "  <thead>\n",
       "    <tr style=\"text-align: right;\">\n",
       "      <th></th>\n",
       "      <th>row_id</th>\n",
       "      <th>answer</th>\n",
       "      <th>who_from</th>\n",
       "    </tr>\n",
       "  </thead>\n",
       "  <tbody>\n",
       "    <tr>\n",
       "      <th>0</th>\n",
       "      <td>1</td>\n",
       "      <td>I’ve actually done this before.   Tie a whole ...</td>\n",
       "      <td>0</td>\n",
       "    </tr>\n",
       "    <tr>\n",
       "      <th>1</th>\n",
       "      <td>2</td>\n",
       "      <td>Brewster Kahle is the man responsible for this...</td>\n",
       "      <td>0</td>\n",
       "    </tr>\n",
       "    <tr>\n",
       "      <th>2</th>\n",
       "      <td>4</td>\n",
       "      <td>This is my favorite type of update post! All t...</td>\n",
       "      <td>0</td>\n",
       "    </tr>\n",
       "    <tr>\n",
       "      <th>3</th>\n",
       "      <td>6</td>\n",
       "      <td>Oh I have been DYING to know how this worked o...</td>\n",
       "      <td>0</td>\n",
       "    </tr>\n",
       "    <tr>\n",
       "      <th>4</th>\n",
       "      <td>9</td>\n",
       "      <td>Thank you for all efforts for this culinary en...</td>\n",
       "      <td>0</td>\n",
       "    </tr>\n",
       "    <tr>\n",
       "      <th>...</th>\n",
       "      <td>...</td>\n",
       "      <td>...</td>\n",
       "      <td>...</td>\n",
       "    </tr>\n",
       "    <tr>\n",
       "      <th>4995</th>\n",
       "      <td>1579</td>\n",
       "      <td>The most common reason for fans having an odd ...</td>\n",
       "      <td>1</td>\n",
       "    </tr>\n",
       "    <tr>\n",
       "      <th>4996</th>\n",
       "      <td>1580</td>\n",
       "      <td>It's possible that this is codespeak for \"Woul...</td>\n",
       "      <td>1</td>\n",
       "    </tr>\n",
       "    <tr>\n",
       "      <th>4997</th>\n",
       "      <td>1581</td>\n",
       "      <td>If I were to go to prison, I envision my role ...</td>\n",
       "      <td>1</td>\n",
       "    </tr>\n",
       "    <tr>\n",
       "      <th>4998</th>\n",
       "      <td>1582</td>\n",
       "      <td>This is difficult to answer definitively, as i...</td>\n",
       "      <td>1</td>\n",
       "    </tr>\n",
       "    <tr>\n",
       "      <th>4999</th>\n",
       "      <td>1583</td>\n",
       "      <td>That depends on the company and the individual...</td>\n",
       "      <td>1</td>\n",
       "    </tr>\n",
       "  </tbody>\n",
       "</table>\n",
       "<p>5000 rows × 3 columns</p>\n",
       "</div>"
      ],
      "text/plain": [
       "      row_id                                             answer  who_from\n",
       "0          1  I’ve actually done this before.   Tie a whole ...         0\n",
       "1          2  Brewster Kahle is the man responsible for this...         0\n",
       "2          4  This is my favorite type of update post! All t...         0\n",
       "3          6  Oh I have been DYING to know how this worked o...         0\n",
       "4          9  Thank you for all efforts for this culinary en...         0\n",
       "...      ...                                                ...       ...\n",
       "4995    1579  The most common reason for fans having an odd ...         1\n",
       "4996    1580  It's possible that this is codespeak for \"Woul...         1\n",
       "4997    1581  If I were to go to prison, I envision my role ...         1\n",
       "4998    1582  This is difficult to answer definitively, as i...         1\n",
       "4999    1583  That depends on the company and the individual...         1\n",
       "\n",
       "[5000 rows x 3 columns]"
      ]
     },
     "execution_count": 453,
     "metadata": {},
     "output_type": "execute_result"
    }
   ],
   "source": [
    "#Setting up X and y\n",
    "#Referred back to practice_clean_and_model to put it all steps into one cell\n",
    "\n",
    "\n",
    "#New dataframe with answers from human, and 0 to represent human response\n",
    "df1 = pd.DataFrame()\n",
    "df1['answer'] = real['top_comment']\n",
    "df1['who_from'] = 0\n",
    "\n",
    "#New dataframe with answers from AI, and 1 to represent AI response\n",
    "df2 = pd.DataFrame()\n",
    "df2['answer'] = real['answers']\n",
    "df2['who_from'] = 1\n",
    "\n",
    "#Put df1 and df2 together\n",
    "df = pd.concat([df1, df2])\n",
    "\n",
    "#Need to fix row index\n",
    "#https://pynative.com/pandas-reset-index/#:~:text=Use%20DataFrame.reset_index()%20function,-We%20can%20use&text=reset_index()%20to%20reset%20the,of%20numbers%20starting%20at%200.\n",
    "df = df.reset_index()\n",
    "\n",
    "#Drop rows with NaN (redundant)\n",
    "df = df.dropna()\n",
    "\n",
    "df.head(5000)"
   ]
  },
  {
   "cell_type": "code",
   "execution_count": 454,
   "id": "adb51786",
   "metadata": {
    "scrolled": true
   },
   "outputs": [
    {
     "data": {
      "text/plain": [
       "(6968, 3)"
      ]
     },
     "execution_count": 454,
     "metadata": {},
     "output_type": "execute_result"
    }
   ],
   "source": [
    "df.shape"
   ]
  },
  {
   "cell_type": "code",
   "execution_count": 455,
   "id": "ad6beaed",
   "metadata": {},
   "outputs": [],
   "source": [
    "#https://medium.com/analytics-vidhya/using-natural-language-processing-in-python-to-conduct-your-own-social-listening-f0e6bda47aee\n",
    "#EDA: Going to look at top used words between Reddit and OpenAI"
   ]
  },
  {
   "cell_type": "code",
   "execution_count": 456,
   "id": "18d3ba73",
   "metadata": {},
   "outputs": [
    {
     "data": {
      "text/html": [
       "<div>\n",
       "<style scoped>\n",
       "    .dataframe tbody tr th:only-of-type {\n",
       "        vertical-align: middle;\n",
       "    }\n",
       "\n",
       "    .dataframe tbody tr th {\n",
       "        vertical-align: top;\n",
       "    }\n",
       "\n",
       "    .dataframe thead th {\n",
       "        text-align: right;\n",
       "    }\n",
       "</style>\n",
       "<table border=\"1\" class=\"dataframe\">\n",
       "  <thead>\n",
       "    <tr style=\"text-align: right;\">\n",
       "      <th></th>\n",
       "      <th>00</th>\n",
       "      <th>000</th>\n",
       "      <th>000th</th>\n",
       "      <th>001</th>\n",
       "      <th>0031</th>\n",
       "      <th>01</th>\n",
       "      <th>02282014160921</th>\n",
       "      <th>03</th>\n",
       "      <th>04</th>\n",
       "      <th>0488</th>\n",
       "      <th>...</th>\n",
       "      <th>zoomed</th>\n",
       "      <th>zoos</th>\n",
       "      <th>zorgon</th>\n",
       "      <th>zucchini</th>\n",
       "      <th>µm</th>\n",
       "      <th>étuvée</th>\n",
       "      <th>привет</th>\n",
       "      <th>参匠</th>\n",
       "      <th>醤油屋</th>\n",
       "      <th>수능</th>\n",
       "    </tr>\n",
       "  </thead>\n",
       "  <tbody>\n",
       "    <tr>\n",
       "      <th>0</th>\n",
       "      <td>0</td>\n",
       "      <td>0</td>\n",
       "      <td>0</td>\n",
       "      <td>0</td>\n",
       "      <td>0</td>\n",
       "      <td>0</td>\n",
       "      <td>0</td>\n",
       "      <td>0</td>\n",
       "      <td>0</td>\n",
       "      <td>0</td>\n",
       "      <td>...</td>\n",
       "      <td>0</td>\n",
       "      <td>0</td>\n",
       "      <td>0</td>\n",
       "      <td>0</td>\n",
       "      <td>0</td>\n",
       "      <td>0</td>\n",
       "      <td>0</td>\n",
       "      <td>0</td>\n",
       "      <td>0</td>\n",
       "      <td>0</td>\n",
       "    </tr>\n",
       "    <tr>\n",
       "      <th>1</th>\n",
       "      <td>0</td>\n",
       "      <td>0</td>\n",
       "      <td>0</td>\n",
       "      <td>0</td>\n",
       "      <td>0</td>\n",
       "      <td>0</td>\n",
       "      <td>0</td>\n",
       "      <td>0</td>\n",
       "      <td>0</td>\n",
       "      <td>0</td>\n",
       "      <td>...</td>\n",
       "      <td>0</td>\n",
       "      <td>0</td>\n",
       "      <td>0</td>\n",
       "      <td>0</td>\n",
       "      <td>0</td>\n",
       "      <td>0</td>\n",
       "      <td>0</td>\n",
       "      <td>0</td>\n",
       "      <td>0</td>\n",
       "      <td>0</td>\n",
       "    </tr>\n",
       "    <tr>\n",
       "      <th>2</th>\n",
       "      <td>0</td>\n",
       "      <td>0</td>\n",
       "      <td>0</td>\n",
       "      <td>0</td>\n",
       "      <td>0</td>\n",
       "      <td>0</td>\n",
       "      <td>0</td>\n",
       "      <td>0</td>\n",
       "      <td>0</td>\n",
       "      <td>0</td>\n",
       "      <td>...</td>\n",
       "      <td>0</td>\n",
       "      <td>0</td>\n",
       "      <td>0</td>\n",
       "      <td>0</td>\n",
       "      <td>0</td>\n",
       "      <td>0</td>\n",
       "      <td>0</td>\n",
       "      <td>0</td>\n",
       "      <td>0</td>\n",
       "      <td>0</td>\n",
       "    </tr>\n",
       "    <tr>\n",
       "      <th>3</th>\n",
       "      <td>0</td>\n",
       "      <td>0</td>\n",
       "      <td>0</td>\n",
       "      <td>0</td>\n",
       "      <td>0</td>\n",
       "      <td>0</td>\n",
       "      <td>0</td>\n",
       "      <td>0</td>\n",
       "      <td>0</td>\n",
       "      <td>0</td>\n",
       "      <td>...</td>\n",
       "      <td>0</td>\n",
       "      <td>0</td>\n",
       "      <td>0</td>\n",
       "      <td>0</td>\n",
       "      <td>0</td>\n",
       "      <td>0</td>\n",
       "      <td>0</td>\n",
       "      <td>0</td>\n",
       "      <td>0</td>\n",
       "      <td>0</td>\n",
       "    </tr>\n",
       "    <tr>\n",
       "      <th>4</th>\n",
       "      <td>0</td>\n",
       "      <td>0</td>\n",
       "      <td>0</td>\n",
       "      <td>0</td>\n",
       "      <td>0</td>\n",
       "      <td>0</td>\n",
       "      <td>0</td>\n",
       "      <td>0</td>\n",
       "      <td>0</td>\n",
       "      <td>0</td>\n",
       "      <td>...</td>\n",
       "      <td>0</td>\n",
       "      <td>0</td>\n",
       "      <td>0</td>\n",
       "      <td>0</td>\n",
       "      <td>0</td>\n",
       "      <td>0</td>\n",
       "      <td>0</td>\n",
       "      <td>0</td>\n",
       "      <td>0</td>\n",
       "      <td>0</td>\n",
       "    </tr>\n",
       "    <tr>\n",
       "      <th>...</th>\n",
       "      <td>...</td>\n",
       "      <td>...</td>\n",
       "      <td>...</td>\n",
       "      <td>...</td>\n",
       "      <td>...</td>\n",
       "      <td>...</td>\n",
       "      <td>...</td>\n",
       "      <td>...</td>\n",
       "      <td>...</td>\n",
       "      <td>...</td>\n",
       "      <td>...</td>\n",
       "      <td>...</td>\n",
       "      <td>...</td>\n",
       "      <td>...</td>\n",
       "      <td>...</td>\n",
       "      <td>...</td>\n",
       "      <td>...</td>\n",
       "      <td>...</td>\n",
       "      <td>...</td>\n",
       "      <td>...</td>\n",
       "      <td>...</td>\n",
       "    </tr>\n",
       "    <tr>\n",
       "      <th>3479</th>\n",
       "      <td>0</td>\n",
       "      <td>0</td>\n",
       "      <td>0</td>\n",
       "      <td>0</td>\n",
       "      <td>0</td>\n",
       "      <td>0</td>\n",
       "      <td>0</td>\n",
       "      <td>0</td>\n",
       "      <td>0</td>\n",
       "      <td>0</td>\n",
       "      <td>...</td>\n",
       "      <td>0</td>\n",
       "      <td>0</td>\n",
       "      <td>0</td>\n",
       "      <td>0</td>\n",
       "      <td>0</td>\n",
       "      <td>0</td>\n",
       "      <td>0</td>\n",
       "      <td>0</td>\n",
       "      <td>0</td>\n",
       "      <td>0</td>\n",
       "    </tr>\n",
       "    <tr>\n",
       "      <th>3480</th>\n",
       "      <td>0</td>\n",
       "      <td>0</td>\n",
       "      <td>0</td>\n",
       "      <td>0</td>\n",
       "      <td>0</td>\n",
       "      <td>0</td>\n",
       "      <td>0</td>\n",
       "      <td>0</td>\n",
       "      <td>0</td>\n",
       "      <td>0</td>\n",
       "      <td>...</td>\n",
       "      <td>0</td>\n",
       "      <td>0</td>\n",
       "      <td>0</td>\n",
       "      <td>0</td>\n",
       "      <td>0</td>\n",
       "      <td>0</td>\n",
       "      <td>0</td>\n",
       "      <td>0</td>\n",
       "      <td>0</td>\n",
       "      <td>0</td>\n",
       "    </tr>\n",
       "    <tr>\n",
       "      <th>3481</th>\n",
       "      <td>0</td>\n",
       "      <td>1</td>\n",
       "      <td>0</td>\n",
       "      <td>0</td>\n",
       "      <td>0</td>\n",
       "      <td>0</td>\n",
       "      <td>0</td>\n",
       "      <td>0</td>\n",
       "      <td>0</td>\n",
       "      <td>0</td>\n",
       "      <td>...</td>\n",
       "      <td>0</td>\n",
       "      <td>0</td>\n",
       "      <td>0</td>\n",
       "      <td>0</td>\n",
       "      <td>0</td>\n",
       "      <td>0</td>\n",
       "      <td>0</td>\n",
       "      <td>0</td>\n",
       "      <td>0</td>\n",
       "      <td>0</td>\n",
       "    </tr>\n",
       "    <tr>\n",
       "      <th>3482</th>\n",
       "      <td>0</td>\n",
       "      <td>0</td>\n",
       "      <td>0</td>\n",
       "      <td>0</td>\n",
       "      <td>0</td>\n",
       "      <td>0</td>\n",
       "      <td>0</td>\n",
       "      <td>0</td>\n",
       "      <td>0</td>\n",
       "      <td>0</td>\n",
       "      <td>...</td>\n",
       "      <td>0</td>\n",
       "      <td>0</td>\n",
       "      <td>0</td>\n",
       "      <td>0</td>\n",
       "      <td>0</td>\n",
       "      <td>0</td>\n",
       "      <td>0</td>\n",
       "      <td>0</td>\n",
       "      <td>0</td>\n",
       "      <td>0</td>\n",
       "    </tr>\n",
       "    <tr>\n",
       "      <th>3483</th>\n",
       "      <td>0</td>\n",
       "      <td>0</td>\n",
       "      <td>0</td>\n",
       "      <td>0</td>\n",
       "      <td>0</td>\n",
       "      <td>0</td>\n",
       "      <td>0</td>\n",
       "      <td>0</td>\n",
       "      <td>0</td>\n",
       "      <td>0</td>\n",
       "      <td>...</td>\n",
       "      <td>0</td>\n",
       "      <td>0</td>\n",
       "      <td>0</td>\n",
       "      <td>0</td>\n",
       "      <td>0</td>\n",
       "      <td>0</td>\n",
       "      <td>0</td>\n",
       "      <td>0</td>\n",
       "      <td>0</td>\n",
       "      <td>0</td>\n",
       "    </tr>\n",
       "  </tbody>\n",
       "</table>\n",
       "<p>3484 rows × 17536 columns</p>\n",
       "</div>"
      ],
      "text/plain": [
       "      00  000  000th  001  0031  01  02282014160921  03  04  0488  ...  \\\n",
       "0      0    0      0    0     0   0               0   0   0     0  ...   \n",
       "1      0    0      0    0     0   0               0   0   0     0  ...   \n",
       "2      0    0      0    0     0   0               0   0   0     0  ...   \n",
       "3      0    0      0    0     0   0               0   0   0     0  ...   \n",
       "4      0    0      0    0     0   0               0   0   0     0  ...   \n",
       "...   ..  ...    ...  ...   ...  ..             ...  ..  ..   ...  ...   \n",
       "3479   0    0      0    0     0   0               0   0   0     0  ...   \n",
       "3480   0    0      0    0     0   0               0   0   0     0  ...   \n",
       "3481   0    1      0    0     0   0               0   0   0     0  ...   \n",
       "3482   0    0      0    0     0   0               0   0   0     0  ...   \n",
       "3483   0    0      0    0     0   0               0   0   0     0  ...   \n",
       "\n",
       "      zoomed  zoos  zorgon  zucchini  µm  étuvée  привет  参匠  醤油屋  수능  \n",
       "0          0     0       0         0   0       0       0   0    0   0  \n",
       "1          0     0       0         0   0       0       0   0    0   0  \n",
       "2          0     0       0         0   0       0       0   0    0   0  \n",
       "3          0     0       0         0   0       0       0   0    0   0  \n",
       "4          0     0       0         0   0       0       0   0    0   0  \n",
       "...      ...   ...     ...       ...  ..     ...     ...  ..  ...  ..  \n",
       "3479       0     0       0         0   0       0       0   0    0   0  \n",
       "3480       0     0       0         0   0       0       0   0    0   0  \n",
       "3481       0     0       0         0   0       0       0   0    0   0  \n",
       "3482       0     0       0         0   0       0       0   0    0   0  \n",
       "3483       0     0       0         0   0       0       0   0    0   0  \n",
       "\n",
       "[3484 rows x 17536 columns]"
      ]
     },
     "execution_count": 456,
     "metadata": {},
     "output_type": "execute_result"
    }
   ],
   "source": [
    "#Instantiate CVEC while excluding stop words\n",
    "cvec = CountVectorizer(stop_words='english')\n",
    "#Fit to column\n",
    "cvec.fit(real['top_comment'])\n",
    "#Transform column\n",
    "top_comments = cvec.transform(real['top_comment'])\n",
    "#Dataframe with transformed data\n",
    "df_reddit_cvec = pd.DataFrame(top_comments.todense(), columns = cvec.get_feature_names_out())\n",
    "df_reddit_cvec"
   ]
  },
  {
   "cell_type": "code",
   "execution_count": 457,
   "id": "5f886ca9",
   "metadata": {},
   "outputs": [
    {
     "data": {
      "text/plain": [
       "Text(0, 0.5, 'Word')"
      ]
     },
     "execution_count": 457,
     "metadata": {},
     "output_type": "execute_result"
    },
    {
     "data": {
      "image/png": "[encoded data removed]",
      "text/plain": [
       "<Figure size 1500x700 with 1 Axes>"
      ]
     },
     "metadata": {},
     "output_type": "display_data"
    }
   ],
   "source": [
    "#Set figure size\n",
    "plt.figure(figsize=(15,7))\n",
    "#Plotting 30 most used words\n",
    "df_reddit_cvec.sum().sort_values(ascending=False).head(30).plot(kind='barh')\n",
    "plt.title(\"Most Frequent Words from Reddit (Excluding Stop Words)\")\n",
    "plt.xlabel('Frequency')\n",
    "plt.ylabel('Word')"
   ]
  },
  {
   "cell_type": "code",
   "execution_count": 458,
   "id": "88920183",
   "metadata": {},
   "outputs": [
    {
     "data": {
      "text/html": [
       "<div>\n",
       "<style scoped>\n",
       "    .dataframe tbody tr th:only-of-type {\n",
       "        vertical-align: middle;\n",
       "    }\n",
       "\n",
       "    .dataframe tbody tr th {\n",
       "        vertical-align: top;\n",
       "    }\n",
       "\n",
       "    .dataframe thead th {\n",
       "        text-align: right;\n",
       "    }\n",
       "</style>\n",
       "<table border=\"1\" class=\"dataframe\">\n",
       "  <thead>\n",
       "    <tr style=\"text-align: right;\">\n",
       "      <th></th>\n",
       "      <th>000</th>\n",
       "      <th>002</th>\n",
       "      <th>010</th>\n",
       "      <th>03</th>\n",
       "      <th>033</th>\n",
       "      <th>036</th>\n",
       "      <th>082</th>\n",
       "      <th>0m</th>\n",
       "      <th>10</th>\n",
       "      <th>100</th>\n",
       "      <th>...</th>\n",
       "      <th>zip</th>\n",
       "      <th>zipper</th>\n",
       "      <th>zippers</th>\n",
       "      <th>zocdoc</th>\n",
       "      <th>zone</th>\n",
       "      <th>zoonotic</th>\n",
       "      <th>zoos</th>\n",
       "      <th>zoster</th>\n",
       "      <th>zucchini</th>\n",
       "      <th>zwilling</th>\n",
       "    </tr>\n",
       "  </thead>\n",
       "  <tbody>\n",
       "    <tr>\n",
       "      <th>0</th>\n",
       "      <td>0</td>\n",
       "      <td>0</td>\n",
       "      <td>0</td>\n",
       "      <td>0</td>\n",
       "      <td>0</td>\n",
       "      <td>0</td>\n",
       "      <td>0</td>\n",
       "      <td>0</td>\n",
       "      <td>0</td>\n",
       "      <td>0</td>\n",
       "      <td>...</td>\n",
       "      <td>0</td>\n",
       "      <td>0</td>\n",
       "      <td>0</td>\n",
       "      <td>0</td>\n",
       "      <td>0</td>\n",
       "      <td>0</td>\n",
       "      <td>0</td>\n",
       "      <td>0</td>\n",
       "      <td>0</td>\n",
       "      <td>0</td>\n",
       "    </tr>\n",
       "    <tr>\n",
       "      <th>1</th>\n",
       "      <td>0</td>\n",
       "      <td>0</td>\n",
       "      <td>0</td>\n",
       "      <td>0</td>\n",
       "      <td>0</td>\n",
       "      <td>0</td>\n",
       "      <td>1</td>\n",
       "      <td>0</td>\n",
       "      <td>0</td>\n",
       "      <td>0</td>\n",
       "      <td>...</td>\n",
       "      <td>0</td>\n",
       "      <td>0</td>\n",
       "      <td>0</td>\n",
       "      <td>0</td>\n",
       "      <td>0</td>\n",
       "      <td>0</td>\n",
       "      <td>0</td>\n",
       "      <td>0</td>\n",
       "      <td>0</td>\n",
       "      <td>0</td>\n",
       "    </tr>\n",
       "    <tr>\n",
       "      <th>2</th>\n",
       "      <td>0</td>\n",
       "      <td>0</td>\n",
       "      <td>0</td>\n",
       "      <td>0</td>\n",
       "      <td>0</td>\n",
       "      <td>0</td>\n",
       "      <td>0</td>\n",
       "      <td>0</td>\n",
       "      <td>0</td>\n",
       "      <td>0</td>\n",
       "      <td>...</td>\n",
       "      <td>0</td>\n",
       "      <td>0</td>\n",
       "      <td>0</td>\n",
       "      <td>0</td>\n",
       "      <td>0</td>\n",
       "      <td>0</td>\n",
       "      <td>0</td>\n",
       "      <td>0</td>\n",
       "      <td>0</td>\n",
       "      <td>0</td>\n",
       "    </tr>\n",
       "    <tr>\n",
       "      <th>3</th>\n",
       "      <td>0</td>\n",
       "      <td>0</td>\n",
       "      <td>0</td>\n",
       "      <td>0</td>\n",
       "      <td>0</td>\n",
       "      <td>0</td>\n",
       "      <td>0</td>\n",
       "      <td>0</td>\n",
       "      <td>0</td>\n",
       "      <td>0</td>\n",
       "      <td>...</td>\n",
       "      <td>0</td>\n",
       "      <td>0</td>\n",
       "      <td>0</td>\n",
       "      <td>0</td>\n",
       "      <td>0</td>\n",
       "      <td>0</td>\n",
       "      <td>0</td>\n",
       "      <td>0</td>\n",
       "      <td>0</td>\n",
       "      <td>0</td>\n",
       "    </tr>\n",
       "    <tr>\n",
       "      <th>4</th>\n",
       "      <td>0</td>\n",
       "      <td>0</td>\n",
       "      <td>0</td>\n",
       "      <td>0</td>\n",
       "      <td>0</td>\n",
       "      <td>0</td>\n",
       "      <td>0</td>\n",
       "      <td>0</td>\n",
       "      <td>0</td>\n",
       "      <td>0</td>\n",
       "      <td>...</td>\n",
       "      <td>0</td>\n",
       "      <td>0</td>\n",
       "      <td>0</td>\n",
       "      <td>0</td>\n",
       "      <td>0</td>\n",
       "      <td>0</td>\n",
       "      <td>0</td>\n",
       "      <td>0</td>\n",
       "      <td>0</td>\n",
       "      <td>0</td>\n",
       "    </tr>\n",
       "    <tr>\n",
       "      <th>...</th>\n",
       "      <td>...</td>\n",
       "      <td>...</td>\n",
       "      <td>...</td>\n",
       "      <td>...</td>\n",
       "      <td>...</td>\n",
       "      <td>...</td>\n",
       "      <td>...</td>\n",
       "      <td>...</td>\n",
       "      <td>...</td>\n",
       "      <td>...</td>\n",
       "      <td>...</td>\n",
       "      <td>...</td>\n",
       "      <td>...</td>\n",
       "      <td>...</td>\n",
       "      <td>...</td>\n",
       "      <td>...</td>\n",
       "      <td>...</td>\n",
       "      <td>...</td>\n",
       "      <td>...</td>\n",
       "      <td>...</td>\n",
       "      <td>...</td>\n",
       "    </tr>\n",
       "    <tr>\n",
       "      <th>3479</th>\n",
       "      <td>0</td>\n",
       "      <td>0</td>\n",
       "      <td>0</td>\n",
       "      <td>0</td>\n",
       "      <td>0</td>\n",
       "      <td>0</td>\n",
       "      <td>0</td>\n",
       "      <td>0</td>\n",
       "      <td>0</td>\n",
       "      <td>0</td>\n",
       "      <td>...</td>\n",
       "      <td>0</td>\n",
       "      <td>0</td>\n",
       "      <td>0</td>\n",
       "      <td>0</td>\n",
       "      <td>0</td>\n",
       "      <td>0</td>\n",
       "      <td>0</td>\n",
       "      <td>0</td>\n",
       "      <td>0</td>\n",
       "      <td>0</td>\n",
       "    </tr>\n",
       "    <tr>\n",
       "      <th>3480</th>\n",
       "      <td>0</td>\n",
       "      <td>0</td>\n",
       "      <td>0</td>\n",
       "      <td>0</td>\n",
       "      <td>0</td>\n",
       "      <td>0</td>\n",
       "      <td>0</td>\n",
       "      <td>0</td>\n",
       "      <td>0</td>\n",
       "      <td>0</td>\n",
       "      <td>...</td>\n",
       "      <td>0</td>\n",
       "      <td>0</td>\n",
       "      <td>0</td>\n",
       "      <td>0</td>\n",
       "      <td>0</td>\n",
       "      <td>0</td>\n",
       "      <td>0</td>\n",
       "      <td>0</td>\n",
       "      <td>0</td>\n",
       "      <td>0</td>\n",
       "    </tr>\n",
       "    <tr>\n",
       "      <th>3481</th>\n",
       "      <td>0</td>\n",
       "      <td>0</td>\n",
       "      <td>0</td>\n",
       "      <td>0</td>\n",
       "      <td>0</td>\n",
       "      <td>0</td>\n",
       "      <td>0</td>\n",
       "      <td>0</td>\n",
       "      <td>0</td>\n",
       "      <td>0</td>\n",
       "      <td>...</td>\n",
       "      <td>0</td>\n",
       "      <td>0</td>\n",
       "      <td>0</td>\n",
       "      <td>0</td>\n",
       "      <td>0</td>\n",
       "      <td>0</td>\n",
       "      <td>0</td>\n",
       "      <td>0</td>\n",
       "      <td>0</td>\n",
       "      <td>0</td>\n",
       "    </tr>\n",
       "    <tr>\n",
       "      <th>3482</th>\n",
       "      <td>0</td>\n",
       "      <td>0</td>\n",
       "      <td>0</td>\n",
       "      <td>0</td>\n",
       "      <td>0</td>\n",
       "      <td>0</td>\n",
       "      <td>0</td>\n",
       "      <td>0</td>\n",
       "      <td>0</td>\n",
       "      <td>0</td>\n",
       "      <td>...</td>\n",
       "      <td>0</td>\n",
       "      <td>0</td>\n",
       "      <td>0</td>\n",
       "      <td>0</td>\n",
       "      <td>0</td>\n",
       "      <td>0</td>\n",
       "      <td>0</td>\n",
       "      <td>0</td>\n",
       "      <td>0</td>\n",
       "      <td>0</td>\n",
       "    </tr>\n",
       "    <tr>\n",
       "      <th>3483</th>\n",
       "      <td>0</td>\n",
       "      <td>0</td>\n",
       "      <td>0</td>\n",
       "      <td>0</td>\n",
       "      <td>0</td>\n",
       "      <td>0</td>\n",
       "      <td>0</td>\n",
       "      <td>0</td>\n",
       "      <td>0</td>\n",
       "      <td>0</td>\n",
       "      <td>...</td>\n",
       "      <td>0</td>\n",
       "      <td>0</td>\n",
       "      <td>0</td>\n",
       "      <td>0</td>\n",
       "      <td>0</td>\n",
       "      <td>0</td>\n",
       "      <td>0</td>\n",
       "      <td>0</td>\n",
       "      <td>0</td>\n",
       "      <td>0</td>\n",
       "    </tr>\n",
       "  </tbody>\n",
       "</table>\n",
       "<p>3484 rows × 12026 columns</p>\n",
       "</div>"
      ],
      "text/plain": [
       "      000  002  010  03  033  036  082  0m  10  100  ...  zip  zipper  \\\n",
       "0       0    0    0   0    0    0    0   0   0    0  ...    0       0   \n",
       "1       0    0    0   0    0    0    1   0   0    0  ...    0       0   \n",
       "2       0    0    0   0    0    0    0   0   0    0  ...    0       0   \n",
       "3       0    0    0   0    0    0    0   0   0    0  ...    0       0   \n",
       "4       0    0    0   0    0    0    0   0   0    0  ...    0       0   \n",
       "...   ...  ...  ...  ..  ...  ...  ...  ..  ..  ...  ...  ...     ...   \n",
       "3479    0    0    0   0    0    0    0   0   0    0  ...    0       0   \n",
       "3480    0    0    0   0    0    0    0   0   0    0  ...    0       0   \n",
       "3481    0    0    0   0    0    0    0   0   0    0  ...    0       0   \n",
       "3482    0    0    0   0    0    0    0   0   0    0  ...    0       0   \n",
       "3483    0    0    0   0    0    0    0   0   0    0  ...    0       0   \n",
       "\n",
       "      zippers  zocdoc  zone  zoonotic  zoos  zoster  zucchini  zwilling  \n",
       "0           0       0     0         0     0       0         0         0  \n",
       "1           0       0     0         0     0       0         0         0  \n",
       "2           0       0     0         0     0       0         0         0  \n",
       "3           0       0     0         0     0       0         0         0  \n",
       "4           0       0     0         0     0       0         0         0  \n",
       "...       ...     ...   ...       ...   ...     ...       ...       ...  \n",
       "3479        0       0     0         0     0       0         0         0  \n",
       "3480        0       0     0         0     0       0         0         0  \n",
       "3481        0       0     0         0     0       0         0         0  \n",
       "3482        0       0     0         0     0       0         0         0  \n",
       "3483        0       0     0         0     0       0         0         0  \n",
       "\n",
       "[3484 rows x 12026 columns]"
      ]
     },
     "execution_count": 458,
     "metadata": {},
     "output_type": "execute_result"
    }
   ],
   "source": [
    "#Instantiate CVEC while excluding stop words\n",
    "cvec = CountVectorizer(stop_words='english')\n",
    "#Fit to column\n",
    "cvec.fit(real['answers'])\n",
    "#Transform column\n",
    "top_answers = cvec.transform(real['answers'])\n",
    "#Dataframe with transformed data\n",
    "df_openai_cvec = pd.DataFrame(top_answers.todense(), columns = cvec.get_feature_names_out())\n",
    "df_openai_cvec"
   ]
  },
  {
   "cell_type": "code",
   "execution_count": 459,
   "id": "dfef39e6",
   "metadata": {},
   "outputs": [
    {
     "data": {
      "text/plain": [
       "Text(0, 0.5, 'Word')"
      ]
     },
     "execution_count": 459,
     "metadata": {},
     "output_type": "execute_result"
    },
    {
     "data": {
      "image/png": "[encoded data removed]",
      "text/plain": [
       "<Figure size 1500x700 with 1 Axes>"
      ]
     },
     "metadata": {},
     "output_type": "display_data"
    }
   ],
   "source": [
    "#Set figure size\n",
    "plt.figure(figsize=(15,7))\n",
    "#Plotting 30 most used words\n",
    "df_openai_cvec.sum().sort_values(ascending=False).head(30).plot(kind='barh')\n",
    "plt.title(\"Most Frequent Words from OpenAI (Excluding Stop Words)\")\n",
    "plt.xlabel('Frequency')\n",
    "plt.ylabel('Word')"
   ]
  },
  {
   "cell_type": "markdown",
   "id": "60ce1087",
   "metadata": {},
   "source": [
    "# Modelling\n",
    "- Will focus on LogRegression and Bernoulli Naive Bayes as they are both good for classification problems, with both logregression and BNB in particular good for cases where the outcome is binary (human vs AI)"
   ]
  },
  {
   "cell_type": "markdown",
   "id": "b34deb39",
   "metadata": {},
   "source": [
    "MODEL 1 - LOG REGRESSION + TFIDF"
   ]
  },
  {
   "cell_type": "code",
   "execution_count": 460,
   "id": "936dc966",
   "metadata": {},
   "outputs": [],
   "source": [
    "#Split data into predictive variables and target variable\n",
    "X = df['answer']\n",
    "y = df['who_from']"
   ]
  },
  {
   "cell_type": "code",
   "execution_count": 461,
   "id": "a17d5962",
   "metadata": {},
   "outputs": [
    {
     "data": {
      "text/plain": [
       "0    0.5\n",
       "1    0.5\n",
       "Name: who_from, dtype: float64"
      ]
     },
     "execution_count": 461,
     "metadata": {},
     "output_type": "execute_result"
    }
   ],
   "source": [
    "#Baseline\n",
    "y.value_counts(normalize = True)"
   ]
  },
  {
   "cell_type": "code",
   "execution_count": 462,
   "id": "03bc0592",
   "metadata": {},
   "outputs": [],
   "source": [
    "X_train, X_test, y_train, y_test = train_test_split(X, y, test_size=0.2, random_state=42)"
   ]
  },
  {
   "cell_type": "code",
   "execution_count": 463,
   "id": "601670c2",
   "metadata": {},
   "outputs": [
    {
     "data": {
      "text/plain": [
       "Text(0.5, 1.0, 'TFIDFVectorizer: Number of occurences for given word')"
      ]
     },
     "execution_count": 463,
     "metadata": {},
     "output_type": "execute_result"
    },
    {
     "data": {
      "image/png": "[encoded data removed]",
      "text/plain": [
       "<Figure size 640x480 with 1 Axes>"
      ]
     },
     "metadata": {},
     "output_type": "display_data"
    }
   ],
   "source": [
    "#Bar chart of word count\n",
    "#Taken from lesson 2.05\n",
    "tfidf = TfidfVectorizer()\n",
    "# convert training data to dataframe\n",
    "X_train_tfidf = pd.DataFrame(tfidf.fit_transform(X_train).todense(), \n",
    "                          columns=tfidf.get_feature_names_out())\n",
    "# plot top occuring words\n",
    "X_train_tfidf.sum().sort_values(ascending=False).head(10).plot(kind='barh');\n",
    "plt.title('TFIDFVectorizer: Number of occurences for given word')"
   ]
  },
  {
   "cell_type": "code",
   "execution_count": 464,
   "id": "c763e3af",
   "metadata": {},
   "outputs": [],
   "source": [
    "tfidf = TfidfVectorizer()\n",
    "X_train_tfidf = tfidf.fit_transform(X_train)\n",
    "X_test_tfidf = tfidf.transform(X_test)"
   ]
  },
  {
   "cell_type": "code",
   "execution_count": 465,
   "id": "62d5587b",
   "metadata": {},
   "outputs": [
    {
     "data": {
      "text/html": [
       "<style>#sk-container-id-19 {color: black;}#sk-container-id-19 pre{padding: 0;}#sk-container-id-19 div.sk-toggleable {background-color: white;}#sk-container-id-19 label.sk-toggleable__label {cursor: pointer;display: block;width: 100%;margin-bottom: 0;padding: 0.3em;box-sizing: border-box;text-align: center;}#sk-container-id-19 label.sk-toggleable__label-arrow:before {content: \"▸\";float: left;margin-right: 0.25em;color: #696969;}#sk-container-id-19 label.sk-toggleable__label-arrow:hover:before {color: black;}#sk-container-id-19 div.sk-estimator:hover label.sk-toggleable__label-arrow:before {color: black;}#sk-container-id-19 div.sk-toggleable__content {max-height: 0;max-width: 0;overflow: hidden;text-align: left;background-color: #f0f8ff;}#sk-container-id-19 div.sk-toggleable__content pre {margin: 0.2em;color: black;border-radius: 0.25em;background-color: #f0f8ff;}#sk-container-id-19 input.sk-toggleable__control:checked~div.sk-toggleable__content {max-height: 200px;max-width: 100%;overflow: auto;}#sk-container-id-19 input.sk-toggleable__control:checked~label.sk-toggleable__label-arrow:before {content: \"▾\";}#sk-container-id-19 div.sk-estimator input.sk-toggleable__control:checked~label.sk-toggleable__label {background-color: #d4ebff;}#sk-container-id-19 div.sk-label input.sk-toggleable__control:checked~label.sk-toggleable__label {background-color: #d4ebff;}#sk-container-id-19 input.sk-hidden--visually {border: 0;clip: rect(1px 1px 1px 1px);clip: rect(1px, 1px, 1px, 1px);height: 1px;margin: -1px;overflow: hidden;padding: 0;position: absolute;width: 1px;}#sk-container-id-19 div.sk-estimator {font-family: monospace;background-color: #f0f8ff;border: 1px dotted black;border-radius: 0.25em;box-sizing: border-box;margin-bottom: 0.5em;}#sk-container-id-19 div.sk-estimator:hover {background-color: #d4ebff;}#sk-container-id-19 div.sk-parallel-item::after {content: \"\";width: 100%;border-bottom: 1px solid gray;flex-grow: 1;}#sk-container-id-19 div.sk-label:hover label.sk-toggleable__label {background-color: #d4ebff;}#sk-container-id-19 div.sk-serial::before {content: \"\";position: absolute;border-left: 1px solid gray;box-sizing: border-box;top: 0;bottom: 0;left: 50%;z-index: 0;}#sk-container-id-19 div.sk-serial {display: flex;flex-direction: column;align-items: center;background-color: white;padding-right: 0.2em;padding-left: 0.2em;position: relative;}#sk-container-id-19 div.sk-item {position: relative;z-index: 1;}#sk-container-id-19 div.sk-parallel {display: flex;align-items: stretch;justify-content: center;background-color: white;position: relative;}#sk-container-id-19 div.sk-item::before, #sk-container-id-19 div.sk-parallel-item::before {content: \"\";position: absolute;border-left: 1px solid gray;box-sizing: border-box;top: 0;bottom: 0;left: 50%;z-index: -1;}#sk-container-id-19 div.sk-parallel-item {display: flex;flex-direction: column;z-index: 1;position: relative;background-color: white;}#sk-container-id-19 div.sk-parallel-item:first-child::after {align-self: flex-end;width: 50%;}#sk-container-id-19 div.sk-parallel-item:last-child::after {align-self: flex-start;width: 50%;}#sk-container-id-19 div.sk-parallel-item:only-child::after {width: 0;}#sk-container-id-19 div.sk-dashed-wrapped {border: 1px dashed gray;margin: 0 0.4em 0.5em 0.4em;box-sizing: border-box;padding-bottom: 0.4em;background-color: white;}#sk-container-id-19 div.sk-label label {font-family: monospace;font-weight: bold;display: inline-block;line-height: 1.2em;}#sk-container-id-19 div.sk-label-container {text-align: center;}#sk-container-id-19 div.sk-container {/* jupyter's `normalize.less` sets `[hidden] { display: none; }` but bootstrap.min.css set `[hidden] { display: none !important; }` so we also need the `!important` here to be able to override the default hidden behavior on the sphinx rendered scikit-learn.org. See: https://github.com/scikit-learn/scikit-learn/issues/21755 */display: inline-block !important;position: relative;}#sk-container-id-19 div.sk-text-repr-fallback {display: none;}</style><div id=\"sk-container-id-19\" class=\"sk-top-container\"><div class=\"sk-text-repr-fallback\"><pre>LogisticRegression()</pre><b>In a Jupyter environment, please rerun this cell to show the HTML representation or trust the notebook. <br />On GitHub, the HTML representation is unable to render, please try loading this page with nbviewer.org.</b></div><div class=\"sk-container\" hidden><div class=\"sk-item\"><div class=\"sk-estimator sk-toggleable\"><input class=\"sk-toggleable__control sk-hidden--visually\" id=\"sk-estimator-id-61\" type=\"checkbox\" checked><label for=\"sk-estimator-id-61\" class=\"sk-toggleable__label sk-toggleable__label-arrow\">LogisticRegression</label><div class=\"sk-toggleable__content\"><pre>LogisticRegression()</pre></div></div></div></div></div>"
      ],
      "text/plain": [
       "LogisticRegression()"
      ]
     },
     "execution_count": 465,
     "metadata": {},
     "output_type": "execute_result"
    }
   ],
   "source": [
    "lr = LogisticRegression()\n",
    "lr.fit(X_train_tfidf, y_train)"
   ]
  },
  {
   "cell_type": "code",
   "execution_count": 466,
   "id": "7bd80522",
   "metadata": {},
   "outputs": [],
   "source": [
    "y_pred = lr.predict(X_test_tfidf)"
   ]
  },
  {
   "cell_type": "code",
   "execution_count": 467,
   "id": "bdc0f11c",
   "metadata": {},
   "outputs": [
    {
     "data": {
      "text/plain": [
       "0    0.523673\n",
       "1    0.476327\n",
       "Name: who_from, dtype: float64"
      ]
     },
     "execution_count": 467,
     "metadata": {},
     "output_type": "execute_result"
    }
   ],
   "source": [
    "y_test.value_counts(normalize = True)"
   ]
  },
  {
   "cell_type": "code",
   "execution_count": 468,
   "id": "191d0546",
   "metadata": {},
   "outputs": [
    {
     "data": {
      "text/plain": [
       "0    0.517217\n",
       "1    0.482783\n",
       "dtype: float64"
      ]
     },
     "execution_count": 468,
     "metadata": {},
     "output_type": "execute_result"
    }
   ],
   "source": [
    "pd.Series(y_pred).value_counts(normalize = True)"
   ]
  },
  {
   "cell_type": "code",
   "execution_count": 469,
   "id": "c1d87460",
   "metadata": {},
   "outputs": [
    {
     "name": "stdout",
     "output_type": "stream",
     "text": [
      "              precision    recall  f1-score   support\n",
      "\n",
      "           0       0.92      0.91      0.92       730\n",
      "           1       0.90      0.92      0.91       664\n",
      "\n",
      "    accuracy                           0.91      1394\n",
      "   macro avg       0.91      0.91      0.91      1394\n",
      "weighted avg       0.91      0.91      0.91      1394\n",
      "\n"
     ]
    }
   ],
   "source": [
    "#Trying to get \n",
    "#https://www.datacamp.com/tutorial/understanding-logistic-regression-python\n",
    "print(classification_report(y_test, y_pred))"
   ]
  },
  {
   "cell_type": "code",
   "execution_count": 470,
   "id": "e188991b",
   "metadata": {},
   "outputs": [],
   "source": [
    "#https://towardsdatascience.com/the-f1-score-bec2bbc38aa6\n",
    "#F1 score is harmonic mean, average of precision and recall"
   ]
  },
  {
   "cell_type": "code",
   "execution_count": 471,
   "id": "c47f7999",
   "metadata": {},
   "outputs": [],
   "source": [
    "#Building confusion matrix\n",
    "#Referred to lesson 2.05\n",
    "tn, fp, fn, tp = confusion_matrix(y_test, y_pred).ravel()"
   ]
  },
  {
   "cell_type": "code",
   "execution_count": 472,
   "id": "4f058091",
   "metadata": {},
   "outputs": [
    {
     "data": {
      "text/plain": [
       "(666, 64, 55, 609)"
      ]
     },
     "execution_count": 472,
     "metadata": {},
     "output_type": "execute_result"
    }
   ],
   "source": [
    "tn, fp, fn, tp"
   ]
  },
  {
   "cell_type": "code",
   "execution_count": 473,
   "id": "9897b805",
   "metadata": {},
   "outputs": [
    {
     "data": {
      "text/plain": [
       "<sklearn.metrics._plot.confusion_matrix.ConfusionMatrixDisplay at 0x17e81d250>"
      ]
     },
     "execution_count": 473,
     "metadata": {},
     "output_type": "execute_result"
    },
    {
     "data": {
      "image/png": "[encoded data removed]",
      "text/plain": [
       "<Figure size 640x480 with 2 Axes>"
      ]
     },
     "metadata": {},
     "output_type": "display_data"
    }
   ],
   "source": [
    "#Had trouble implementing confusion matrix to how it was done in lesson 2.05\n",
    "#https://scikit-learn.org/stable/modules/generated/sklearn.metrics.ConfusionMatrixDisplay.html\n",
    "cm = confusion_matrix(y_test, y_pred)\n",
    "disp = ConfusionMatrixDisplay(confusion_matrix = cm)\n",
    "disp.plot()"
   ]
  },
  {
   "cell_type": "code",
   "execution_count": 474,
   "id": "03043db0",
   "metadata": {},
   "outputs": [
    {
     "data": {
      "text/plain": [
       "0.9610692500897022"
      ]
     },
     "execution_count": 474,
     "metadata": {},
     "output_type": "execute_result"
    }
   ],
   "source": [
    "lr.score(X_train_tfidf, y_train)"
   ]
  },
  {
   "cell_type": "code",
   "execution_count": 475,
   "id": "7eb2859f",
   "metadata": {},
   "outputs": [
    {
     "data": {
      "text/plain": [
       "0.9146341463414634"
      ]
     },
     "execution_count": 475,
     "metadata": {},
     "output_type": "execute_result"
    }
   ],
   "source": [
    "lr.score(X_test_tfidf, y_test)"
   ]
  },
  {
   "cell_type": "markdown",
   "id": "73f82594",
   "metadata": {},
   "source": [
    "MODEL 2 - BERNOULLI NAIVE BAYES + CVEC W/PIPELINE & GRIDSEARCH + STOPWORDS"
   ]
  },
  {
   "cell_type": "code",
   "execution_count": 476,
   "id": "25858978",
   "metadata": {},
   "outputs": [],
   "source": [
    "#Split data into predictive variables and target variable\n",
    "X = df['answer']\n",
    "y = df['who_from']"
   ]
  },
  {
   "cell_type": "code",
   "execution_count": 477,
   "id": "d0b7b257",
   "metadata": {},
   "outputs": [],
   "source": [
    "X_train, X_test, y_train, y_test = train_test_split(X, y, test_size=0.2, random_state=42)"
   ]
  },
  {
   "cell_type": "code",
   "execution_count": 478,
   "id": "7a008297",
   "metadata": {},
   "outputs": [
    {
     "data": {
      "text/plain": [
       "Text(0.5, 1.0, 'CountVectorizer: Number of occurences for given word')"
      ]
     },
     "execution_count": 478,
     "metadata": {},
     "output_type": "execute_result"
    },
    {
     "data": {
      "image/png": "[encoded data removed]",
      "text/plain": [
       "<Figure size 640x480 with 1 Axes>"
      ]
     },
     "metadata": {},
     "output_type": "display_data"
    }
   ],
   "source": [
    "#Bar chart of word count\n",
    "#Taken from lesson 2.05\n",
    "cvec = CountVectorizer()\n",
    "# convert training data to dataframe\n",
    "X_train_cvec = pd.DataFrame(cvec.fit_transform(X_train).todense(), \n",
    "                          columns=cvec.get_feature_names_out())\n",
    "# plot top occuring words\n",
    "X_train_cvec.sum().sort_values(ascending=False).head(10).plot(kind='barh');\n",
    "plt.title('CountVectorizer: Number of occurences for given word')"
   ]
  },
  {
   "cell_type": "code",
   "execution_count": 479,
   "id": "7b7fcecd",
   "metadata": {},
   "outputs": [],
   "source": [
    "#Referred to lesson 2.05 and hackathon notes for the below\n",
    "#Set up pipe\n",
    "pipe = Pipeline([\n",
    "    ('cvec', CountVectorizer()),\n",
    "    ('bnb', BernoulliNB())\n",
    "])"
   ]
  },
  {
   "cell_type": "code",
   "execution_count": 480,
   "id": "86c6e175",
   "metadata": {},
   "outputs": [
    {
     "data": {
      "text/plain": [
       "0.7611190817790531"
      ]
     },
     "execution_count": 480,
     "metadata": {},
     "output_type": "execute_result"
    }
   ],
   "source": [
    "#Using pipeline as model (for fun)\n",
    "# Estimate how your model will perform on unseen data\n",
    "cross_val_score(pipe, X_train, y_train, cv=3).mean() \n",
    "\n",
    "# Fit your model\n",
    "pipe.fit(X_train, y_train)\n",
    "\n",
    "# Training score\n",
    "pipe.score(X_train, y_train)\n",
    "\n",
    "# Test score\n",
    "pipe.score(X_test, y_test)"
   ]
  },
  {
   "cell_type": "code",
   "execution_count": 481,
   "id": "39ad2691",
   "metadata": {},
   "outputs": [],
   "source": [
    "#Setting up stop words\n",
    "nltk_stop = stopwords.words('english')"
   ]
  },
  {
   "cell_type": "code",
   "execution_count": 482,
   "id": "f62dcac4",
   "metadata": {},
   "outputs": [],
   "source": [
    "# Search over the following values of hyperparameters:\n",
    "\n",
    "pipe_params = {\n",
    "    'cvec__max_features' : [None, 1000], # Maximum number of features fit\n",
    "    'cvec__min_df' : [1, 5, 10], # Minimum number of documents needed to include token\n",
    "    'cvec__max_df' : [0.9, .95], # Maximum number of documents needed to include token\n",
    "    'cvec__ngram_range' : [(1, 2), (1,1)], #Check (individual tokens) and also check (individual tokens and 2-grams)\n",
    "    'cvec__stop_words' : ['english', None, nltk_stop] #Words to remove from text data\n",
    "}"
   ]
  },
  {
   "cell_type": "code",
   "execution_count": 483,
   "id": "85aea2b5",
   "metadata": {},
   "outputs": [],
   "source": [
    "# Instantiate GridSearchCV.\n",
    "\n",
    "gs = GridSearchCV(pipe, # what object are we optimizing?\n",
    "                  pipe_params, # what parameters values are we searching?\n",
    "                  cv = 5) # 5-fold cross-validation."
   ]
  },
  {
   "cell_type": "code",
   "execution_count": 484,
   "id": "93736e7e",
   "metadata": {},
   "outputs": [
    {
     "data": {
      "text/html": [
       "<style>#sk-container-id-20 {color: black;}#sk-container-id-20 pre{padding: 0;}#sk-container-id-20 div.sk-toggleable {background-color: white;}#sk-container-id-20 label.sk-toggleable__label {cursor: pointer;display: block;width: 100%;margin-bottom: 0;padding: 0.3em;box-sizing: border-box;text-align: center;}#sk-container-id-20 label.sk-toggleable__label-arrow:before {content: \"▸\";float: left;margin-right: 0.25em;color: #696969;}#sk-container-id-20 label.sk-toggleable__label-arrow:hover:before {color: black;}#sk-container-id-20 div.sk-estimator:hover label.sk-toggleable__label-arrow:before {color: black;}#sk-container-id-20 div.sk-toggleable__content {max-height: 0;max-width: 0;overflow: hidden;text-align: left;background-color: #f0f8ff;}#sk-container-id-20 div.sk-toggleable__content pre {margin: 0.2em;color: black;border-radius: 0.25em;background-color: #f0f8ff;}#sk-container-id-20 input.sk-toggleable__control:checked~div.sk-toggleable__content {max-height: 200px;max-width: 100%;overflow: auto;}#sk-container-id-20 input.sk-toggleable__control:checked~label.sk-toggleable__label-arrow:before {content: \"▾\";}#sk-container-id-20 div.sk-estimator input.sk-toggleable__control:checked~label.sk-toggleable__label {background-color: #d4ebff;}#sk-container-id-20 div.sk-label input.sk-toggleable__control:checked~label.sk-toggleable__label {background-color: #d4ebff;}#sk-container-id-20 input.sk-hidden--visually {border: 0;clip: rect(1px 1px 1px 1px);clip: rect(1px, 1px, 1px, 1px);height: 1px;margin: -1px;overflow: hidden;padding: 0;position: absolute;width: 1px;}#sk-container-id-20 div.sk-estimator {font-family: monospace;background-color: #f0f8ff;border: 1px dotted black;border-radius: 0.25em;box-sizing: border-box;margin-bottom: 0.5em;}#sk-container-id-20 div.sk-estimator:hover {background-color: #d4ebff;}#sk-container-id-20 div.sk-parallel-item::after {content: \"\";width: 100%;border-bottom: 1px solid gray;flex-grow: 1;}#sk-container-id-20 div.sk-label:hover label.sk-toggleable__label {background-color: #d4ebff;}#sk-container-id-20 div.sk-serial::before {content: \"\";position: absolute;border-left: 1px solid gray;box-sizing: border-box;top: 0;bottom: 0;left: 50%;z-index: 0;}#sk-container-id-20 div.sk-serial {display: flex;flex-direction: column;align-items: center;background-color: white;padding-right: 0.2em;padding-left: 0.2em;position: relative;}#sk-container-id-20 div.sk-item {position: relative;z-index: 1;}#sk-container-id-20 div.sk-parallel {display: flex;align-items: stretch;justify-content: center;background-color: white;position: relative;}#sk-container-id-20 div.sk-item::before, #sk-container-id-20 div.sk-parallel-item::before {content: \"\";position: absolute;border-left: 1px solid gray;box-sizing: border-box;top: 0;bottom: 0;left: 50%;z-index: -1;}#sk-container-id-20 div.sk-parallel-item {display: flex;flex-direction: column;z-index: 1;position: relative;background-color: white;}#sk-container-id-20 div.sk-parallel-item:first-child::after {align-self: flex-end;width: 50%;}#sk-container-id-20 div.sk-parallel-item:last-child::after {align-self: flex-start;width: 50%;}#sk-container-id-20 div.sk-parallel-item:only-child::after {width: 0;}#sk-container-id-20 div.sk-dashed-wrapped {border: 1px dashed gray;margin: 0 0.4em 0.5em 0.4em;box-sizing: border-box;padding-bottom: 0.4em;background-color: white;}#sk-container-id-20 div.sk-label label {font-family: monospace;font-weight: bold;display: inline-block;line-height: 1.2em;}#sk-container-id-20 div.sk-label-container {text-align: center;}#sk-container-id-20 div.sk-container {/* jupyter's `normalize.less` sets `[hidden] { display: none; }` but bootstrap.min.css set `[hidden] { display: none !important; }` so we also need the `!important` here to be able to override the default hidden behavior on the sphinx rendered scikit-learn.org. See: https://github.com/scikit-learn/scikit-learn/issues/21755 */display: inline-block !important;position: relative;}#sk-container-id-20 div.sk-text-repr-fallback {display: none;}</style><div id=\"sk-container-id-20\" class=\"sk-top-container\"><div class=\"sk-text-repr-fallback\"><pre>GridSearchCV(cv=5,\n",
       "             estimator=Pipeline(steps=[(&#x27;cvec&#x27;, CountVectorizer()),\n",
       "                                       (&#x27;bnb&#x27;, BernoulliNB())]),\n",
       "             param_grid={&#x27;cvec__max_df&#x27;: [0.9, 0.95],\n",
       "                         &#x27;cvec__max_features&#x27;: [None, 1000],\n",
       "                         &#x27;cvec__min_df&#x27;: [1, 5, 10],\n",
       "                         &#x27;cvec__ngram_range&#x27;: [(1, 2), (1, 1)],\n",
       "                         &#x27;cvec__stop_words&#x27;: [&#x27;english&#x27;, None,\n",
       "                                              [&#x27;i&#x27;, &#x27;me&#x27;, &#x27;my&#x27;, &#x27;myself&#x27;, &#x27;we&#x27;,\n",
       "                                               &#x27;our&#x27;, &#x27;ours&#x27;, &#x27;ourselves&#x27;,\n",
       "                                               &#x27;you&#x27;, &quot;you&#x27;re&quot;, &quot;you&#x27;ve&quot;,\n",
       "                                               &quot;you&#x27;ll&quot;, &quot;you&#x27;d&quot;, &#x27;your&#x27;,\n",
       "                                               &#x27;yours&#x27;, &#x27;yourself&#x27;,\n",
       "                                               &#x27;yourselves&#x27;, &#x27;he&#x27;, &#x27;him&#x27;, &#x27;his&#x27;,\n",
       "                                               &#x27;himself&#x27;, &#x27;she&#x27;, &quot;she&#x27;s&quot;, &#x27;her&#x27;,\n",
       "                                               &#x27;hers&#x27;, &#x27;herself&#x27;, &#x27;it&#x27;, &quot;it&#x27;s&quot;,\n",
       "                                               &#x27;its&#x27;, &#x27;itself&#x27;, ...]]})</pre><b>In a Jupyter environment, please rerun this cell to show the HTML representation or trust the notebook. <br />On GitHub, the HTML representation is unable to render, please try loading this page with nbviewer.org.</b></div><div class=\"sk-container\" hidden><div class=\"sk-item sk-dashed-wrapped\"><div class=\"sk-label-container\"><div class=\"sk-label sk-toggleable\"><input class=\"sk-toggleable__control sk-hidden--visually\" id=\"sk-estimator-id-62\" type=\"checkbox\" ><label for=\"sk-estimator-id-62\" class=\"sk-toggleable__label sk-toggleable__label-arrow\">GridSearchCV</label><div class=\"sk-toggleable__content\"><pre>GridSearchCV(cv=5,\n",
       "             estimator=Pipeline(steps=[(&#x27;cvec&#x27;, CountVectorizer()),\n",
       "                                       (&#x27;bnb&#x27;, BernoulliNB())]),\n",
       "             param_grid={&#x27;cvec__max_df&#x27;: [0.9, 0.95],\n",
       "                         &#x27;cvec__max_features&#x27;: [None, 1000],\n",
       "                         &#x27;cvec__min_df&#x27;: [1, 5, 10],\n",
       "                         &#x27;cvec__ngram_range&#x27;: [(1, 2), (1, 1)],\n",
       "                         &#x27;cvec__stop_words&#x27;: [&#x27;english&#x27;, None,\n",
       "                                              [&#x27;i&#x27;, &#x27;me&#x27;, &#x27;my&#x27;, &#x27;myself&#x27;, &#x27;we&#x27;,\n",
       "                                               &#x27;our&#x27;, &#x27;ours&#x27;, &#x27;ourselves&#x27;,\n",
       "                                               &#x27;you&#x27;, &quot;you&#x27;re&quot;, &quot;you&#x27;ve&quot;,\n",
       "                                               &quot;you&#x27;ll&quot;, &quot;you&#x27;d&quot;, &#x27;your&#x27;,\n",
       "                                               &#x27;yours&#x27;, &#x27;yourself&#x27;,\n",
       "                                               &#x27;yourselves&#x27;, &#x27;he&#x27;, &#x27;him&#x27;, &#x27;his&#x27;,\n",
       "                                               &#x27;himself&#x27;, &#x27;she&#x27;, &quot;she&#x27;s&quot;, &#x27;her&#x27;,\n",
       "                                               &#x27;hers&#x27;, &#x27;herself&#x27;, &#x27;it&#x27;, &quot;it&#x27;s&quot;,\n",
       "                                               &#x27;its&#x27;, &#x27;itself&#x27;, ...]]})</pre></div></div></div><div class=\"sk-parallel\"><div class=\"sk-parallel-item\"><div class=\"sk-item\"><div class=\"sk-label-container\"><div class=\"sk-label sk-toggleable\"><input class=\"sk-toggleable__control sk-hidden--visually\" id=\"sk-estimator-id-63\" type=\"checkbox\" ><label for=\"sk-estimator-id-63\" class=\"sk-toggleable__label sk-toggleable__label-arrow\">estimator: Pipeline</label><div class=\"sk-toggleable__content\"><pre>Pipeline(steps=[(&#x27;cvec&#x27;, CountVectorizer()), (&#x27;bnb&#x27;, BernoulliNB())])</pre></div></div></div><div class=\"sk-serial\"><div class=\"sk-item\"><div class=\"sk-serial\"><div class=\"sk-item\"><div class=\"sk-estimator sk-toggleable\"><input class=\"sk-toggleable__control sk-hidden--visually\" id=\"sk-estimator-id-64\" type=\"checkbox\" ><label for=\"sk-estimator-id-64\" class=\"sk-toggleable__label sk-toggleable__label-arrow\">CountVectorizer</label><div class=\"sk-toggleable__content\"><pre>CountVectorizer()</pre></div></div></div><div class=\"sk-item\"><div class=\"sk-estimator sk-toggleable\"><input class=\"sk-toggleable__control sk-hidden--visually\" id=\"sk-estimator-id-65\" type=\"checkbox\" ><label for=\"sk-estimator-id-65\" class=\"sk-toggleable__label sk-toggleable__label-arrow\">BernoulliNB</label><div class=\"sk-toggleable__content\"><pre>BernoulliNB()</pre></div></div></div></div></div></div></div></div></div></div></div></div>"
      ],
      "text/plain": [
       "GridSearchCV(cv=5,\n",
       "             estimator=Pipeline(steps=[('cvec', CountVectorizer()),\n",
       "                                       ('bnb', BernoulliNB())]),\n",
       "             param_grid={'cvec__max_df': [0.9, 0.95],\n",
       "                         'cvec__max_features': [None, 1000],\n",
       "                         'cvec__min_df': [1, 5, 10],\n",
       "                         'cvec__ngram_range': [(1, 2), (1, 1)],\n",
       "                         'cvec__stop_words': ['english', None,\n",
       "                                              ['i', 'me', 'my', 'myself', 'we',\n",
       "                                               'our', 'ours', 'ourselves',\n",
       "                                               'you', \"you're\", \"you've\",\n",
       "                                               \"you'll\", \"you'd\", 'your',\n",
       "                                               'yours', 'yourself',\n",
       "                                               'yourselves', 'he', 'him', 'his',\n",
       "                                               'himself', 'she', \"she's\", 'her',\n",
       "                                               'hers', 'herself', 'it', \"it's\",\n",
       "                                               'its', 'itself', ...]]})"
      ]
     },
     "execution_count": 484,
     "metadata": {},
     "output_type": "execute_result"
    }
   ],
   "source": [
    "# Fit GridSearch to training data.\n",
    "gs.fit(X_train, y_train)"
   ]
  },
  {
   "cell_type": "code",
   "execution_count": 485,
   "id": "8db8e0db",
   "metadata": {},
   "outputs": [
    {
     "data": {
      "text/plain": [
       "0.7854323691138465"
      ]
     },
     "execution_count": 485,
     "metadata": {},
     "output_type": "execute_result"
    }
   ],
   "source": [
    "#Check best score\n",
    "gs.best_score_"
   ]
  },
  {
   "cell_type": "code",
   "execution_count": 486,
   "id": "424ed019",
   "metadata": {},
   "outputs": [
    {
     "data": {
      "text/plain": [
       "0.8031933979189092"
      ]
     },
     "execution_count": 486,
     "metadata": {},
     "output_type": "execute_result"
    }
   ],
   "source": [
    "#Score on training data\n",
    "gs.score(X_train, y_train)"
   ]
  },
  {
   "cell_type": "code",
   "execution_count": 487,
   "id": "ddb68881",
   "metadata": {},
   "outputs": [
    {
     "data": {
      "text/plain": [
       "0.7747489239598279"
      ]
     },
     "execution_count": 487,
     "metadata": {},
     "output_type": "execute_result"
    }
   ],
   "source": [
    "#Score on test data\n",
    "gs.score(X_test, y_test)"
   ]
  },
  {
   "cell_type": "code",
   "execution_count": 488,
   "id": "445c01fa",
   "metadata": {},
   "outputs": [
    {
     "data": {
      "text/plain": [
       "{'cvec__max_df': 0.9,\n",
       " 'cvec__max_features': None,\n",
       " 'cvec__min_df': 5,\n",
       " 'cvec__ngram_range': (1, 1),\n",
       " 'cvec__stop_words': None}"
      ]
     },
     "execution_count": 488,
     "metadata": {},
     "output_type": "execute_result"
    }
   ],
   "source": [
    "gs.best_params_"
   ]
  },
  {
   "cell_type": "code",
   "execution_count": 489,
   "id": "1b0b4937",
   "metadata": {},
   "outputs": [],
   "source": [
    "# Get predictions\n",
    "preds = gs.predict(X_test)\n",
    "# Save confusion matrix values\n",
    "tn, fp, fn, tp = confusion_matrix(y_test, preds).ravel()"
   ]
  },
  {
   "cell_type": "code",
   "execution_count": 490,
   "id": "a632abe8",
   "metadata": {
    "scrolled": true
   },
   "outputs": [
    {
     "data": {
      "image/png": "[encoded data removed]",
      "text/plain": [
       "<Figure size 640x480 with 2 Axes>"
      ]
     },
     "metadata": {},
     "output_type": "display_data"
    }
   ],
   "source": [
    "# View confusion matrix\n",
    "ConfusionMatrixDisplay.from_estimator(gs, X_test, y_test, cmap='Reds', values_format='d');"
   ]
  },
  {
   "cell_type": "code",
   "execution_count": 491,
   "id": "45bb6453",
   "metadata": {},
   "outputs": [
    {
     "data": {
      "text/plain": [
       "1    0.694405\n",
       "0    0.305595\n",
       "dtype: float64"
      ]
     },
     "execution_count": 491,
     "metadata": {},
     "output_type": "execute_result"
    }
   ],
   "source": [
    "pd.Series(preds).value_counts(normalize = True)"
   ]
  },
  {
   "cell_type": "markdown",
   "id": "8c866f0c",
   "metadata": {},
   "source": [
    "MODEL 3: BERNOULLI NAIVE BAYES + TFIDF W/PIPELINE & GRIDSEARCH"
   ]
  },
  {
   "cell_type": "code",
   "execution_count": 492,
   "id": "5c0416d8",
   "metadata": {},
   "outputs": [],
   "source": [
    "#Split data into predictive variables and target variable\n",
    "X = df['answer']\n",
    "y = df['who_from']"
   ]
  },
  {
   "cell_type": "code",
   "execution_count": 493,
   "id": "e35deb21",
   "metadata": {},
   "outputs": [],
   "source": [
    "X_train, X_test, y_train, y_test = train_test_split(X, y, test_size=0.2, random_state=42)"
   ]
  },
  {
   "cell_type": "code",
   "execution_count": 494,
   "id": "530fc67b",
   "metadata": {},
   "outputs": [],
   "source": [
    "pipe = Pipeline([\n",
    "    ('tfidf', TfidfVectorizer()),\n",
    "    ('bnb', BernoulliNB())\n",
    "])"
   ]
  },
  {
   "cell_type": "code",
   "execution_count": 495,
   "id": "900112d8",
   "metadata": {},
   "outputs": [
    {
     "data": {
      "text/plain": [
       "0.7611190817790531"
      ]
     },
     "execution_count": 495,
     "metadata": {},
     "output_type": "execute_result"
    }
   ],
   "source": [
    "#Using pipeline as model (for fun)\n",
    "# Estimate how your model will perform on unseen data\n",
    "cross_val_score(pipe, X_train, y_train, cv=3).mean() \n",
    "\n",
    "# Fit your model\n",
    "pipe.fit(X_train, y_train)\n",
    "\n",
    "# Training score\n",
    "pipe.score(X_train, y_train)\n",
    "\n",
    "# Test score\n",
    "pipe.score(X_test, y_test)"
   ]
  },
  {
   "cell_type": "code",
   "execution_count": 496,
   "id": "57d5aba2",
   "metadata": {},
   "outputs": [],
   "source": [
    "pipe_params = {\n",
    "    'tfidf__max_features' : [None, 5000], # Maximum number of features fit\n",
    "    'tfidf__min_df' : [1, 5, 10], # Minimum number of documents needed to include token\n",
    "    'tfidf__max_df' : [0.25, .5], # Maximum number of documents needed to include token\n",
    "    'tfidf__ngram_range' : [(1, 2), (1,1)], #Check (individual tokens) and also check (individual tokens and 2-grams)\n",
    "    'tfidf__stop_words' : ['english', None, nltk_stop] #Words to remove from text data\n",
    "}"
   ]
  },
  {
   "cell_type": "code",
   "execution_count": 497,
   "id": "acdc2757",
   "metadata": {},
   "outputs": [],
   "source": [
    "gs = GridSearchCV(pipe, # what object are we optimizing?\n",
    "                  pipe_params, # what parameters values are we searching?\n",
    "                  cv = 5) # 5-fold cross-validation."
   ]
  },
  {
   "cell_type": "code",
   "execution_count": 498,
   "id": "c0eaa15a",
   "metadata": {},
   "outputs": [
    {
     "data": {
      "text/html": [
       "<style>#sk-container-id-21 {color: black;}#sk-container-id-21 pre{padding: 0;}#sk-container-id-21 div.sk-toggleable {background-color: white;}#sk-container-id-21 label.sk-toggleable__label {cursor: pointer;display: block;width: 100%;margin-bottom: 0;padding: 0.3em;box-sizing: border-box;text-align: center;}#sk-container-id-21 label.sk-toggleable__label-arrow:before {content: \"▸\";float: left;margin-right: 0.25em;color: #696969;}#sk-container-id-21 label.sk-toggleable__label-arrow:hover:before {color: black;}#sk-container-id-21 div.sk-estimator:hover label.sk-toggleable__label-arrow:before {color: black;}#sk-container-id-21 div.sk-toggleable__content {max-height: 0;max-width: 0;overflow: hidden;text-align: left;background-color: #f0f8ff;}#sk-container-id-21 div.sk-toggleable__content pre {margin: 0.2em;color: black;border-radius: 0.25em;background-color: #f0f8ff;}#sk-container-id-21 input.sk-toggleable__control:checked~div.sk-toggleable__content {max-height: 200px;max-width: 100%;overflow: auto;}#sk-container-id-21 input.sk-toggleable__control:checked~label.sk-toggleable__label-arrow:before {content: \"▾\";}#sk-container-id-21 div.sk-estimator input.sk-toggleable__control:checked~label.sk-toggleable__label {background-color: #d4ebff;}#sk-container-id-21 div.sk-label input.sk-toggleable__control:checked~label.sk-toggleable__label {background-color: #d4ebff;}#sk-container-id-21 input.sk-hidden--visually {border: 0;clip: rect(1px 1px 1px 1px);clip: rect(1px, 1px, 1px, 1px);height: 1px;margin: -1px;overflow: hidden;padding: 0;position: absolute;width: 1px;}#sk-container-id-21 div.sk-estimator {font-family: monospace;background-color: #f0f8ff;border: 1px dotted black;border-radius: 0.25em;box-sizing: border-box;margin-bottom: 0.5em;}#sk-container-id-21 div.sk-estimator:hover {background-color: #d4ebff;}#sk-container-id-21 div.sk-parallel-item::after {content: \"\";width: 100%;border-bottom: 1px solid gray;flex-grow: 1;}#sk-container-id-21 div.sk-label:hover label.sk-toggleable__label {background-color: #d4ebff;}#sk-container-id-21 div.sk-serial::before {content: \"\";position: absolute;border-left: 1px solid gray;box-sizing: border-box;top: 0;bottom: 0;left: 50%;z-index: 0;}#sk-container-id-21 div.sk-serial {display: flex;flex-direction: column;align-items: center;background-color: white;padding-right: 0.2em;padding-left: 0.2em;position: relative;}#sk-container-id-21 div.sk-item {position: relative;z-index: 1;}#sk-container-id-21 div.sk-parallel {display: flex;align-items: stretch;justify-content: center;background-color: white;position: relative;}#sk-container-id-21 div.sk-item::before, #sk-container-id-21 div.sk-parallel-item::before {content: \"\";position: absolute;border-left: 1px solid gray;box-sizing: border-box;top: 0;bottom: 0;left: 50%;z-index: -1;}#sk-container-id-21 div.sk-parallel-item {display: flex;flex-direction: column;z-index: 1;position: relative;background-color: white;}#sk-container-id-21 div.sk-parallel-item:first-child::after {align-self: flex-end;width: 50%;}#sk-container-id-21 div.sk-parallel-item:last-child::after {align-self: flex-start;width: 50%;}#sk-container-id-21 div.sk-parallel-item:only-child::after {width: 0;}#sk-container-id-21 div.sk-dashed-wrapped {border: 1px dashed gray;margin: 0 0.4em 0.5em 0.4em;box-sizing: border-box;padding-bottom: 0.4em;background-color: white;}#sk-container-id-21 div.sk-label label {font-family: monospace;font-weight: bold;display: inline-block;line-height: 1.2em;}#sk-container-id-21 div.sk-label-container {text-align: center;}#sk-container-id-21 div.sk-container {/* jupyter's `normalize.less` sets `[hidden] { display: none; }` but bootstrap.min.css set `[hidden] { display: none !important; }` so we also need the `!important` here to be able to override the default hidden behavior on the sphinx rendered scikit-learn.org. See: https://github.com/scikit-learn/scikit-learn/issues/21755 */display: inline-block !important;position: relative;}#sk-container-id-21 div.sk-text-repr-fallback {display: none;}</style><div id=\"sk-container-id-21\" class=\"sk-top-container\"><div class=\"sk-text-repr-fallback\"><pre>GridSearchCV(cv=5,\n",
       "             estimator=Pipeline(steps=[(&#x27;tfidf&#x27;, TfidfVectorizer()),\n",
       "                                       (&#x27;bnb&#x27;, BernoulliNB())]),\n",
       "             param_grid={&#x27;tfidf__max_df&#x27;: [0.25, 0.5],\n",
       "                         &#x27;tfidf__max_features&#x27;: [None, 5000],\n",
       "                         &#x27;tfidf__min_df&#x27;: [1, 5, 10],\n",
       "                         &#x27;tfidf__ngram_range&#x27;: [(1, 2), (1, 1)],\n",
       "                         &#x27;tfidf__stop_words&#x27;: [&#x27;english&#x27;, None,\n",
       "                                               [&#x27;i&#x27;, &#x27;me&#x27;, &#x27;my&#x27;, &#x27;myself&#x27;, &#x27;we&#x27;,\n",
       "                                                &#x27;our&#x27;, &#x27;ours&#x27;, &#x27;ourselves&#x27;,\n",
       "                                                &#x27;you&#x27;, &quot;you&#x27;re&quot;, &quot;you&#x27;ve&quot;,\n",
       "                                                &quot;you&#x27;ll&quot;, &quot;you&#x27;d&quot;, &#x27;your&#x27;,\n",
       "                                                &#x27;yours&#x27;, &#x27;yourself&#x27;,\n",
       "                                                &#x27;yourselves&#x27;, &#x27;he&#x27;, &#x27;him&#x27;,\n",
       "                                                &#x27;his&#x27;, &#x27;himself&#x27;, &#x27;she&#x27;,\n",
       "                                                &quot;she&#x27;s&quot;, &#x27;her&#x27;, &#x27;hers&#x27;,\n",
       "                                                &#x27;herself&#x27;, &#x27;it&#x27;, &quot;it&#x27;s&quot;, &#x27;its&#x27;,\n",
       "                                                &#x27;itself&#x27;, ...]]})</pre><b>In a Jupyter environment, please rerun this cell to show the HTML representation or trust the notebook. <br />On GitHub, the HTML representation is unable to render, please try loading this page with nbviewer.org.</b></div><div class=\"sk-container\" hidden><div class=\"sk-item sk-dashed-wrapped\"><div class=\"sk-label-container\"><div class=\"sk-label sk-toggleable\"><input class=\"sk-toggleable__control sk-hidden--visually\" id=\"sk-estimator-id-66\" type=\"checkbox\" ><label for=\"sk-estimator-id-66\" class=\"sk-toggleable__label sk-toggleable__label-arrow\">GridSearchCV</label><div class=\"sk-toggleable__content\"><pre>GridSearchCV(cv=5,\n",
       "             estimator=Pipeline(steps=[(&#x27;tfidf&#x27;, TfidfVectorizer()),\n",
       "                                       (&#x27;bnb&#x27;, BernoulliNB())]),\n",
       "             param_grid={&#x27;tfidf__max_df&#x27;: [0.25, 0.5],\n",
       "                         &#x27;tfidf__max_features&#x27;: [None, 5000],\n",
       "                         &#x27;tfidf__min_df&#x27;: [1, 5, 10],\n",
       "                         &#x27;tfidf__ngram_range&#x27;: [(1, 2), (1, 1)],\n",
       "                         &#x27;tfidf__stop_words&#x27;: [&#x27;english&#x27;, None,\n",
       "                                               [&#x27;i&#x27;, &#x27;me&#x27;, &#x27;my&#x27;, &#x27;myself&#x27;, &#x27;we&#x27;,\n",
       "                                                &#x27;our&#x27;, &#x27;ours&#x27;, &#x27;ourselves&#x27;,\n",
       "                                                &#x27;you&#x27;, &quot;you&#x27;re&quot;, &quot;you&#x27;ve&quot;,\n",
       "                                                &quot;you&#x27;ll&quot;, &quot;you&#x27;d&quot;, &#x27;your&#x27;,\n",
       "                                                &#x27;yours&#x27;, &#x27;yourself&#x27;,\n",
       "                                                &#x27;yourselves&#x27;, &#x27;he&#x27;, &#x27;him&#x27;,\n",
       "                                                &#x27;his&#x27;, &#x27;himself&#x27;, &#x27;she&#x27;,\n",
       "                                                &quot;she&#x27;s&quot;, &#x27;her&#x27;, &#x27;hers&#x27;,\n",
       "                                                &#x27;herself&#x27;, &#x27;it&#x27;, &quot;it&#x27;s&quot;, &#x27;its&#x27;,\n",
       "                                                &#x27;itself&#x27;, ...]]})</pre></div></div></div><div class=\"sk-parallel\"><div class=\"sk-parallel-item\"><div class=\"sk-item\"><div class=\"sk-label-container\"><div class=\"sk-label sk-toggleable\"><input class=\"sk-toggleable__control sk-hidden--visually\" id=\"sk-estimator-id-67\" type=\"checkbox\" ><label for=\"sk-estimator-id-67\" class=\"sk-toggleable__label sk-toggleable__label-arrow\">estimator: Pipeline</label><div class=\"sk-toggleable__content\"><pre>Pipeline(steps=[(&#x27;tfidf&#x27;, TfidfVectorizer()), (&#x27;bnb&#x27;, BernoulliNB())])</pre></div></div></div><div class=\"sk-serial\"><div class=\"sk-item\"><div class=\"sk-serial\"><div class=\"sk-item\"><div class=\"sk-estimator sk-toggleable\"><input class=\"sk-toggleable__control sk-hidden--visually\" id=\"sk-estimator-id-68\" type=\"checkbox\" ><label for=\"sk-estimator-id-68\" class=\"sk-toggleable__label sk-toggleable__label-arrow\">TfidfVectorizer</label><div class=\"sk-toggleable__content\"><pre>TfidfVectorizer()</pre></div></div></div><div class=\"sk-item\"><div class=\"sk-estimator sk-toggleable\"><input class=\"sk-toggleable__control sk-hidden--visually\" id=\"sk-estimator-id-69\" type=\"checkbox\" ><label for=\"sk-estimator-id-69\" class=\"sk-toggleable__label sk-toggleable__label-arrow\">BernoulliNB</label><div class=\"sk-toggleable__content\"><pre>BernoulliNB()</pre></div></div></div></div></div></div></div></div></div></div></div></div>"
      ],
      "text/plain": [
       "GridSearchCV(cv=5,\n",
       "             estimator=Pipeline(steps=[('tfidf', TfidfVectorizer()),\n",
       "                                       ('bnb', BernoulliNB())]),\n",
       "             param_grid={'tfidf__max_df': [0.25, 0.5],\n",
       "                         'tfidf__max_features': [None, 5000],\n",
       "                         'tfidf__min_df': [1, 5, 10],\n",
       "                         'tfidf__ngram_range': [(1, 2), (1, 1)],\n",
       "                         'tfidf__stop_words': ['english', None,\n",
       "                                               ['i', 'me', 'my', 'myself', 'we',\n",
       "                                                'our', 'ours', 'ourselves',\n",
       "                                                'you', \"you're\", \"you've\",\n",
       "                                                \"you'll\", \"you'd\", 'your',\n",
       "                                                'yours', 'yourself',\n",
       "                                                'yourselves', 'he', 'him',\n",
       "                                                'his', 'himself', 'she',\n",
       "                                                \"she's\", 'her', 'hers',\n",
       "                                                'herself', 'it', \"it's\", 'its',\n",
       "                                                'itself', ...]]})"
      ]
     },
     "execution_count": 498,
     "metadata": {},
     "output_type": "execute_result"
    }
   ],
   "source": [
    "# Fit GridSearch to training data.\n",
    "gs.fit(X_train, y_train)"
   ]
  },
  {
   "cell_type": "code",
   "execution_count": 499,
   "id": "f061c7a7",
   "metadata": {},
   "outputs": [
    {
     "data": {
      "text/plain": [
       "0.7818441200859827"
      ]
     },
     "execution_count": 499,
     "metadata": {},
     "output_type": "execute_result"
    }
   ],
   "source": [
    "#Check best score\n",
    "gs.best_score_"
   ]
  },
  {
   "cell_type": "code",
   "execution_count": 500,
   "id": "55fa5687",
   "metadata": {},
   "outputs": [
    {
     "data": {
      "text/plain": [
       "0.8012199497667744"
      ]
     },
     "execution_count": 500,
     "metadata": {},
     "output_type": "execute_result"
    }
   ],
   "source": [
    "#Score on training data\n",
    "gs.score(X_train, y_train)"
   ]
  },
  {
   "cell_type": "code",
   "execution_count": 501,
   "id": "920761d1",
   "metadata": {},
   "outputs": [
    {
     "data": {
      "text/plain": [
       "0.7711621233859397"
      ]
     },
     "execution_count": 501,
     "metadata": {},
     "output_type": "execute_result"
    }
   ],
   "source": [
    "#Score on test data\n",
    "gs.score(X_test, y_test)"
   ]
  },
  {
   "cell_type": "code",
   "execution_count": 502,
   "id": "f3385b9b",
   "metadata": {},
   "outputs": [
    {
     "data": {
      "text/plain": [
       "{'tfidf__max_df': 0.25,\n",
       " 'tfidf__max_features': None,\n",
       " 'tfidf__min_df': 5,\n",
       " 'tfidf__ngram_range': (1, 1),\n",
       " 'tfidf__stop_words': None}"
      ]
     },
     "execution_count": 502,
     "metadata": {},
     "output_type": "execute_result"
    }
   ],
   "source": [
    "gs.best_params_"
   ]
  },
  {
   "cell_type": "code",
   "execution_count": 503,
   "id": "e87d0aac",
   "metadata": {},
   "outputs": [],
   "source": [
    "# Get predictions\n",
    "preds = gs.predict(X_test)\n",
    "# Save confusion matrix values\n",
    "tn, fp, fn, tp = confusion_matrix(y_test, preds).ravel()"
   ]
  },
  {
   "cell_type": "code",
   "execution_count": 504,
   "id": "5a87138b",
   "metadata": {
    "scrolled": true
   },
   "outputs": [
    {
     "data": {
      "image/png": "[encoded data removed]",
      "text/plain": [
       "<Figure size 640x480 with 2 Axes>"
      ]
     },
     "metadata": {},
     "output_type": "display_data"
    }
   ],
   "source": [
    "# View confusion matrix\n",
    "ConfusionMatrixDisplay.from_estimator(gs, X_test, y_test, cmap='Reds', values_format='d');"
   ]
  },
  {
   "cell_type": "code",
   "execution_count": 505,
   "id": "e246142f",
   "metadata": {},
   "outputs": [
    {
     "data": {
      "text/plain": [
       "0    0.523673\n",
       "1    0.476327\n",
       "Name: who_from, dtype: float64"
      ]
     },
     "execution_count": 505,
     "metadata": {},
     "output_type": "execute_result"
    }
   ],
   "source": [
    "y_test.value_counts(normalize = True)"
   ]
  },
  {
   "cell_type": "code",
   "execution_count": 506,
   "id": "1abf6f6d",
   "metadata": {},
   "outputs": [
    {
     "data": {
      "text/plain": [
       "1    0.697991\n",
       "0    0.302009\n",
       "dtype: float64"
      ]
     },
     "execution_count": 506,
     "metadata": {},
     "output_type": "execute_result"
    }
   ],
   "source": [
    "pd.Series(preds).value_counts(normalize = True)"
   ]
  },
  {
   "cell_type": "markdown",
   "id": "f7bfd1c8",
   "metadata": {},
   "source": [
    "MODEL 4: BERNOULLI NAIVE BAYES + CVEC"
   ]
  },
  {
   "cell_type": "code",
   "execution_count": 507,
   "id": "9cd07803",
   "metadata": {},
   "outputs": [],
   "source": [
    "#Split data into predictive variables and target variable\n",
    "X = df['answer']\n",
    "y = df['who_from']"
   ]
  },
  {
   "cell_type": "code",
   "execution_count": 508,
   "id": "10cb210a",
   "metadata": {},
   "outputs": [],
   "source": [
    "X_train, X_test, y_train, y_test = train_test_split(X, y, test_size=0.2, random_state=42)"
   ]
  },
  {
   "cell_type": "code",
   "execution_count": 509,
   "id": "b97537f8",
   "metadata": {},
   "outputs": [],
   "source": [
    "cvec = CountVectorizer()\n",
    "X_train_cvec = cvec.fit_transform(X_train)\n",
    "X_test_cvec = cvec.transform(X_test)"
   ]
  },
  {
   "cell_type": "code",
   "execution_count": 510,
   "id": "7ec303d2",
   "metadata": {},
   "outputs": [
    {
     "data": {
      "text/html": [
       "<style>#sk-container-id-22 {color: black;}#sk-container-id-22 pre{padding: 0;}#sk-container-id-22 div.sk-toggleable {background-color: white;}#sk-container-id-22 label.sk-toggleable__label {cursor: pointer;display: block;width: 100%;margin-bottom: 0;padding: 0.3em;box-sizing: border-box;text-align: center;}#sk-container-id-22 label.sk-toggleable__label-arrow:before {content: \"▸\";float: left;margin-right: 0.25em;color: #696969;}#sk-container-id-22 label.sk-toggleable__label-arrow:hover:before {color: black;}#sk-container-id-22 div.sk-estimator:hover label.sk-toggleable__label-arrow:before {color: black;}#sk-container-id-22 div.sk-toggleable__content {max-height: 0;max-width: 0;overflow: hidden;text-align: left;background-color: #f0f8ff;}#sk-container-id-22 div.sk-toggleable__content pre {margin: 0.2em;color: black;border-radius: 0.25em;background-color: #f0f8ff;}#sk-container-id-22 input.sk-toggleable__control:checked~div.sk-toggleable__content {max-height: 200px;max-width: 100%;overflow: auto;}#sk-container-id-22 input.sk-toggleable__control:checked~label.sk-toggleable__label-arrow:before {content: \"▾\";}#sk-container-id-22 div.sk-estimator input.sk-toggleable__control:checked~label.sk-toggleable__label {background-color: #d4ebff;}#sk-container-id-22 div.sk-label input.sk-toggleable__control:checked~label.sk-toggleable__label {background-color: #d4ebff;}#sk-container-id-22 input.sk-hidden--visually {border: 0;clip: rect(1px 1px 1px 1px);clip: rect(1px, 1px, 1px, 1px);height: 1px;margin: -1px;overflow: hidden;padding: 0;position: absolute;width: 1px;}#sk-container-id-22 div.sk-estimator {font-family: monospace;background-color: #f0f8ff;border: 1px dotted black;border-radius: 0.25em;box-sizing: border-box;margin-bottom: 0.5em;}#sk-container-id-22 div.sk-estimator:hover {background-color: #d4ebff;}#sk-container-id-22 div.sk-parallel-item::after {content: \"\";width: 100%;border-bottom: 1px solid gray;flex-grow: 1;}#sk-container-id-22 div.sk-label:hover label.sk-toggleable__label {background-color: #d4ebff;}#sk-container-id-22 div.sk-serial::before {content: \"\";position: absolute;border-left: 1px solid gray;box-sizing: border-box;top: 0;bottom: 0;left: 50%;z-index: 0;}#sk-container-id-22 div.sk-serial {display: flex;flex-direction: column;align-items: center;background-color: white;padding-right: 0.2em;padding-left: 0.2em;position: relative;}#sk-container-id-22 div.sk-item {position: relative;z-index: 1;}#sk-container-id-22 div.sk-parallel {display: flex;align-items: stretch;justify-content: center;background-color: white;position: relative;}#sk-container-id-22 div.sk-item::before, #sk-container-id-22 div.sk-parallel-item::before {content: \"\";position: absolute;border-left: 1px solid gray;box-sizing: border-box;top: 0;bottom: 0;left: 50%;z-index: -1;}#sk-container-id-22 div.sk-parallel-item {display: flex;flex-direction: column;z-index: 1;position: relative;background-color: white;}#sk-container-id-22 div.sk-parallel-item:first-child::after {align-self: flex-end;width: 50%;}#sk-container-id-22 div.sk-parallel-item:last-child::after {align-self: flex-start;width: 50%;}#sk-container-id-22 div.sk-parallel-item:only-child::after {width: 0;}#sk-container-id-22 div.sk-dashed-wrapped {border: 1px dashed gray;margin: 0 0.4em 0.5em 0.4em;box-sizing: border-box;padding-bottom: 0.4em;background-color: white;}#sk-container-id-22 div.sk-label label {font-family: monospace;font-weight: bold;display: inline-block;line-height: 1.2em;}#sk-container-id-22 div.sk-label-container {text-align: center;}#sk-container-id-22 div.sk-container {/* jupyter's `normalize.less` sets `[hidden] { display: none; }` but bootstrap.min.css set `[hidden] { display: none !important; }` so we also need the `!important` here to be able to override the default hidden behavior on the sphinx rendered scikit-learn.org. See: https://github.com/scikit-learn/scikit-learn/issues/21755 */display: inline-block !important;position: relative;}#sk-container-id-22 div.sk-text-repr-fallback {display: none;}</style><div id=\"sk-container-id-22\" class=\"sk-top-container\"><div class=\"sk-text-repr-fallback\"><pre>BernoulliNB()</pre><b>In a Jupyter environment, please rerun this cell to show the HTML representation or trust the notebook. <br />On GitHub, the HTML representation is unable to render, please try loading this page with nbviewer.org.</b></div><div class=\"sk-container\" hidden><div class=\"sk-item\"><div class=\"sk-estimator sk-toggleable\"><input class=\"sk-toggleable__control sk-hidden--visually\" id=\"sk-estimator-id-70\" type=\"checkbox\" checked><label for=\"sk-estimator-id-70\" class=\"sk-toggleable__label sk-toggleable__label-arrow\">BernoulliNB</label><div class=\"sk-toggleable__content\"><pre>BernoulliNB()</pre></div></div></div></div></div>"
      ],
      "text/plain": [
       "BernoulliNB()"
      ]
     },
     "execution_count": 510,
     "metadata": {},
     "output_type": "execute_result"
    }
   ],
   "source": [
    "bnb = BernoulliNB()\n",
    "bnb.fit(X_train_cvec, y_train)"
   ]
  },
  {
   "cell_type": "code",
   "execution_count": 511,
   "id": "3eab0c5b",
   "metadata": {},
   "outputs": [],
   "source": [
    "y_pred = bnb.predict(X_test_cvec)"
   ]
  },
  {
   "cell_type": "code",
   "execution_count": 512,
   "id": "5e0784e3",
   "metadata": {},
   "outputs": [
    {
     "data": {
      "text/plain": [
       "0.8066020810907786"
      ]
     },
     "execution_count": 512,
     "metadata": {},
     "output_type": "execute_result"
    }
   ],
   "source": [
    "bnb.score(X_train_cvec, y_train)"
   ]
  },
  {
   "cell_type": "code",
   "execution_count": 513,
   "id": "c693759d",
   "metadata": {},
   "outputs": [
    {
     "data": {
      "text/plain": [
       "0    0.523673\n",
       "1    0.476327\n",
       "Name: who_from, dtype: float64"
      ]
     },
     "execution_count": 513,
     "metadata": {},
     "output_type": "execute_result"
    }
   ],
   "source": [
    "y_test.value_counts(normalize = True)"
   ]
  },
  {
   "cell_type": "code",
   "execution_count": 514,
   "id": "ec127f8d",
   "metadata": {},
   "outputs": [
    {
     "data": {
      "text/plain": [
       "1    0.709469\n",
       "0    0.290531\n",
       "dtype: float64"
      ]
     },
     "execution_count": 514,
     "metadata": {},
     "output_type": "execute_result"
    }
   ],
   "source": [
    "pd.Series(y_pred).value_counts(normalize = True)"
   ]
  },
  {
   "cell_type": "code",
   "execution_count": 515,
   "id": "6731bc39",
   "metadata": {},
   "outputs": [
    {
     "name": "stdout",
     "output_type": "stream",
     "text": [
      "              precision    recall  f1-score   support\n",
      "\n",
      "           0       0.99      0.55      0.71       730\n",
      "           1       0.67      0.99      0.80       664\n",
      "\n",
      "    accuracy                           0.76      1394\n",
      "   macro avg       0.83      0.77      0.75      1394\n",
      "weighted avg       0.84      0.76      0.75      1394\n",
      "\n"
     ]
    }
   ],
   "source": [
    "print(classification_report(y_test, y_pred))"
   ]
  },
  {
   "cell_type": "code",
   "execution_count": 516,
   "id": "4ee83138",
   "metadata": {
    "scrolled": true
   },
   "outputs": [
    {
     "data": {
      "text/plain": [
       "<sklearn.metrics._plot.confusion_matrix.ConfusionMatrixDisplay at 0x281f74250>"
      ]
     },
     "execution_count": 516,
     "metadata": {},
     "output_type": "execute_result"
    },
    {
     "data": {
      "image/png": "[encoded data removed]",
      "text/plain": [
       "<Figure size 640x480 with 2 Axes>"
      ]
     },
     "metadata": {},
     "output_type": "display_data"
    }
   ],
   "source": [
    "cm = confusion_matrix(y_test, y_pred)\n",
    "disp = ConfusionMatrixDisplay(confusion_matrix = cm)\n",
    "disp.plot()"
   ]
  },
  {
   "cell_type": "code",
   "execution_count": 517,
   "id": "256e34b4",
   "metadata": {},
   "outputs": [
    {
     "data": {
      "text/plain": [
       "0.8066020810907786"
      ]
     },
     "execution_count": 517,
     "metadata": {},
     "output_type": "execute_result"
    }
   ],
   "source": [
    "bnb.score(X_train_tfidf, y_train)"
   ]
  },
  {
   "cell_type": "code",
   "execution_count": 518,
   "id": "77831b43",
   "metadata": {},
   "outputs": [
    {
     "data": {
      "text/plain": [
       "0.7611190817790531"
      ]
     },
     "execution_count": 518,
     "metadata": {},
     "output_type": "execute_result"
    }
   ],
   "source": [
    "bnb.score(X_test_tfidf, y_test)"
   ]
  },
  {
   "cell_type": "markdown",
   "id": "cfdb52e1",
   "metadata": {},
   "source": [
    "MODEL 5: BERNOULLI NAIVE BAYES + TFIDF"
   ]
  },
  {
   "cell_type": "code",
   "execution_count": 519,
   "id": "628b7284",
   "metadata": {},
   "outputs": [
    {
     "data": {
      "text/html": [
       "<style>#sk-container-id-23 {color: black;}#sk-container-id-23 pre{padding: 0;}#sk-container-id-23 div.sk-toggleable {background-color: white;}#sk-container-id-23 label.sk-toggleable__label {cursor: pointer;display: block;width: 100%;margin-bottom: 0;padding: 0.3em;box-sizing: border-box;text-align: center;}#sk-container-id-23 label.sk-toggleable__label-arrow:before {content: \"▸\";float: left;margin-right: 0.25em;color: #696969;}#sk-container-id-23 label.sk-toggleable__label-arrow:hover:before {color: black;}#sk-container-id-23 div.sk-estimator:hover label.sk-toggleable__label-arrow:before {color: black;}#sk-container-id-23 div.sk-toggleable__content {max-height: 0;max-width: 0;overflow: hidden;text-align: left;background-color: #f0f8ff;}#sk-container-id-23 div.sk-toggleable__content pre {margin: 0.2em;color: black;border-radius: 0.25em;background-color: #f0f8ff;}#sk-container-id-23 input.sk-toggleable__control:checked~div.sk-toggleable__content {max-height: 200px;max-width: 100%;overflow: auto;}#sk-container-id-23 input.sk-toggleable__control:checked~label.sk-toggleable__label-arrow:before {content: \"▾\";}#sk-container-id-23 div.sk-estimator input.sk-toggleable__control:checked~label.sk-toggleable__label {background-color: #d4ebff;}#sk-container-id-23 div.sk-label input.sk-toggleable__control:checked~label.sk-toggleable__label {background-color: #d4ebff;}#sk-container-id-23 input.sk-hidden--visually {border: 0;clip: rect(1px 1px 1px 1px);clip: rect(1px, 1px, 1px, 1px);height: 1px;margin: -1px;overflow: hidden;padding: 0;position: absolute;width: 1px;}#sk-container-id-23 div.sk-estimator {font-family: monospace;background-color: #f0f8ff;border: 1px dotted black;border-radius: 0.25em;box-sizing: border-box;margin-bottom: 0.5em;}#sk-container-id-23 div.sk-estimator:hover {background-color: #d4ebff;}#sk-container-id-23 div.sk-parallel-item::after {content: \"\";width: 100%;border-bottom: 1px solid gray;flex-grow: 1;}#sk-container-id-23 div.sk-label:hover label.sk-toggleable__label {background-color: #d4ebff;}#sk-container-id-23 div.sk-serial::before {content: \"\";position: absolute;border-left: 1px solid gray;box-sizing: border-box;top: 0;bottom: 0;left: 50%;z-index: 0;}#sk-container-id-23 div.sk-serial {display: flex;flex-direction: column;align-items: center;background-color: white;padding-right: 0.2em;padding-left: 0.2em;position: relative;}#sk-container-id-23 div.sk-item {position: relative;z-index: 1;}#sk-container-id-23 div.sk-parallel {display: flex;align-items: stretch;justify-content: center;background-color: white;position: relative;}#sk-container-id-23 div.sk-item::before, #sk-container-id-23 div.sk-parallel-item::before {content: \"\";position: absolute;border-left: 1px solid gray;box-sizing: border-box;top: 0;bottom: 0;left: 50%;z-index: -1;}#sk-container-id-23 div.sk-parallel-item {display: flex;flex-direction: column;z-index: 1;position: relative;background-color: white;}#sk-container-id-23 div.sk-parallel-item:first-child::after {align-self: flex-end;width: 50%;}#sk-container-id-23 div.sk-parallel-item:last-child::after {align-self: flex-start;width: 50%;}#sk-container-id-23 div.sk-parallel-item:only-child::after {width: 0;}#sk-container-id-23 div.sk-dashed-wrapped {border: 1px dashed gray;margin: 0 0.4em 0.5em 0.4em;box-sizing: border-box;padding-bottom: 0.4em;background-color: white;}#sk-container-id-23 div.sk-label label {font-family: monospace;font-weight: bold;display: inline-block;line-height: 1.2em;}#sk-container-id-23 div.sk-label-container {text-align: center;}#sk-container-id-23 div.sk-container {/* jupyter's `normalize.less` sets `[hidden] { display: none; }` but bootstrap.min.css set `[hidden] { display: none !important; }` so we also need the `!important` here to be able to override the default hidden behavior on the sphinx rendered scikit-learn.org. See: https://github.com/scikit-learn/scikit-learn/issues/21755 */display: inline-block !important;position: relative;}#sk-container-id-23 div.sk-text-repr-fallback {display: none;}</style><div id=\"sk-container-id-23\" class=\"sk-top-container\"><div class=\"sk-text-repr-fallback\"><pre>BernoulliNB()</pre><b>In a Jupyter environment, please rerun this cell to show the HTML representation or trust the notebook. <br />On GitHub, the HTML representation is unable to render, please try loading this page with nbviewer.org.</b></div><div class=\"sk-container\" hidden><div class=\"sk-item\"><div class=\"sk-estimator sk-toggleable\"><input class=\"sk-toggleable__control sk-hidden--visually\" id=\"sk-estimator-id-71\" type=\"checkbox\" checked><label for=\"sk-estimator-id-71\" class=\"sk-toggleable__label sk-toggleable__label-arrow\">BernoulliNB</label><div class=\"sk-toggleable__content\"><pre>BernoulliNB()</pre></div></div></div></div></div>"
      ],
      "text/plain": [
       "BernoulliNB()"
      ]
     },
     "execution_count": 519,
     "metadata": {},
     "output_type": "execute_result"
    }
   ],
   "source": [
    "X = df['answer']\n",
    "y = df['who_from']\n",
    "\n",
    "X_train, X_test, y_train, y_test = train_test_split(X, y, test_size=0.2, random_state=42)\n",
    "\n",
    "tfidf = TfidfVectorizer()\n",
    "X_train_tfidf = tfidf.fit_transform(X_train)\n",
    "X_test_tfidf = tfidf.transform(X_test)\n",
    "\n",
    "bnb = BernoulliNB()\n",
    "bnb.fit(X_train_tfidf, y_train)"
   ]
  },
  {
   "cell_type": "code",
   "execution_count": 520,
   "id": "c847a60b",
   "metadata": {},
   "outputs": [],
   "source": [
    "y_pred = bnb.predict(X_test_tfidf)"
   ]
  },
  {
   "cell_type": "code",
   "execution_count": 521,
   "id": "f2c1cb15",
   "metadata": {},
   "outputs": [
    {
     "data": {
      "text/plain": [
       "0.8066020810907786"
      ]
     },
     "execution_count": 521,
     "metadata": {},
     "output_type": "execute_result"
    }
   ],
   "source": [
    "bnb.score(X_train_tfidf, y_train)"
   ]
  },
  {
   "cell_type": "code",
   "execution_count": 522,
   "id": "73d7d6af",
   "metadata": {},
   "outputs": [
    {
     "data": {
      "text/plain": [
       "0.7611190817790531"
      ]
     },
     "execution_count": 522,
     "metadata": {},
     "output_type": "execute_result"
    }
   ],
   "source": [
    "bnb.score(X_test_tfidf, y_test)"
   ]
  },
  {
   "cell_type": "code",
   "execution_count": 523,
   "id": "74fdb8c0",
   "metadata": {},
   "outputs": [
    {
     "data": {
      "text/plain": [
       "0    0.523673\n",
       "1    0.476327\n",
       "Name: who_from, dtype: float64"
      ]
     },
     "execution_count": 523,
     "metadata": {},
     "output_type": "execute_result"
    }
   ],
   "source": [
    "y_test.value_counts(normalize = True)"
   ]
  },
  {
   "cell_type": "code",
   "execution_count": 524,
   "id": "137c0f7e",
   "metadata": {},
   "outputs": [
    {
     "data": {
      "text/plain": [
       "1    0.709469\n",
       "0    0.290531\n",
       "dtype: float64"
      ]
     },
     "execution_count": 524,
     "metadata": {},
     "output_type": "execute_result"
    }
   ],
   "source": [
    "pd.Series(y_pred).value_counts(normalize = True)"
   ]
  },
  {
   "cell_type": "code",
   "execution_count": 525,
   "id": "4bed5ed3",
   "metadata": {},
   "outputs": [
    {
     "name": "stdout",
     "output_type": "stream",
     "text": [
      "              precision    recall  f1-score   support\n",
      "\n",
      "           0       0.99      0.55      0.71       730\n",
      "           1       0.67      0.99      0.80       664\n",
      "\n",
      "    accuracy                           0.76      1394\n",
      "   macro avg       0.83      0.77      0.75      1394\n",
      "weighted avg       0.84      0.76      0.75      1394\n",
      "\n"
     ]
    }
   ],
   "source": [
    "print(classification_report(y_test, y_pred))"
   ]
  },
  {
   "cell_type": "code",
   "execution_count": 526,
   "id": "e207b28d",
   "metadata": {
    "scrolled": true
   },
   "outputs": [
    {
     "data": {
      "text/plain": [
       "<sklearn.metrics._plot.confusion_matrix.ConfusionMatrixDisplay at 0x282b11150>"
      ]
     },
     "execution_count": 526,
     "metadata": {},
     "output_type": "execute_result"
    },
    {
     "data": {
      "image/png": "[encoded data removed]",
      "text/plain": [
       "<Figure size 640x480 with 2 Axes>"
      ]
     },
     "metadata": {},
     "output_type": "display_data"
    }
   ],
   "source": [
    "cm = confusion_matrix(y_test, y_pred)\n",
    "disp = ConfusionMatrixDisplay(confusion_matrix = cm)\n",
    "disp.plot()"
   ]
  },
  {
   "cell_type": "code",
   "execution_count": 527,
   "id": "06c84747",
   "metadata": {},
   "outputs": [
    {
     "data": {
      "text/plain": [
       "0.9610692500897022"
      ]
     },
     "execution_count": 527,
     "metadata": {},
     "output_type": "execute_result"
    }
   ],
   "source": [
    "lr.score(X_train_tfidf, y_train)"
   ]
  },
  {
   "cell_type": "code",
   "execution_count": 528,
   "id": "1d52c2ac",
   "metadata": {},
   "outputs": [
    {
     "data": {
      "text/plain": [
       "0.9146341463414634"
      ]
     },
     "execution_count": 528,
     "metadata": {},
     "output_type": "execute_result"
    }
   ],
   "source": [
    "lr.score(X_test_tfidf, y_test)"
   ]
  },
  {
   "cell_type": "markdown",
   "id": "50ec2ba5",
   "metadata": {},
   "source": [
    "MODEL 6: BERNOULLI NAIVE BAYES + CVEC + PIPE + GRID\n",
    "- Will explore stemming + lemmatization (both reduction of inflection from words)\n",
    "    - Stemming: Words with same origin will get reduced to same form (which may not be a word)\n",
    "        - https://www.geeksforgeeks.org/python-stemming-words-with-nltk/\n",
    "    - Lemmatiztion: Words with same origin will get reduced to same form (reduced form will be a word)\n",
    "        - https://www.codingninjas.com/studio/library/lemmatization\n",
    "- https://www.mygreatlearning.com/blog/nltk-tutorial-with-python/#:~:text=NLTK%20is%20a%20standard%20python,language%20processing%20and%20computational%20linguistics.\n",
    "- https://spacy.io/ may use (library for NLP)"
   ]
  },
  {
   "cell_type": "code",
   "execution_count": 529,
   "id": "25a08e8a",
   "metadata": {},
   "outputs": [
    {
     "data": {
      "text/plain": [
       "\"\\n#https://medium.com/@makcedward/nlp-pipeline-lemmatization-part-3-4bfd7304957\\n#Above article shows both spacy and nltk uses\\n#https://towardsdatascience.com/elegant-text-pre-processing-with-nltk-in-sklearn-pipeline-d6fe18b91eb8\\n#Referred to above article for lemmatization process below\\n#Will use nltk lemmatization\\nlemmatizer = WordNetLemmatizer()\\n\\ndef NltkTextPreprocessor(text):\\n    words = nltk.word_tokenize(text)  #Tokenize text\\n    lemmatized_words = [] #Lemmatized words list\\n    for word in words: #Adding lemmatized word to lemmatized_words list\\n        lw = lemmatizer.lemmatize(word)\\n        lemmatized_words.append(lw)\\n    return ' '.join(lemmatized_words)\\n\\n#https://queirozf.com/entries/scikit-learn-pipelines-custom-pipelines-and-pandas-integration\\n#Create custom transformer using lemmatization\\nlemmatizer = FunctionTransformer(NltkTextPreprocessor) #\\n\""
      ]
     },
     "execution_count": 529,
     "metadata": {},
     "output_type": "execute_result"
    }
   ],
   "source": [
    "\"\"\"\n",
    "#https://medium.com/@makcedward/nlp-pipeline-lemmatization-part-3-4bfd7304957\n",
    "#Above article shows both spacy and nltk uses\n",
    "#https://towardsdatascience.com/elegant-text-pre-processing-with-nltk-in-sklearn-pipeline-d6fe18b91eb8\n",
    "#Referred to above article for lemmatization process below\n",
    "#Will use nltk lemmatization\n",
    "lemmatizer = WordNetLemmatizer()\n",
    "\n",
    "def NltkTextPreprocessor(text):\n",
    "    words = nltk.word_tokenize(text)  #Tokenize text\n",
    "    lemmatized_words = [] #Lemmatized words list\n",
    "    for word in words: #Adding lemmatized word to lemmatized_words list\n",
    "        lw = lemmatizer.lemmatize(word)\n",
    "        lemmatized_words.append(lw)\n",
    "    return ' '.join(lemmatized_words)\n",
    "\n",
    "#https://queirozf.com/entries/scikit-learn-pipelines-custom-pipelines-and-pandas-integration\n",
    "#Create custom transformer using lemmatization\n",
    "lemmatizer = FunctionTransformer(NltkTextPreprocessor) #\n",
    "\"\"\""
   ]
  },
  {
   "cell_type": "markdown",
   "id": "6b420a76",
   "metadata": {},
   "source": [
    "Above I tried to implement lemmatization into my pipeline. Found various sites which said I could, but ultimately I wasn't able to figure it out. Will instead lemmatize my dataframe then do the modelling. "
   ]
  },
  {
   "cell_type": "code",
   "execution_count": 530,
   "id": "b866aff1",
   "metadata": {},
   "outputs": [],
   "source": [
    "X = df['answer']\n",
    "y = df['who_from']\n",
    "\n",
    "X_train, X_test, y_train, y_test = train_test_split(X, y, test_size=0.2, random_state=42)"
   ]
  },
  {
   "cell_type": "code",
   "execution_count": 531,
   "id": "74a901e3",
   "metadata": {},
   "outputs": [],
   "source": [
    "#https://stackoverflow.com/questions/47557563/lemmatization-of-all-pandas-cells\n",
    "#Referred to the above for lemmatization process of column\n",
    "w_tokenizer = nltk.tokenize.WhitespaceTokenizer()\n",
    "lemmatizer = nltk.stem.WordNetLemmatizer()\n",
    "\n",
    "def lemmatize_text(text):\n",
    "    return [lemmatizer.lemmatize(w) for w in w_tokenizer.tokenize(text)]\n",
    "\n",
    "X = df['answer'].apply(lemmatize_text)"
   ]
  },
  {
   "cell_type": "code",
   "execution_count": 532,
   "id": "9477292b",
   "metadata": {},
   "outputs": [],
   "source": [
    "pipe = Pipeline([\n",
    "    ('cvec', CountVectorizer()),  # Vectorization\n",
    "    ('bnb', BernoulliNB())  # Model\n",
    "])"
   ]
  },
  {
   "cell_type": "code",
   "execution_count": 533,
   "id": "84474467",
   "metadata": {},
   "outputs": [],
   "source": [
    "pipe_params = {\n",
    "    'cvec__max_features': [None, 1000],\n",
    "    'cvec__min_df': [1, 10, 50],\n",
    "    'cvec__max_df': [0.25, 0.95],\n",
    "    'cvec__ngram_range': [(1, 2), (1, 1)],\n",
    "    'cvec__stop_words': ['english', None]\n",
    "}"
   ]
  },
  {
   "cell_type": "code",
   "execution_count": 534,
   "id": "e0f7a031",
   "metadata": {},
   "outputs": [],
   "source": [
    "gs = GridSearchCV(pipe, # what object are we optimizing?\n",
    "                  pipe_params, # what parameters values are we searching?\n",
    "                  cv = 5) # 5-fold cross-validation."
   ]
  },
  {
   "cell_type": "code",
   "execution_count": 535,
   "id": "ced5e87a",
   "metadata": {},
   "outputs": [
    {
     "data": {
      "text/html": [
       "<style>#sk-container-id-24 {color: black;}#sk-container-id-24 pre{padding: 0;}#sk-container-id-24 div.sk-toggleable {background-color: white;}#sk-container-id-24 label.sk-toggleable__label {cursor: pointer;display: block;width: 100%;margin-bottom: 0;padding: 0.3em;box-sizing: border-box;text-align: center;}#sk-container-id-24 label.sk-toggleable__label-arrow:before {content: \"▸\";float: left;margin-right: 0.25em;color: #696969;}#sk-container-id-24 label.sk-toggleable__label-arrow:hover:before {color: black;}#sk-container-id-24 div.sk-estimator:hover label.sk-toggleable__label-arrow:before {color: black;}#sk-container-id-24 div.sk-toggleable__content {max-height: 0;max-width: 0;overflow: hidden;text-align: left;background-color: #f0f8ff;}#sk-container-id-24 div.sk-toggleable__content pre {margin: 0.2em;color: black;border-radius: 0.25em;background-color: #f0f8ff;}#sk-container-id-24 input.sk-toggleable__control:checked~div.sk-toggleable__content {max-height: 200px;max-width: 100%;overflow: auto;}#sk-container-id-24 input.sk-toggleable__control:checked~label.sk-toggleable__label-arrow:before {content: \"▾\";}#sk-container-id-24 div.sk-estimator input.sk-toggleable__control:checked~label.sk-toggleable__label {background-color: #d4ebff;}#sk-container-id-24 div.sk-label input.sk-toggleable__control:checked~label.sk-toggleable__label {background-color: #d4ebff;}#sk-container-id-24 input.sk-hidden--visually {border: 0;clip: rect(1px 1px 1px 1px);clip: rect(1px, 1px, 1px, 1px);height: 1px;margin: -1px;overflow: hidden;padding: 0;position: absolute;width: 1px;}#sk-container-id-24 div.sk-estimator {font-family: monospace;background-color: #f0f8ff;border: 1px dotted black;border-radius: 0.25em;box-sizing: border-box;margin-bottom: 0.5em;}#sk-container-id-24 div.sk-estimator:hover {background-color: #d4ebff;}#sk-container-id-24 div.sk-parallel-item::after {content: \"\";width: 100%;border-bottom: 1px solid gray;flex-grow: 1;}#sk-container-id-24 div.sk-label:hover label.sk-toggleable__label {background-color: #d4ebff;}#sk-container-id-24 div.sk-serial::before {content: \"\";position: absolute;border-left: 1px solid gray;box-sizing: border-box;top: 0;bottom: 0;left: 50%;z-index: 0;}#sk-container-id-24 div.sk-serial {display: flex;flex-direction: column;align-items: center;background-color: white;padding-right: 0.2em;padding-left: 0.2em;position: relative;}#sk-container-id-24 div.sk-item {position: relative;z-index: 1;}#sk-container-id-24 div.sk-parallel {display: flex;align-items: stretch;justify-content: center;background-color: white;position: relative;}#sk-container-id-24 div.sk-item::before, #sk-container-id-24 div.sk-parallel-item::before {content: \"\";position: absolute;border-left: 1px solid gray;box-sizing: border-box;top: 0;bottom: 0;left: 50%;z-index: -1;}#sk-container-id-24 div.sk-parallel-item {display: flex;flex-direction: column;z-index: 1;position: relative;background-color: white;}#sk-container-id-24 div.sk-parallel-item:first-child::after {align-self: flex-end;width: 50%;}#sk-container-id-24 div.sk-parallel-item:last-child::after {align-self: flex-start;width: 50%;}#sk-container-id-24 div.sk-parallel-item:only-child::after {width: 0;}#sk-container-id-24 div.sk-dashed-wrapped {border: 1px dashed gray;margin: 0 0.4em 0.5em 0.4em;box-sizing: border-box;padding-bottom: 0.4em;background-color: white;}#sk-container-id-24 div.sk-label label {font-family: monospace;font-weight: bold;display: inline-block;line-height: 1.2em;}#sk-container-id-24 div.sk-label-container {text-align: center;}#sk-container-id-24 div.sk-container {/* jupyter's `normalize.less` sets `[hidden] { display: none; }` but bootstrap.min.css set `[hidden] { display: none !important; }` so we also need the `!important` here to be able to override the default hidden behavior on the sphinx rendered scikit-learn.org. See: https://github.com/scikit-learn/scikit-learn/issues/21755 */display: inline-block !important;position: relative;}#sk-container-id-24 div.sk-text-repr-fallback {display: none;}</style><div id=\"sk-container-id-24\" class=\"sk-top-container\"><div class=\"sk-text-repr-fallback\"><pre>GridSearchCV(cv=5,\n",
       "             estimator=Pipeline(steps=[(&#x27;cvec&#x27;, CountVectorizer()),\n",
       "                                       (&#x27;bnb&#x27;, BernoulliNB())]),\n",
       "             param_grid={&#x27;cvec__max_df&#x27;: [0.25, 0.95],\n",
       "                         &#x27;cvec__max_features&#x27;: [None, 1000],\n",
       "                         &#x27;cvec__min_df&#x27;: [1, 10, 50],\n",
       "                         &#x27;cvec__ngram_range&#x27;: [(1, 2), (1, 1)],\n",
       "                         &#x27;cvec__stop_words&#x27;: [&#x27;english&#x27;, None]})</pre><b>In a Jupyter environment, please rerun this cell to show the HTML representation or trust the notebook. <br />On GitHub, the HTML representation is unable to render, please try loading this page with nbviewer.org.</b></div><div class=\"sk-container\" hidden><div class=\"sk-item sk-dashed-wrapped\"><div class=\"sk-label-container\"><div class=\"sk-label sk-toggleable\"><input class=\"sk-toggleable__control sk-hidden--visually\" id=\"sk-estimator-id-72\" type=\"checkbox\" ><label for=\"sk-estimator-id-72\" class=\"sk-toggleable__label sk-toggleable__label-arrow\">GridSearchCV</label><div class=\"sk-toggleable__content\"><pre>GridSearchCV(cv=5,\n",
       "             estimator=Pipeline(steps=[(&#x27;cvec&#x27;, CountVectorizer()),\n",
       "                                       (&#x27;bnb&#x27;, BernoulliNB())]),\n",
       "             param_grid={&#x27;cvec__max_df&#x27;: [0.25, 0.95],\n",
       "                         &#x27;cvec__max_features&#x27;: [None, 1000],\n",
       "                         &#x27;cvec__min_df&#x27;: [1, 10, 50],\n",
       "                         &#x27;cvec__ngram_range&#x27;: [(1, 2), (1, 1)],\n",
       "                         &#x27;cvec__stop_words&#x27;: [&#x27;english&#x27;, None]})</pre></div></div></div><div class=\"sk-parallel\"><div class=\"sk-parallel-item\"><div class=\"sk-item\"><div class=\"sk-label-container\"><div class=\"sk-label sk-toggleable\"><input class=\"sk-toggleable__control sk-hidden--visually\" id=\"sk-estimator-id-73\" type=\"checkbox\" ><label for=\"sk-estimator-id-73\" class=\"sk-toggleable__label sk-toggleable__label-arrow\">estimator: Pipeline</label><div class=\"sk-toggleable__content\"><pre>Pipeline(steps=[(&#x27;cvec&#x27;, CountVectorizer()), (&#x27;bnb&#x27;, BernoulliNB())])</pre></div></div></div><div class=\"sk-serial\"><div class=\"sk-item\"><div class=\"sk-serial\"><div class=\"sk-item\"><div class=\"sk-estimator sk-toggleable\"><input class=\"sk-toggleable__control sk-hidden--visually\" id=\"sk-estimator-id-74\" type=\"checkbox\" ><label for=\"sk-estimator-id-74\" class=\"sk-toggleable__label sk-toggleable__label-arrow\">CountVectorizer</label><div class=\"sk-toggleable__content\"><pre>CountVectorizer()</pre></div></div></div><div class=\"sk-item\"><div class=\"sk-estimator sk-toggleable\"><input class=\"sk-toggleable__control sk-hidden--visually\" id=\"sk-estimator-id-75\" type=\"checkbox\" ><label for=\"sk-estimator-id-75\" class=\"sk-toggleable__label sk-toggleable__label-arrow\">BernoulliNB</label><div class=\"sk-toggleable__content\"><pre>BernoulliNB()</pre></div></div></div></div></div></div></div></div></div></div></div></div>"
      ],
      "text/plain": [
       "GridSearchCV(cv=5,\n",
       "             estimator=Pipeline(steps=[('cvec', CountVectorizer()),\n",
       "                                       ('bnb', BernoulliNB())]),\n",
       "             param_grid={'cvec__max_df': [0.25, 0.95],\n",
       "                         'cvec__max_features': [None, 1000],\n",
       "                         'cvec__min_df': [1, 10, 50],\n",
       "                         'cvec__ngram_range': [(1, 2), (1, 1)],\n",
       "                         'cvec__stop_words': ['english', None]})"
      ]
     },
     "execution_count": 535,
     "metadata": {},
     "output_type": "execute_result"
    }
   ],
   "source": [
    "gs.fit(X_train, y_train)"
   ]
  },
  {
   "cell_type": "code",
   "execution_count": 536,
   "id": "f67627a9",
   "metadata": {},
   "outputs": [
    {
     "data": {
      "text/plain": [
       "0.7813064865430597"
      ]
     },
     "execution_count": 536,
     "metadata": {},
     "output_type": "execute_result"
    }
   ],
   "source": [
    "gs.best_score_"
   ]
  },
  {
   "cell_type": "code",
   "execution_count": 537,
   "id": "b02d2816",
   "metadata": {},
   "outputs": [
    {
     "data": {
      "text/plain": [
       "0.7974524578399713"
      ]
     },
     "execution_count": 537,
     "metadata": {},
     "output_type": "execute_result"
    }
   ],
   "source": [
    "gs.score(X_train, y_train)"
   ]
  },
  {
   "cell_type": "code",
   "execution_count": 538,
   "id": "4d940819",
   "metadata": {},
   "outputs": [
    {
     "data": {
      "text/plain": [
       "0.7776183644189383"
      ]
     },
     "execution_count": 538,
     "metadata": {},
     "output_type": "execute_result"
    }
   ],
   "source": [
    "gs.score(X_test, y_test)"
   ]
  },
  {
   "cell_type": "code",
   "execution_count": 539,
   "id": "3e717078",
   "metadata": {},
   "outputs": [
    {
     "data": {
      "text/plain": [
       "{'cvec__max_df': 0.95,\n",
       " 'cvec__max_features': None,\n",
       " 'cvec__min_df': 10,\n",
       " 'cvec__ngram_range': (1, 1),\n",
       " 'cvec__stop_words': None}"
      ]
     },
     "execution_count": 539,
     "metadata": {},
     "output_type": "execute_result"
    }
   ],
   "source": [
    "gs.best_params_"
   ]
  },
  {
   "cell_type": "code",
   "execution_count": 540,
   "id": "f3e35d3b",
   "metadata": {},
   "outputs": [],
   "source": [
    "# Get predictions\n",
    "preds = gs.predict(X_test)\n",
    "# Save confusion matrix values\n",
    "tn, fp, fn, tp = confusion_matrix(y_test, preds).ravel()"
   ]
  },
  {
   "cell_type": "code",
   "execution_count": 541,
   "id": "2609bc79",
   "metadata": {},
   "outputs": [
    {
     "data": {
      "image/png": "[encoded data removed]",
      "text/plain": [
       "<Figure size 640x480 with 2 Axes>"
      ]
     },
     "metadata": {},
     "output_type": "display_data"
    }
   ],
   "source": [
    "# View confusion matrix\n",
    "ConfusionMatrixDisplay.from_estimator(gs, X_test, y_test, cmap='Reds', values_format='d');"
   ]
  },
  {
   "cell_type": "code",
   "execution_count": 542,
   "id": "89696c70",
   "metadata": {},
   "outputs": [
    {
     "data": {
      "text/plain": [
       "1    0.691535\n",
       "0    0.308465\n",
       "dtype: float64"
      ]
     },
     "execution_count": 542,
     "metadata": {},
     "output_type": "execute_result"
    }
   ],
   "source": [
    "pd.Series(preds).value_counts(normalize = True)"
   ]
  },
  {
   "cell_type": "markdown",
   "id": "5f34ded0",
   "metadata": {},
   "source": [
    "MODEL 7: LOGREG + CVEC + PIPELINE + GRIDSEARCH + LEMMATIZATION"
   ]
  },
  {
   "cell_type": "code",
   "execution_count": 543,
   "id": "a4298caa",
   "metadata": {},
   "outputs": [],
   "source": [
    "X = df['answer']\n",
    "y = df['who_from']\n",
    "\n",
    "X_train, X_test, y_train, y_test = train_test_split(X, y, test_size=0.2, random_state=42)"
   ]
  },
  {
   "cell_type": "code",
   "execution_count": 544,
   "id": "82bdd9a4",
   "metadata": {},
   "outputs": [],
   "source": [
    "w_tokenizer = nltk.tokenize.WhitespaceTokenizer()\n",
    "lemmatizer = nltk.stem.WordNetLemmatizer()\n",
    "\n",
    "def lemmatize_text(text):\n",
    "    return [lemmatizer.lemmatize(w) for w in w_tokenizer.tokenize(text)]\n",
    "\n",
    "X = df['answer'].apply(lemmatize_text)"
   ]
  },
  {
   "cell_type": "code",
   "execution_count": 545,
   "id": "407d180c",
   "metadata": {},
   "outputs": [],
   "source": [
    "pipe = Pipeline([\n",
    "    ('cvec', CountVectorizer()),  # Vectorization\n",
    "    ('lr', LogisticRegression(max_iter=1000)) #Raised max_iter as was getting an error that total no. of iterations reached limit\n",
    "])\n",
    "#https://scikit-learn.org/stable/modules/generated/sklearn.linear_model.LogisticRegression.html"
   ]
  },
  {
   "cell_type": "code",
   "execution_count": 546,
   "id": "355f3ae7",
   "metadata": {},
   "outputs": [],
   "source": [
    "pipe_params = {\n",
    "    'cvec__max_features': [None, 500, 1000, 5000],\n",
    "    'cvec__min_df': [1, 10, 50],\n",
    "    'cvec__max_df': [0.25, .5, 0.95],\n",
    "    'cvec__ngram_range': [(1, 2), (1, 1)],\n",
    "    'cvec__stop_words': ['english', None]\n",
    "}"
   ]
  },
  {
   "cell_type": "code",
   "execution_count": 547,
   "id": "1be68916",
   "metadata": {},
   "outputs": [],
   "source": [
    "gs = GridSearchCV(pipe, # what object are we optimizing?\n",
    "                  pipe_params, # what parameters values are we searching?\n",
    "                  cv = 5) # 5-fold cross-validation."
   ]
  },
  {
   "cell_type": "code",
   "execution_count": 548,
   "id": "88d458c0",
   "metadata": {},
   "outputs": [
    {
     "data": {
      "text/html": [
       "<style>#sk-container-id-25 {color: black;}#sk-container-id-25 pre{padding: 0;}#sk-container-id-25 div.sk-toggleable {background-color: white;}#sk-container-id-25 label.sk-toggleable__label {cursor: pointer;display: block;width: 100%;margin-bottom: 0;padding: 0.3em;box-sizing: border-box;text-align: center;}#sk-container-id-25 label.sk-toggleable__label-arrow:before {content: \"▸\";float: left;margin-right: 0.25em;color: #696969;}#sk-container-id-25 label.sk-toggleable__label-arrow:hover:before {color: black;}#sk-container-id-25 div.sk-estimator:hover label.sk-toggleable__label-arrow:before {color: black;}#sk-container-id-25 div.sk-toggleable__content {max-height: 0;max-width: 0;overflow: hidden;text-align: left;background-color: #f0f8ff;}#sk-container-id-25 div.sk-toggleable__content pre {margin: 0.2em;color: black;border-radius: 0.25em;background-color: #f0f8ff;}#sk-container-id-25 input.sk-toggleable__control:checked~div.sk-toggleable__content {max-height: 200px;max-width: 100%;overflow: auto;}#sk-container-id-25 input.sk-toggleable__control:checked~label.sk-toggleable__label-arrow:before {content: \"▾\";}#sk-container-id-25 div.sk-estimator input.sk-toggleable__control:checked~label.sk-toggleable__label {background-color: #d4ebff;}#sk-container-id-25 div.sk-label input.sk-toggleable__control:checked~label.sk-toggleable__label {background-color: #d4ebff;}#sk-container-id-25 input.sk-hidden--visually {border: 0;clip: rect(1px 1px 1px 1px);clip: rect(1px, 1px, 1px, 1px);height: 1px;margin: -1px;overflow: hidden;padding: 0;position: absolute;width: 1px;}#sk-container-id-25 div.sk-estimator {font-family: monospace;background-color: #f0f8ff;border: 1px dotted black;border-radius: 0.25em;box-sizing: border-box;margin-bottom: 0.5em;}#sk-container-id-25 div.sk-estimator:hover {background-color: #d4ebff;}#sk-container-id-25 div.sk-parallel-item::after {content: \"\";width: 100%;border-bottom: 1px solid gray;flex-grow: 1;}#sk-container-id-25 div.sk-label:hover label.sk-toggleable__label {background-color: #d4ebff;}#sk-container-id-25 div.sk-serial::before {content: \"\";position: absolute;border-left: 1px solid gray;box-sizing: border-box;top: 0;bottom: 0;left: 50%;z-index: 0;}#sk-container-id-25 div.sk-serial {display: flex;flex-direction: column;align-items: center;background-color: white;padding-right: 0.2em;padding-left: 0.2em;position: relative;}#sk-container-id-25 div.sk-item {position: relative;z-index: 1;}#sk-container-id-25 div.sk-parallel {display: flex;align-items: stretch;justify-content: center;background-color: white;position: relative;}#sk-container-id-25 div.sk-item::before, #sk-container-id-25 div.sk-parallel-item::before {content: \"\";position: absolute;border-left: 1px solid gray;box-sizing: border-box;top: 0;bottom: 0;left: 50%;z-index: -1;}#sk-container-id-25 div.sk-parallel-item {display: flex;flex-direction: column;z-index: 1;position: relative;background-color: white;}#sk-container-id-25 div.sk-parallel-item:first-child::after {align-self: flex-end;width: 50%;}#sk-container-id-25 div.sk-parallel-item:last-child::after {align-self: flex-start;width: 50%;}#sk-container-id-25 div.sk-parallel-item:only-child::after {width: 0;}#sk-container-id-25 div.sk-dashed-wrapped {border: 1px dashed gray;margin: 0 0.4em 0.5em 0.4em;box-sizing: border-box;padding-bottom: 0.4em;background-color: white;}#sk-container-id-25 div.sk-label label {font-family: monospace;font-weight: bold;display: inline-block;line-height: 1.2em;}#sk-container-id-25 div.sk-label-container {text-align: center;}#sk-container-id-25 div.sk-container {/* jupyter's `normalize.less` sets `[hidden] { display: none; }` but bootstrap.min.css set `[hidden] { display: none !important; }` so we also need the `!important` here to be able to override the default hidden behavior on the sphinx rendered scikit-learn.org. See: https://github.com/scikit-learn/scikit-learn/issues/21755 */display: inline-block !important;position: relative;}#sk-container-id-25 div.sk-text-repr-fallback {display: none;}</style><div id=\"sk-container-id-25\" class=\"sk-top-container\"><div class=\"sk-text-repr-fallback\"><pre>GridSearchCV(cv=5,\n",
       "             estimator=Pipeline(steps=[(&#x27;cvec&#x27;, CountVectorizer()),\n",
       "                                       (&#x27;lr&#x27;,\n",
       "                                        LogisticRegression(max_iter=1000))]),\n",
       "             param_grid={&#x27;cvec__max_df&#x27;: [0.25, 0.5, 0.95],\n",
       "                         &#x27;cvec__max_features&#x27;: [None, 500, 1000, 5000],\n",
       "                         &#x27;cvec__min_df&#x27;: [1, 10, 50],\n",
       "                         &#x27;cvec__ngram_range&#x27;: [(1, 2), (1, 1)],\n",
       "                         &#x27;cvec__stop_words&#x27;: [&#x27;english&#x27;, None]})</pre><b>In a Jupyter environment, please rerun this cell to show the HTML representation or trust the notebook. <br />On GitHub, the HTML representation is unable to render, please try loading this page with nbviewer.org.</b></div><div class=\"sk-container\" hidden><div class=\"sk-item sk-dashed-wrapped\"><div class=\"sk-label-container\"><div class=\"sk-label sk-toggleable\"><input class=\"sk-toggleable__control sk-hidden--visually\" id=\"sk-estimator-id-76\" type=\"checkbox\" ><label for=\"sk-estimator-id-76\" class=\"sk-toggleable__label sk-toggleable__label-arrow\">GridSearchCV</label><div class=\"sk-toggleable__content\"><pre>GridSearchCV(cv=5,\n",
       "             estimator=Pipeline(steps=[(&#x27;cvec&#x27;, CountVectorizer()),\n",
       "                                       (&#x27;lr&#x27;,\n",
       "                                        LogisticRegression(max_iter=1000))]),\n",
       "             param_grid={&#x27;cvec__max_df&#x27;: [0.25, 0.5, 0.95],\n",
       "                         &#x27;cvec__max_features&#x27;: [None, 500, 1000, 5000],\n",
       "                         &#x27;cvec__min_df&#x27;: [1, 10, 50],\n",
       "                         &#x27;cvec__ngram_range&#x27;: [(1, 2), (1, 1)],\n",
       "                         &#x27;cvec__stop_words&#x27;: [&#x27;english&#x27;, None]})</pre></div></div></div><div class=\"sk-parallel\"><div class=\"sk-parallel-item\"><div class=\"sk-item\"><div class=\"sk-label-container\"><div class=\"sk-label sk-toggleable\"><input class=\"sk-toggleable__control sk-hidden--visually\" id=\"sk-estimator-id-77\" type=\"checkbox\" ><label for=\"sk-estimator-id-77\" class=\"sk-toggleable__label sk-toggleable__label-arrow\">estimator: Pipeline</label><div class=\"sk-toggleable__content\"><pre>Pipeline(steps=[(&#x27;cvec&#x27;, CountVectorizer()),\n",
       "                (&#x27;lr&#x27;, LogisticRegression(max_iter=1000))])</pre></div></div></div><div class=\"sk-serial\"><div class=\"sk-item\"><div class=\"sk-serial\"><div class=\"sk-item\"><div class=\"sk-estimator sk-toggleable\"><input class=\"sk-toggleable__control sk-hidden--visually\" id=\"sk-estimator-id-78\" type=\"checkbox\" ><label for=\"sk-estimator-id-78\" class=\"sk-toggleable__label sk-toggleable__label-arrow\">CountVectorizer</label><div class=\"sk-toggleable__content\"><pre>CountVectorizer()</pre></div></div></div><div class=\"sk-item\"><div class=\"sk-estimator sk-toggleable\"><input class=\"sk-toggleable__control sk-hidden--visually\" id=\"sk-estimator-id-79\" type=\"checkbox\" ><label for=\"sk-estimator-id-79\" class=\"sk-toggleable__label sk-toggleable__label-arrow\">LogisticRegression</label><div class=\"sk-toggleable__content\"><pre>LogisticRegression(max_iter=1000)</pre></div></div></div></div></div></div></div></div></div></div></div></div>"
      ],
      "text/plain": [
       "GridSearchCV(cv=5,\n",
       "             estimator=Pipeline(steps=[('cvec', CountVectorizer()),\n",
       "                                       ('lr',\n",
       "                                        LogisticRegression(max_iter=1000))]),\n",
       "             param_grid={'cvec__max_df': [0.25, 0.5, 0.95],\n",
       "                         'cvec__max_features': [None, 500, 1000, 5000],\n",
       "                         'cvec__min_df': [1, 10, 50],\n",
       "                         'cvec__ngram_range': [(1, 2), (1, 1)],\n",
       "                         'cvec__stop_words': ['english', None]})"
      ]
     },
     "execution_count": 548,
     "metadata": {},
     "output_type": "execute_result"
    }
   ],
   "source": [
    "gs.fit(X_train, y_train)"
   ]
  },
  {
   "cell_type": "code",
   "execution_count": 549,
   "id": "df20f42c",
   "metadata": {},
   "outputs": [
    {
     "data": {
      "text/plain": [
       "0.9348750110698731"
      ]
     },
     "execution_count": 549,
     "metadata": {},
     "output_type": "execute_result"
    }
   ],
   "source": [
    "gs.best_score_"
   ]
  },
  {
   "cell_type": "code",
   "execution_count": 550,
   "id": "f488418d",
   "metadata": {},
   "outputs": [
    {
     "data": {
      "text/plain": [
       "0.9912091855041263"
      ]
     },
     "execution_count": 550,
     "metadata": {},
     "output_type": "execute_result"
    }
   ],
   "source": [
    "gs.score(X_train, y_train)"
   ]
  },
  {
   "cell_type": "code",
   "execution_count": 551,
   "id": "d140f56a",
   "metadata": {},
   "outputs": [
    {
     "data": {
      "text/plain": [
       "0.9296987087517934"
      ]
     },
     "execution_count": 551,
     "metadata": {},
     "output_type": "execute_result"
    }
   ],
   "source": [
    "gs.score(X_test, y_test)"
   ]
  },
  {
   "cell_type": "code",
   "execution_count": 552,
   "id": "a05cc802",
   "metadata": {},
   "outputs": [
    {
     "data": {
      "text/plain": [
       "{'cvec__max_df': 0.5,\n",
       " 'cvec__max_features': 5000,\n",
       " 'cvec__min_df': 10,\n",
       " 'cvec__ngram_range': (1, 2),\n",
       " 'cvec__stop_words': None}"
      ]
     },
     "execution_count": 552,
     "metadata": {},
     "output_type": "execute_result"
    }
   ],
   "source": [
    "gs.best_params_"
   ]
  },
  {
   "cell_type": "code",
   "execution_count": 553,
   "id": "1de0a589",
   "metadata": {},
   "outputs": [],
   "source": [
    "# Get predictions\n",
    "preds = gs.predict(X_test)\n",
    "# Save confusion matrix values\n",
    "tn, fp, fn, tp = confusion_matrix(y_test, preds).ravel()"
   ]
  },
  {
   "cell_type": "code",
   "execution_count": 554,
   "id": "67228ee6",
   "metadata": {},
   "outputs": [
    {
     "data": {
      "image/png": "[encoded data removed]",
      "text/plain": [
       "<Figure size 640x480 with 2 Axes>"
      ]
     },
     "metadata": {},
     "output_type": "display_data"
    }
   ],
   "source": [
    "# View confusion matrix\n",
    "ConfusionMatrixDisplay.from_estimator(gs, X_test, y_test, cmap='Reds', values_format='d');"
   ]
  },
  {
   "cell_type": "code",
   "execution_count": 555,
   "id": "832a2081",
   "metadata": {
    "scrolled": true
   },
   "outputs": [
    {
     "data": {
      "text/plain": [
       "0    0.535151\n",
       "1    0.464849\n",
       "dtype: float64"
      ]
     },
     "execution_count": 555,
     "metadata": {},
     "output_type": "execute_result"
    }
   ],
   "source": [
    "pd.Series(preds).value_counts(normalize = True)"
   ]
  },
  {
   "cell_type": "markdown",
   "id": "ac4c4faf",
   "metadata": {},
   "source": [
    "MODEL 8: LOGREG + TFIDF + PIPELINE + GRIDSEARCH + STOPWORDS"
   ]
  },
  {
   "cell_type": "code",
   "execution_count": 557,
   "id": "2782df1a",
   "metadata": {},
   "outputs": [],
   "source": [
    "X = df['answer']\n",
    "y = df['who_from']\n",
    "\n",
    "X_train, X_test, y_train, y_test = train_test_split(X, y, test_size=0.2, random_state=42)"
   ]
  },
  {
   "cell_type": "code",
   "execution_count": 558,
   "id": "d1d02487",
   "metadata": {},
   "outputs": [],
   "source": [
    "pipe = Pipeline([\n",
    "    ('tfidf', TfidfVectorizer()),\n",
    "    ('lr', LogisticRegression(max_iter = 1000))\n",
    "])"
   ]
  },
  {
   "cell_type": "code",
   "execution_count": 559,
   "id": "d4abfdde",
   "metadata": {},
   "outputs": [],
   "source": [
    "pipe_params = {\n",
    "    'tfidf__max_features' : [None, 100, 5000], # Maximum number of features fit\n",
    "    'tfidf__min_df' : [1, 50, 10], # Minimum number of documents needed to include token\n",
    "    'tfidf__max_df' : [0.25, .75, .9], # Maximum number of documents needed to include token\n",
    "    'tfidf__ngram_range' : [(1, 2), (1,1)], #Check (individual tokens) and also check (individual tokens and 2-grams)\n",
    "    'tfidf__stop_words' : ['english', None, nltk_stop] #Words to remove from text data\n",
    "}"
   ]
  },
  {
   "cell_type": "code",
   "execution_count": 560,
   "id": "39f710b9",
   "metadata": {},
   "outputs": [],
   "source": [
    "gs = GridSearchCV(pipe, # what object are we optimizing?\n",
    "                  pipe_params, # what parameters values are we searching?\n",
    "                  cv = 5) # 5-fold cross-validation."
   ]
  },
  {
   "cell_type": "code",
   "execution_count": 561,
   "id": "122e0398",
   "metadata": {},
   "outputs": [
    {
     "data": {
      "text/html": [
       "<style>#sk-container-id-26 {color: black;}#sk-container-id-26 pre{padding: 0;}#sk-container-id-26 div.sk-toggleable {background-color: white;}#sk-container-id-26 label.sk-toggleable__label {cursor: pointer;display: block;width: 100%;margin-bottom: 0;padding: 0.3em;box-sizing: border-box;text-align: center;}#sk-container-id-26 label.sk-toggleable__label-arrow:before {content: \"▸\";float: left;margin-right: 0.25em;color: #696969;}#sk-container-id-26 label.sk-toggleable__label-arrow:hover:before {color: black;}#sk-container-id-26 div.sk-estimator:hover label.sk-toggleable__label-arrow:before {color: black;}#sk-container-id-26 div.sk-toggleable__content {max-height: 0;max-width: 0;overflow: hidden;text-align: left;background-color: #f0f8ff;}#sk-container-id-26 div.sk-toggleable__content pre {margin: 0.2em;color: black;border-radius: 0.25em;background-color: #f0f8ff;}#sk-container-id-26 input.sk-toggleable__control:checked~div.sk-toggleable__content {max-height: 200px;max-width: 100%;overflow: auto;}#sk-container-id-26 input.sk-toggleable__control:checked~label.sk-toggleable__label-arrow:before {content: \"▾\";}#sk-container-id-26 div.sk-estimator input.sk-toggleable__control:checked~label.sk-toggleable__label {background-color: #d4ebff;}#sk-container-id-26 div.sk-label input.sk-toggleable__control:checked~label.sk-toggleable__label {background-color: #d4ebff;}#sk-container-id-26 input.sk-hidden--visually {border: 0;clip: rect(1px 1px 1px 1px);clip: rect(1px, 1px, 1px, 1px);height: 1px;margin: -1px;overflow: hidden;padding: 0;position: absolute;width: 1px;}#sk-container-id-26 div.sk-estimator {font-family: monospace;background-color: #f0f8ff;border: 1px dotted black;border-radius: 0.25em;box-sizing: border-box;margin-bottom: 0.5em;}#sk-container-id-26 div.sk-estimator:hover {background-color: #d4ebff;}#sk-container-id-26 div.sk-parallel-item::after {content: \"\";width: 100%;border-bottom: 1px solid gray;flex-grow: 1;}#sk-container-id-26 div.sk-label:hover label.sk-toggleable__label {background-color: #d4ebff;}#sk-container-id-26 div.sk-serial::before {content: \"\";position: absolute;border-left: 1px solid gray;box-sizing: border-box;top: 0;bottom: 0;left: 50%;z-index: 0;}#sk-container-id-26 div.sk-serial {display: flex;flex-direction: column;align-items: center;background-color: white;padding-right: 0.2em;padding-left: 0.2em;position: relative;}#sk-container-id-26 div.sk-item {position: relative;z-index: 1;}#sk-container-id-26 div.sk-parallel {display: flex;align-items: stretch;justify-content: center;background-color: white;position: relative;}#sk-container-id-26 div.sk-item::before, #sk-container-id-26 div.sk-parallel-item::before {content: \"\";position: absolute;border-left: 1px solid gray;box-sizing: border-box;top: 0;bottom: 0;left: 50%;z-index: -1;}#sk-container-id-26 div.sk-parallel-item {display: flex;flex-direction: column;z-index: 1;position: relative;background-color: white;}#sk-container-id-26 div.sk-parallel-item:first-child::after {align-self: flex-end;width: 50%;}#sk-container-id-26 div.sk-parallel-item:last-child::after {align-self: flex-start;width: 50%;}#sk-container-id-26 div.sk-parallel-item:only-child::after {width: 0;}#sk-container-id-26 div.sk-dashed-wrapped {border: 1px dashed gray;margin: 0 0.4em 0.5em 0.4em;box-sizing: border-box;padding-bottom: 0.4em;background-color: white;}#sk-container-id-26 div.sk-label label {font-family: monospace;font-weight: bold;display: inline-block;line-height: 1.2em;}#sk-container-id-26 div.sk-label-container {text-align: center;}#sk-container-id-26 div.sk-container {/* jupyter's `normalize.less` sets `[hidden] { display: none; }` but bootstrap.min.css set `[hidden] { display: none !important; }` so we also need the `!important` here to be able to override the default hidden behavior on the sphinx rendered scikit-learn.org. See: https://github.com/scikit-learn/scikit-learn/issues/21755 */display: inline-block !important;position: relative;}#sk-container-id-26 div.sk-text-repr-fallback {display: none;}</style><div id=\"sk-container-id-26\" class=\"sk-top-container\"><div class=\"sk-text-repr-fallback\"><pre>GridSearchCV(cv=5,\n",
       "             estimator=Pipeline(steps=[(&#x27;tfidf&#x27;, TfidfVectorizer()),\n",
       "                                       (&#x27;lr&#x27;,\n",
       "                                        LogisticRegression(max_iter=1000))]),\n",
       "             param_grid={&#x27;tfidf__max_df&#x27;: [0.25, 0.75, 0.9],\n",
       "                         &#x27;tfidf__max_features&#x27;: [None, 100, 5000],\n",
       "                         &#x27;tfidf__min_df&#x27;: [1, 50, 10],\n",
       "                         &#x27;tfidf__ngram_range&#x27;: [(1, 2), (1, 1)],\n",
       "                         &#x27;tfidf__stop_words&#x27;: [&#x27;english&#x27;, None,\n",
       "                                               [&#x27;i&#x27;, &#x27;me&#x27;, &#x27;my&#x27;, &#x27;myself&#x27;, &#x27;we&#x27;,\n",
       "                                                &#x27;our&#x27;, &#x27;ours&#x27;, &#x27;ourselves&#x27;,\n",
       "                                                &#x27;you&#x27;, &quot;you&#x27;re&quot;, &quot;you&#x27;ve&quot;,\n",
       "                                                &quot;you&#x27;ll&quot;, &quot;you&#x27;d&quot;, &#x27;your&#x27;,\n",
       "                                                &#x27;yours&#x27;, &#x27;yourself&#x27;,\n",
       "                                                &#x27;yourselves&#x27;, &#x27;he&#x27;, &#x27;him&#x27;,\n",
       "                                                &#x27;his&#x27;, &#x27;himself&#x27;, &#x27;she&#x27;,\n",
       "                                                &quot;she&#x27;s&quot;, &#x27;her&#x27;, &#x27;hers&#x27;,\n",
       "                                                &#x27;herself&#x27;, &#x27;it&#x27;, &quot;it&#x27;s&quot;, &#x27;its&#x27;,\n",
       "                                                &#x27;itself&#x27;, ...]]})</pre><b>In a Jupyter environment, please rerun this cell to show the HTML representation or trust the notebook. <br />On GitHub, the HTML representation is unable to render, please try loading this page with nbviewer.org.</b></div><div class=\"sk-container\" hidden><div class=\"sk-item sk-dashed-wrapped\"><div class=\"sk-label-container\"><div class=\"sk-label sk-toggleable\"><input class=\"sk-toggleable__control sk-hidden--visually\" id=\"sk-estimator-id-80\" type=\"checkbox\" ><label for=\"sk-estimator-id-80\" class=\"sk-toggleable__label sk-toggleable__label-arrow\">GridSearchCV</label><div class=\"sk-toggleable__content\"><pre>GridSearchCV(cv=5,\n",
       "             estimator=Pipeline(steps=[(&#x27;tfidf&#x27;, TfidfVectorizer()),\n",
       "                                       (&#x27;lr&#x27;,\n",
       "                                        LogisticRegression(max_iter=1000))]),\n",
       "             param_grid={&#x27;tfidf__max_df&#x27;: [0.25, 0.75, 0.9],\n",
       "                         &#x27;tfidf__max_features&#x27;: [None, 100, 5000],\n",
       "                         &#x27;tfidf__min_df&#x27;: [1, 50, 10],\n",
       "                         &#x27;tfidf__ngram_range&#x27;: [(1, 2), (1, 1)],\n",
       "                         &#x27;tfidf__stop_words&#x27;: [&#x27;english&#x27;, None,\n",
       "                                               [&#x27;i&#x27;, &#x27;me&#x27;, &#x27;my&#x27;, &#x27;myself&#x27;, &#x27;we&#x27;,\n",
       "                                                &#x27;our&#x27;, &#x27;ours&#x27;, &#x27;ourselves&#x27;,\n",
       "                                                &#x27;you&#x27;, &quot;you&#x27;re&quot;, &quot;you&#x27;ve&quot;,\n",
       "                                                &quot;you&#x27;ll&quot;, &quot;you&#x27;d&quot;, &#x27;your&#x27;,\n",
       "                                                &#x27;yours&#x27;, &#x27;yourself&#x27;,\n",
       "                                                &#x27;yourselves&#x27;, &#x27;he&#x27;, &#x27;him&#x27;,\n",
       "                                                &#x27;his&#x27;, &#x27;himself&#x27;, &#x27;she&#x27;,\n",
       "                                                &quot;she&#x27;s&quot;, &#x27;her&#x27;, &#x27;hers&#x27;,\n",
       "                                                &#x27;herself&#x27;, &#x27;it&#x27;, &quot;it&#x27;s&quot;, &#x27;its&#x27;,\n",
       "                                                &#x27;itself&#x27;, ...]]})</pre></div></div></div><div class=\"sk-parallel\"><div class=\"sk-parallel-item\"><div class=\"sk-item\"><div class=\"sk-label-container\"><div class=\"sk-label sk-toggleable\"><input class=\"sk-toggleable__control sk-hidden--visually\" id=\"sk-estimator-id-81\" type=\"checkbox\" ><label for=\"sk-estimator-id-81\" class=\"sk-toggleable__label sk-toggleable__label-arrow\">estimator: Pipeline</label><div class=\"sk-toggleable__content\"><pre>Pipeline(steps=[(&#x27;tfidf&#x27;, TfidfVectorizer()),\n",
       "                (&#x27;lr&#x27;, LogisticRegression(max_iter=1000))])</pre></div></div></div><div class=\"sk-serial\"><div class=\"sk-item\"><div class=\"sk-serial\"><div class=\"sk-item\"><div class=\"sk-estimator sk-toggleable\"><input class=\"sk-toggleable__control sk-hidden--visually\" id=\"sk-estimator-id-82\" type=\"checkbox\" ><label for=\"sk-estimator-id-82\" class=\"sk-toggleable__label sk-toggleable__label-arrow\">TfidfVectorizer</label><div class=\"sk-toggleable__content\"><pre>TfidfVectorizer()</pre></div></div></div><div class=\"sk-item\"><div class=\"sk-estimator sk-toggleable\"><input class=\"sk-toggleable__control sk-hidden--visually\" id=\"sk-estimator-id-83\" type=\"checkbox\" ><label for=\"sk-estimator-id-83\" class=\"sk-toggleable__label sk-toggleable__label-arrow\">LogisticRegression</label><div class=\"sk-toggleable__content\"><pre>LogisticRegression(max_iter=1000)</pre></div></div></div></div></div></div></div></div></div></div></div></div>"
      ],
      "text/plain": [
       "GridSearchCV(cv=5,\n",
       "             estimator=Pipeline(steps=[('tfidf', TfidfVectorizer()),\n",
       "                                       ('lr',\n",
       "                                        LogisticRegression(max_iter=1000))]),\n",
       "             param_grid={'tfidf__max_df': [0.25, 0.75, 0.9],\n",
       "                         'tfidf__max_features': [None, 100, 5000],\n",
       "                         'tfidf__min_df': [1, 50, 10],\n",
       "                         'tfidf__ngram_range': [(1, 2), (1, 1)],\n",
       "                         'tfidf__stop_words': ['english', None,\n",
       "                                               ['i', 'me', 'my', 'myself', 'we',\n",
       "                                                'our', 'ours', 'ourselves',\n",
       "                                                'you', \"you're\", \"you've\",\n",
       "                                                \"you'll\", \"you'd\", 'your',\n",
       "                                                'yours', 'yourself',\n",
       "                                                'yourselves', 'he', 'him',\n",
       "                                                'his', 'himself', 'she',\n",
       "                                                \"she's\", 'her', 'hers',\n",
       "                                                'herself', 'it', \"it's\", 'its',\n",
       "                                                'itself', ...]]})"
      ]
     },
     "execution_count": 561,
     "metadata": {},
     "output_type": "execute_result"
    }
   ],
   "source": [
    "gs.fit(X_train, y_train)"
   ]
  },
  {
   "cell_type": "code",
   "execution_count": 562,
   "id": "70570303",
   "metadata": {
    "scrolled": true
   },
   "outputs": [
    {
     "data": {
      "text/plain": [
       "0.9282371126550789"
      ]
     },
     "execution_count": 562,
     "metadata": {},
     "output_type": "execute_result"
    }
   ],
   "source": [
    "gs.best_score_"
   ]
  },
  {
   "cell_type": "code",
   "execution_count": 563,
   "id": "ec5e660e",
   "metadata": {},
   "outputs": [
    {
     "data": {
      "text/plain": [
       "0.9675278076785073"
      ]
     },
     "execution_count": 563,
     "metadata": {},
     "output_type": "execute_result"
    }
   ],
   "source": [
    "gs.score(X_train, y_train)"
   ]
  },
  {
   "cell_type": "code",
   "execution_count": 564,
   "id": "87b86f77",
   "metadata": {},
   "outputs": [
    {
     "data": {
      "text/plain": [
       "0.9225251076040172"
      ]
     },
     "execution_count": 564,
     "metadata": {},
     "output_type": "execute_result"
    }
   ],
   "source": [
    "gs.score(X_test, y_test)"
   ]
  },
  {
   "cell_type": "code",
   "execution_count": 565,
   "id": "d296c415",
   "metadata": {},
   "outputs": [
    {
     "data": {
      "text/plain": [
       "{'tfidf__max_df': 0.25,\n",
       " 'tfidf__max_features': None,\n",
       " 'tfidf__min_df': 10,\n",
       " 'tfidf__ngram_range': (1, 2),\n",
       " 'tfidf__stop_words': None}"
      ]
     },
     "execution_count": 565,
     "metadata": {},
     "output_type": "execute_result"
    }
   ],
   "source": [
    "gs.best_params_"
   ]
  },
  {
   "cell_type": "code",
   "execution_count": 566,
   "id": "48ade7dc",
   "metadata": {},
   "outputs": [],
   "source": [
    "# Get predictions\n",
    "preds = gs.predict(X_test)\n",
    "# Save confusion matrix values\n",
    "tn, fp, fn, tp = confusion_matrix(y_test, preds).ravel()"
   ]
  },
  {
   "cell_type": "code",
   "execution_count": 567,
   "id": "625ec657",
   "metadata": {},
   "outputs": [
    {
     "data": {
      "image/png": "[encoded data removed]",
      "text/plain": [
       "<Figure size 640x480 with 2 Axes>"
      ]
     },
     "metadata": {},
     "output_type": "display_data"
    }
   ],
   "source": [
    "# View confusion matrix\n",
    "ConfusionMatrixDisplay.from_estimator(gs, X_test, y_test, cmap='Reds', values_format='d');"
   ]
  },
  {
   "cell_type": "code",
   "execution_count": 568,
   "id": "083a67fe",
   "metadata": {},
   "outputs": [
    {
     "data": {
      "text/plain": [
       "1    0.505597\n",
       "0    0.494403\n",
       "dtype: float64"
      ]
     },
     "execution_count": 568,
     "metadata": {},
     "output_type": "execute_result"
    }
   ],
   "source": [
    "preds = gs.best_estimator_.predict(X)\n",
    "pd.Series(pred).value_counts(normalize = True)"
   ]
  }
 ],
 "metadata": {
  "kernelspec": {
   "display_name": "Python 3 (ipykernel)",
   "language": "python",
   "name": "python3"
  },
  "language_info": {
   "codemirror_mode": {
    "name": "ipython",
    "version": 3
   },
   "file_extension": ".py",
   "mimetype": "text/x-python",
   "name": "python",
   "nbconvert_exporter": "python",
   "pygments_lexer": "ipython3",
   "version": "3.11.4"
  }
 },
 "nbformat": 4,
 "nbformat_minor": 5
}
