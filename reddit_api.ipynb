{
 "cells": [
  {
   "cell_type": "code",
   "execution_count": 14,
   "id": "15b0f76c",
   "metadata": {},
   "outputs": [],
   "source": [
    "#https://praw.readthedocs.io/en/stable/getting_started/quick_start.html\n",
    "import praw\n",
    "\n",
    "reddit = praw.Reddit(\n",
    "    client_id=\"\",\n",
    "    client_secret=\"\",\n",
    "    user_agent=\"dsi_project_3\",\n",
    ")"
   ]
  },
  {
   "cell_type": "code",
   "execution_count": 15,
   "id": "ee15528b",
   "metadata": {},
   "outputs": [],
   "source": [
    "import pandas as pd"
   ]
  },
  {
   "cell_type": "code",
   "execution_count": 16,
   "id": "55883136",
   "metadata": {},
   "outputs": [],
   "source": [
    "#Choosing my subreddits\n",
    "#Going to choose ones which ask questions as more likely to draw posts which ask questions\n",
    "#Also chose some reddits of interest, namely sr6-sr9\n",
    "sr1 = reddit.subreddit('askculinary')\n",
    "sr2 = reddit.subreddit('questions')\n",
    "sr3 = reddit.subreddit('askengineers')\n",
    "sr4 = reddit.subreddit('cscareerquestions')\n",
    "sr5 = reddit.subreddit('askdocs')\n",
    "sr6 = reddit.subreddit('onepiece')\n",
    "sr7 = reddit.subreddit('manga')\n",
    "sr8 = reddit.subreddit('nba')\n",
    "sr9 = reddit.subreddit('torontoraptors')\n",
    "sr10 = reddit.subreddit('TrueAskReddit')\n",
    "\n",
    "subreddits = [sr1, sr2, sr3, sr4, sr5, sr6, sr7, sr8, sr9, sr10]"
   ]
  },
  {
   "cell_type": "code",
   "execution_count": 12,
   "id": "6b4e300a",
   "metadata": {
    "collapsed": true
   },
   "outputs": [
    {
     "data": {
      "text/plain": [
       "\"\\n# List of subreddits\\nsubreddits = ['askculinary', 'questions', 'askengineers', 'cscareerquestions']\\n\\n#Storing both questions and answers\\nquestions_and_answers = []\\n\\n# Looping through each subreddit in list 'subreddits'\\nfor sr in subreddits:\\n    subreddit = reddit.subreddit(sr)\\n    \\n    # Fetch top questions\\n    top_questions = subreddit.top(limit=625)\\n    \\n    # Loop through top questions\\n    for submission in top_questions:\\n        # Get top comment for each question\\n        top_comment = submission.comments[0].body if submission.comments else None\\n        # Store the question and its top comment in dictionary\\n        question_data = {\\n            'title': submission.title,\\n            'top_comment': top_comment,\\n        }\\n        #Store that dictionary entry into list named questions_and_answers\\n        questions_and_answers.append(question_data)\\n\""
      ]
     },
     "execution_count": 12,
     "metadata": {},
     "output_type": "execute_result"
    }
   ],
   "source": [
    "#This is my original loop to collect data. It was taking a while so I decided to break it up into parts. \n",
    "#Rather than loop, gather the questions + answers from each subreddit\n",
    "\"\"\"\n",
    "# List of subreddits\n",
    "subreddits = ['askculinary', 'questions', 'askengineers', 'cscareerquestions']\n",
    "\n",
    "#List for both questions and answers\n",
    "questions_and_answers = []\n",
    "\n",
    "# Looping through each subreddit in list 'subreddits'\n",
    "for sr in subreddits:\n",
    "    subreddit = reddit.subreddit(sr)\n",
    "    \n",
    "    # Fetch top questions\n",
    "    top_questions = subreddit.top(limit=625)\n",
    "    \n",
    "    # Loop through top questions\n",
    "    for submission in top_questions:\n",
    "        # Get top comment for each question\n",
    "        top_comment = submission.comments[0].body if submission.comments else None\n",
    "        # Store the question and its top comment in dictionary\n",
    "        question_data = {\n",
    "            'title': submission.title,\n",
    "            'top_comment': top_comment,\n",
    "        }\n",
    "        #Store that dictionary entry into list named questions_and_answers\n",
    "        questions_and_answers.append(question_data)\n",
    "\"\"\""
   ]
  },
  {
   "cell_type": "code",
   "execution_count": null,
   "id": "8ca7c066",
   "metadata": {},
   "outputs": [],
   "source": [
    "\"\"\"\n",
    "In hindsight, I should've used a function rather than copying the same block of code over ten times\n",
    "The function wouldve looked something like: \n",
    "\"\"\"\n",
    "def question_and_answer(sr):\n",
    "    top_questions = sr.top(limit = 625) \n",
    "    q_and_a = []\n",
    "    \n",
    "    for submission in top_questions:\n",
    "        top_comment = submission.comments[0].body if submission.comments else None\n",
    "        \n",
    "        question_data = {\n",
    "            'title': submission.title,\n",
    "            'top_comment': top_comment\n",
    "        }\n",
    "        \n",
    "        q_and_a.append(question_data)"
   ]
  },
  {
   "cell_type": "code",
   "execution_count": 17,
   "id": "c6804ed9",
   "metadata": {},
   "outputs": [],
   "source": [
    "top_questions_sr1 = sr1.top(limit = 625) #Getting top posts from given subreddit\n",
    "\n",
    "q_and_a_sr1 = [] #Will hold question and answers \n",
    "\n",
    "#Go through each post and get the top comment, put it as a dictionary and add it to list\n",
    "for submission in top_questions_sr1:\n",
    "    top_comment = submission.comments[0].body if submission.comments else None\n",
    "    \n",
    "    question_data = {\n",
    "        'title': submission.title,\n",
    "        'top_comment': top_comment\n",
    "    }\n",
    "    \n",
    "    q_and_a_sr1.append(question_data)"
   ]
  },
  {
   "cell_type": "code",
   "execution_count": 18,
   "id": "7c98fd93",
   "metadata": {},
   "outputs": [
    {
     "data": {
      "text/html": [
       "<div>\n",
       "<style scoped>\n",
       "    .dataframe tbody tr th:only-of-type {\n",
       "        vertical-align: middle;\n",
       "    }\n",
       "\n",
       "    .dataframe tbody tr th {\n",
       "        vertical-align: top;\n",
       "    }\n",
       "\n",
       "    .dataframe thead th {\n",
       "        text-align: right;\n",
       "    }\n",
       "</style>\n",
       "<table border=\"1\" class=\"dataframe\">\n",
       "  <thead>\n",
       "    <tr style=\"text-align: right;\">\n",
       "      <th></th>\n",
       "      <th>title</th>\n",
       "      <th>top_comment</th>\n",
       "    </tr>\n",
       "  </thead>\n",
       "  <tbody>\n",
       "    <tr>\n",
       "      <th>0</th>\n",
       "      <td>How can I purposely get clumps in my spaghetti</td>\n",
       "      <td>I’ve actually done this before. \\n\\nTie a whol...</td>\n",
       "    </tr>\n",
       "    <tr>\n",
       "      <th>1</th>\n",
       "      <td>Rabbit hole engaged... 11,082 cookbooks in dig...</td>\n",
       "      <td>Brewster Kahle is the man responsible for this...</td>\n",
       "    </tr>\n",
       "    <tr>\n",
       "      <th>2</th>\n",
       "      <td>Hello everybody, I’m Maangchi! I have a Korean...</td>\n",
       "      <td>Hello Maangchi! I've followed your channel sin...</td>\n",
       "    </tr>\n",
       "    <tr>\n",
       "      <th>3</th>\n",
       "      <td>UPDATE: I prepared Japanese A5 Wagyu Steak for...</td>\n",
       "      <td>This is my favorite type of update post! All t...</td>\n",
       "    </tr>\n",
       "    <tr>\n",
       "      <th>4</th>\n",
       "      <td>Instacart gave me 50 pounds of limes instead o...</td>\n",
       "      <td>[deleted]</td>\n",
       "    </tr>\n",
       "  </tbody>\n",
       "</table>\n",
       "</div>"
      ],
      "text/plain": [
       "                                               title  \\\n",
       "0     How can I purposely get clumps in my spaghetti   \n",
       "1  Rabbit hole engaged... 11,082 cookbooks in dig...   \n",
       "2  Hello everybody, I’m Maangchi! I have a Korean...   \n",
       "3  UPDATE: I prepared Japanese A5 Wagyu Steak for...   \n",
       "4  Instacart gave me 50 pounds of limes instead o...   \n",
       "\n",
       "                                         top_comment  \n",
       "0  I’ve actually done this before. \\n\\nTie a whol...  \n",
       "1  Brewster Kahle is the man responsible for this...  \n",
       "2  Hello Maangchi! I've followed your channel sin...  \n",
       "3  This is my favorite type of update post! All t...  \n",
       "4                                          [deleted]  "
      ]
     },
     "execution_count": 18,
     "metadata": {},
     "output_type": "execute_result"
    }
   ],
   "source": [
    "#Turn into dataframe\n",
    "df_sr1 = pd.DataFrame(q_and_a_sr1)\n",
    "df_sr1.head()\n",
    "#Need to remove rows which include [deleted] in comment"
   ]
  },
  {
   "cell_type": "code",
   "execution_count": 19,
   "id": "6b765e46",
   "metadata": {},
   "outputs": [],
   "source": [
    "top_questions_sr2 = sr2.top(limit = 625)\n",
    "\n",
    "q_and_a_sr2 = []\n",
    "\n",
    "for submission in top_questions_sr2:\n",
    "    top_comment = submission.comments[0].body if submission.comments else None\n",
    "    \n",
    "    question_data = {\n",
    "        'title': submission.title,\n",
    "        'top_comment': top_comment\n",
    "    }\n",
    "    \n",
    "    q_and_a_sr2.append(question_data)"
   ]
  },
  {
   "cell_type": "code",
   "execution_count": 20,
   "id": "e64585c6",
   "metadata": {},
   "outputs": [
    {
     "data": {
      "text/html": [
       "<div>\n",
       "<style scoped>\n",
       "    .dataframe tbody tr th:only-of-type {\n",
       "        vertical-align: middle;\n",
       "    }\n",
       "\n",
       "    .dataframe tbody tr th {\n",
       "        vertical-align: top;\n",
       "    }\n",
       "\n",
       "    .dataframe thead th {\n",
       "        text-align: right;\n",
       "    }\n",
       "</style>\n",
       "<table border=\"1\" class=\"dataframe\">\n",
       "  <thead>\n",
       "    <tr style=\"text-align: right;\">\n",
       "      <th></th>\n",
       "      <th>title</th>\n",
       "      <th>top_comment</th>\n",
       "    </tr>\n",
       "  </thead>\n",
       "  <tbody>\n",
       "    <tr>\n",
       "      <th>0</th>\n",
       "      <td>Why Do People Microwave Fish at Work?</td>\n",
       "      <td># Message to all users:\\n\\nThis is a reminder ...</td>\n",
       "    </tr>\n",
       "    <tr>\n",
       "      <th>1</th>\n",
       "      <td>Why do people say \"you'll change your mind\" wh...</td>\n",
       "      <td># Message to all users:\\n\\nThis is a reminder ...</td>\n",
       "    </tr>\n",
       "    <tr>\n",
       "      <th>2</th>\n",
       "      <td>Why are females expected to wear the most tigh...</td>\n",
       "      <td>Because people suck. No other way to put it. W...</td>\n",
       "    </tr>\n",
       "    <tr>\n",
       "      <th>3</th>\n",
       "      <td>At work I was called racist and I don't know w...</td>\n",
       "      <td># Message to all users:\\n\\nThis is a reminder ...</td>\n",
       "    </tr>\n",
       "    <tr>\n",
       "      <th>4</th>\n",
       "      <td>Why is it so normal for American teens to have...</td>\n",
       "      <td>Many kids are given cars by their family. They...</td>\n",
       "    </tr>\n",
       "  </tbody>\n",
       "</table>\n",
       "</div>"
      ],
      "text/plain": [
       "                                               title  \\\n",
       "0              Why Do People Microwave Fish at Work?   \n",
       "1  Why do people say \"you'll change your mind\" wh...   \n",
       "2  Why are females expected to wear the most tigh...   \n",
       "3  At work I was called racist and I don't know w...   \n",
       "4  Why is it so normal for American teens to have...   \n",
       "\n",
       "                                         top_comment  \n",
       "0  # Message to all users:\\n\\nThis is a reminder ...  \n",
       "1  # Message to all users:\\n\\nThis is a reminder ...  \n",
       "2  Because people suck. No other way to put it. W...  \n",
       "3  # Message to all users:\\n\\nThis is a reminder ...  \n",
       "4  Many kids are given cars by their family. They...  "
      ]
     },
     "execution_count": 20,
     "metadata": {},
     "output_type": "execute_result"
    }
   ],
   "source": [
    "df_sr2 = pd.DataFrame(q_and_a_sr2)\n",
    "df_sr2.head()\n",
    "#Need to remove rows which include '# Message to all users...'"
   ]
  },
  {
   "cell_type": "code",
   "execution_count": 21,
   "id": "5123d608",
   "metadata": {},
   "outputs": [],
   "source": [
    "top_questions_sr3 = sr3.top(limit = 625)\n",
    "\n",
    "q_and_a_sr3 = []\n",
    "\n",
    "for submission in top_questions_sr3:\n",
    "    top_comment = submission.comments[0].body if submission.comments else None\n",
    "    \n",
    "    question_data = {\n",
    "        'title': submission.title,\n",
    "        'top_comment': top_comment\n",
    "    }\n",
    "    \n",
    "    q_and_a_sr3.append(question_data)"
   ]
  },
  {
   "cell_type": "code",
   "execution_count": 22,
   "id": "159cf1f3",
   "metadata": {},
   "outputs": [
    {
     "data": {
      "text/html": [
       "<div>\n",
       "<style scoped>\n",
       "    .dataframe tbody tr th:only-of-type {\n",
       "        vertical-align: middle;\n",
       "    }\n",
       "\n",
       "    .dataframe tbody tr th {\n",
       "        vertical-align: top;\n",
       "    }\n",
       "\n",
       "    .dataframe thead th {\n",
       "        text-align: right;\n",
       "    }\n",
       "</style>\n",
       "<table border=\"1\" class=\"dataframe\">\n",
       "  <thead>\n",
       "    <tr style=\"text-align: right;\">\n",
       "      <th></th>\n",
       "      <th>title</th>\n",
       "      <th>top_comment</th>\n",
       "    </tr>\n",
       "  </thead>\n",
       "  <tbody>\n",
       "    <tr>\n",
       "      <th>0</th>\n",
       "      <td>I’m a young engineer, recent graduate. I almos...</td>\n",
       "      <td>Hey man, I'm sorry to hear you're having a tou...</td>\n",
       "    </tr>\n",
       "    <tr>\n",
       "      <th>1</th>\n",
       "      <td>Who else loves talking with Machinists?</td>\n",
       "      <td>I want to upvote this twice because it's so tr...</td>\n",
       "    </tr>\n",
       "    <tr>\n",
       "      <th>2</th>\n",
       "      <td>The recruitment process for big companies is f...</td>\n",
       "      <td>I got three scholarships from a large employer...</td>\n",
       "    </tr>\n",
       "    <tr>\n",
       "      <th>3</th>\n",
       "      <td>Hot take - most engineering jobs are not going...</td>\n",
       "      <td>I worked in R&amp;D and still spent more time deal...</td>\n",
       "    </tr>\n",
       "    <tr>\n",
       "      <th>4</th>\n",
       "      <td>How is McMaster so amazing?</td>\n",
       "      <td>Not to mention having really good item filteri...</td>\n",
       "    </tr>\n",
       "  </tbody>\n",
       "</table>\n",
       "</div>"
      ],
      "text/plain": [
       "                                               title  \\\n",
       "0  I’m a young engineer, recent graduate. I almos...   \n",
       "1            Who else loves talking with Machinists?   \n",
       "2  The recruitment process for big companies is f...   \n",
       "3  Hot take - most engineering jobs are not going...   \n",
       "4                        How is McMaster so amazing?   \n",
       "\n",
       "                                         top_comment  \n",
       "0  Hey man, I'm sorry to hear you're having a tou...  \n",
       "1  I want to upvote this twice because it's so tr...  \n",
       "2  I got three scholarships from a large employer...  \n",
       "3  I worked in R&D and still spent more time deal...  \n",
       "4  Not to mention having really good item filteri...  "
      ]
     },
     "execution_count": 22,
     "metadata": {},
     "output_type": "execute_result"
    }
   ],
   "source": [
    "df_sr3 = pd.DataFrame(q_and_a_sr3)\n",
    "df_sr3.head()"
   ]
  },
  {
   "cell_type": "code",
   "execution_count": 23,
   "id": "cea45db0",
   "metadata": {},
   "outputs": [],
   "source": [
    "top_questions_sr4 = sr4.top(limit = 625)\n",
    "\n",
    "q_and_a_sr4 = []\n",
    "\n",
    "for submission in top_questions_sr4:\n",
    "    top_comment = submission.comments[0].body if submission.comments else None\n",
    "    \n",
    "    question_data = {\n",
    "        'title': submission.title,\n",
    "        'top_comment': top_comment\n",
    "    }\n",
    "    \n",
    "    q_and_a_sr4.append(question_data)"
   ]
  },
  {
   "cell_type": "code",
   "execution_count": 24,
   "id": "2f1638fa",
   "metadata": {},
   "outputs": [
    {
     "data": {
      "text/html": [
       "<div>\n",
       "<style scoped>\n",
       "    .dataframe tbody tr th:only-of-type {\n",
       "        vertical-align: middle;\n",
       "    }\n",
       "\n",
       "    .dataframe tbody tr th {\n",
       "        vertical-align: top;\n",
       "    }\n",
       "\n",
       "    .dataframe thead th {\n",
       "        text-align: right;\n",
       "    }\n",
       "</style>\n",
       "<table border=\"1\" class=\"dataframe\">\n",
       "  <thead>\n",
       "    <tr style=\"text-align: right;\">\n",
       "      <th></th>\n",
       "      <th>title</th>\n",
       "      <th>top_comment</th>\n",
       "    </tr>\n",
       "  </thead>\n",
       "  <tbody>\n",
       "    <tr>\n",
       "      <th>0</th>\n",
       "      <td>Accidentally destroyed production database on ...</td>\n",
       "      <td>in no way was this your fault.\\n\\nHell this sh...</td>\n",
       "    </tr>\n",
       "    <tr>\n",
       "      <th>1</th>\n",
       "      <td>Elon Musk just asked all employees to return t...</td>\n",
       "      <td>[deleted]</td>\n",
       "    </tr>\n",
       "    <tr>\n",
       "      <th>2</th>\n",
       "      <td>I just pushed my first commit to AWS!</td>\n",
       "      <td>We're gonna need you to revert</td>\n",
       "    </tr>\n",
       "    <tr>\n",
       "      <th>3</th>\n",
       "      <td>I got fired over a variable name....</td>\n",
       "      <td>lol no fucking way</td>\n",
       "    </tr>\n",
       "    <tr>\n",
       "      <th>4</th>\n",
       "      <td>I accidentally came across my senior engineer ...</td>\n",
       "      <td>Bet he reads reddit too</td>\n",
       "    </tr>\n",
       "  </tbody>\n",
       "</table>\n",
       "</div>"
      ],
      "text/plain": [
       "                                               title  \\\n",
       "0  Accidentally destroyed production database on ...   \n",
       "1  Elon Musk just asked all employees to return t...   \n",
       "2              I just pushed my first commit to AWS!   \n",
       "3               I got fired over a variable name....   \n",
       "4  I accidentally came across my senior engineer ...   \n",
       "\n",
       "                                         top_comment  \n",
       "0  in no way was this your fault.\\n\\nHell this sh...  \n",
       "1                                          [deleted]  \n",
       "2                     We're gonna need you to revert  \n",
       "3                                 lol no fucking way  \n",
       "4                            Bet he reads reddit too  "
      ]
     },
     "execution_count": 24,
     "metadata": {},
     "output_type": "execute_result"
    }
   ],
   "source": [
    "df_sr4 = pd.DataFrame(q_and_a_sr4)\n",
    "df_sr4.head()"
   ]
  },
  {
   "cell_type": "code",
   "execution_count": 25,
   "id": "6d44bfe9",
   "metadata": {},
   "outputs": [],
   "source": [
    "top_questions_sr5 = sr5.top(limit = 625)\n",
    "\n",
    "q_and_a_sr5 = []\n",
    "\n",
    "for submission in top_questions_sr5:\n",
    "    top_comment = submission.comments[0].body if submission.comments else None\n",
    "    \n",
    "    question_data = {\n",
    "        'title': submission.title,\n",
    "        'top_comment': top_comment\n",
    "    }\n",
    "    \n",
    "    q_and_a_sr5.append(question_data)"
   ]
  },
  {
   "cell_type": "code",
   "execution_count": 26,
   "id": "cc818271",
   "metadata": {},
   "outputs": [
    {
     "data": {
      "text/html": [
       "<div>\n",
       "<style scoped>\n",
       "    .dataframe tbody tr th:only-of-type {\n",
       "        vertical-align: middle;\n",
       "    }\n",
       "\n",
       "    .dataframe tbody tr th {\n",
       "        vertical-align: top;\n",
       "    }\n",
       "\n",
       "    .dataframe thead th {\n",
       "        text-align: right;\n",
       "    }\n",
       "</style>\n",
       "<table border=\"1\" class=\"dataframe\">\n",
       "  <thead>\n",
       "    <tr style=\"text-align: right;\">\n",
       "      <th></th>\n",
       "      <th>title</th>\n",
       "      <th>top_comment</th>\n",
       "    </tr>\n",
       "  </thead>\n",
       "  <tbody>\n",
       "    <tr>\n",
       "      <th>0</th>\n",
       "      <td>41yo suboxone patient with lung cancer. I don'...</td>\n",
       "      <td>as a doctor who often treats patients such as ...</td>\n",
       "    </tr>\n",
       "    <tr>\n",
       "      <th>1</th>\n",
       "      <td>Update on Robbie from Cherri</td>\n",
       "      <td>I'm making this thread sticky for a day. Rest ...</td>\n",
       "    </tr>\n",
       "    <tr>\n",
       "      <th>2</th>\n",
       "      <td>A thank you and happy ending.</td>\n",
       "      <td>Thank you for updating the community. We're gl...</td>\n",
       "    </tr>\n",
       "    <tr>\n",
       "      <th>3</th>\n",
       "      <td>Doc on here saved my life</td>\n",
       "      <td>Thank you for your submission. **Please note t...</td>\n",
       "    </tr>\n",
       "    <tr>\n",
       "      <th>4</th>\n",
       "      <td>Son drowned and have questions about how he we...</td>\n",
       "      <td>This post is for medical information. It is no...</td>\n",
       "    </tr>\n",
       "  </tbody>\n",
       "</table>\n",
       "</div>"
      ],
      "text/plain": [
       "                                               title  \\\n",
       "0  41yo suboxone patient with lung cancer. I don'...   \n",
       "1                       Update on Robbie from Cherri   \n",
       "2                      A thank you and happy ending.   \n",
       "3                          Doc on here saved my life   \n",
       "4  Son drowned and have questions about how he we...   \n",
       "\n",
       "                                         top_comment  \n",
       "0  as a doctor who often treats patients such as ...  \n",
       "1  I'm making this thread sticky for a day. Rest ...  \n",
       "2  Thank you for updating the community. We're gl...  \n",
       "3  Thank you for your submission. **Please note t...  \n",
       "4  This post is for medical information. It is no...  "
      ]
     },
     "execution_count": 26,
     "metadata": {},
     "output_type": "execute_result"
    }
   ],
   "source": [
    "df_sr5 = pd.DataFrame(q_and_a_sr5)\n",
    "df_sr5.head()"
   ]
  },
  {
   "cell_type": "code",
   "execution_count": 27,
   "id": "62658589",
   "metadata": {},
   "outputs": [],
   "source": [
    "top_questions_sr6 = sr6.top(limit = 625)\n",
    "\n",
    "q_and_a_sr6 = []\n",
    "\n",
    "for submission in top_questions_sr6:\n",
    "    if '?' in submission.title:\n",
    "        top_comment = submission.comments[0].body if submission.comments else None\n",
    "    \n",
    "        question_data = {\n",
    "            'title': submission.title,\n",
    "            'top_comment': top_comment\n",
    "        }\n",
    "\n",
    "        q_and_a_sr6.append(question_data)"
   ]
  },
  {
   "cell_type": "code",
   "execution_count": 29,
   "id": "27b3ac3d",
   "metadata": {},
   "outputs": [
    {
     "data": {
      "text/html": [
       "<div>\n",
       "<style scoped>\n",
       "    .dataframe tbody tr th:only-of-type {\n",
       "        vertical-align: middle;\n",
       "    }\n",
       "\n",
       "    .dataframe tbody tr th {\n",
       "        vertical-align: top;\n",
       "    }\n",
       "\n",
       "    .dataframe thead th {\n",
       "        text-align: right;\n",
       "    }\n",
       "</style>\n",
       "<table border=\"1\" class=\"dataframe\">\n",
       "  <thead>\n",
       "    <tr style=\"text-align: right;\">\n",
       "      <th></th>\n",
       "      <th>title</th>\n",
       "      <th>top_comment</th>\n",
       "    </tr>\n",
       "  </thead>\n",
       "  <tbody>\n",
       "    <tr>\n",
       "      <th>0</th>\n",
       "      <td>Found this online, is it true?</td>\n",
       "      <td>- If you are interested in the live action for...</td>\n",
       "    </tr>\n",
       "    <tr>\n",
       "      <th>1</th>\n",
       "      <td>One Piece Summarized, took 30 hours. Can you f...</td>\n",
       "      <td>I didn't think anyone could summarize the enti...</td>\n",
       "    </tr>\n",
       "    <tr>\n",
       "      <th>2</th>\n",
       "      <td>You saved some of the treasure, right?</td>\n",
       "      <td>Zoro making a run for it and taking Sanji with...</td>\n",
       "    </tr>\n",
       "    <tr>\n",
       "      <th>3</th>\n",
       "      <td>Where’s Pandaman? Took 71 hours. Can you find ...</td>\n",
       "      <td>I love all the details put on this, like Zoro ...</td>\n",
       "    </tr>\n",
       "    <tr>\n",
       "      <th>4</th>\n",
       "      <td>Is it real ?</td>\n",
       "      <td>That's naruto's last chapter. Oda paying respe...</td>\n",
       "    </tr>\n",
       "  </tbody>\n",
       "</table>\n",
       "</div>"
      ],
      "text/plain": [
       "                                               title  \\\n",
       "0                     Found this online, is it true?   \n",
       "1  One Piece Summarized, took 30 hours. Can you f...   \n",
       "2             You saved some of the treasure, right?   \n",
       "3  Where’s Pandaman? Took 71 hours. Can you find ...   \n",
       "4                                       Is it real ?   \n",
       "\n",
       "                                         top_comment  \n",
       "0  - If you are interested in the live action for...  \n",
       "1  I didn't think anyone could summarize the enti...  \n",
       "2  Zoro making a run for it and taking Sanji with...  \n",
       "3  I love all the details put on this, like Zoro ...  \n",
       "4  That's naruto's last chapter. Oda paying respe...  "
      ]
     },
     "execution_count": 29,
     "metadata": {},
     "output_type": "execute_result"
    }
   ],
   "source": [
    "df_sr6 = pd.DataFrame(q_and_a_sr6)\n",
    "df_sr6.head()"
   ]
  },
  {
   "cell_type": "code",
   "execution_count": 30,
   "id": "eb3b8965",
   "metadata": {},
   "outputs": [],
   "source": [
    "top_questions_sr7 = sr7.top(limit = 625)\n",
    "\n",
    "q_and_a_sr7 = []\n",
    "\n",
    "for submission in top_questions_sr7:\n",
    "    if '?' in submission.title:\n",
    "        top_comment = submission.comments[0].body if submission.comments else None\n",
    "    \n",
    "        question_data = {\n",
    "            'title': submission.title,\n",
    "            'top_comment': top_comment\n",
    "        }\n",
    "\n",
    "        q_and_a_sr7.append(question_data)"
   ]
  },
  {
   "cell_type": "code",
   "execution_count": 31,
   "id": "fcf54e9e",
   "metadata": {},
   "outputs": [
    {
     "data": {
      "text/html": [
       "<div>\n",
       "<style scoped>\n",
       "    .dataframe tbody tr th:only-of-type {\n",
       "        vertical-align: middle;\n",
       "    }\n",
       "\n",
       "    .dataframe tbody tr th {\n",
       "        vertical-align: top;\n",
       "    }\n",
       "\n",
       "    .dataframe thead th {\n",
       "        text-align: right;\n",
       "    }\n",
       "</style>\n",
       "<table border=\"1\" class=\"dataframe\">\n",
       "  <thead>\n",
       "    <tr style=\"text-align: right;\">\n",
       "      <th></th>\n",
       "      <th>title</th>\n",
       "      <th>top_comment</th>\n",
       "    </tr>\n",
       "  </thead>\n",
       "  <tbody>\n",
       "    <tr>\n",
       "      <th>0</th>\n",
       "      <td>From the Manga Naruto...and I have a new found...</td>\n",
       "      <td>Shit like this is why mangaka have assistants</td>\n",
       "    </tr>\n",
       "    <tr>\n",
       "      <th>1</th>\n",
       "      <td>[DISC] Is this possibly the most wholesome 4 p...</td>\n",
       "      <td>Was I the only one who got &lt;three days of happ...</td>\n",
       "    </tr>\n",
       "    <tr>\n",
       "      <th>2</th>\n",
       "      <td>Where is this from?</td>\n",
       "      <td>Tamen gushi.\\n\\nWord of warning, it’s a Yuri M...</td>\n",
       "    </tr>\n",
       "    <tr>\n",
       "      <th>3</th>\n",
       "      <td>[DISC] You Boys Love These Sorts of Things, Ri...</td>\n",
       "      <td>Guys only want one thing and it's fucking ~~di...</td>\n",
       "    </tr>\n",
       "    <tr>\n",
       "      <th>4</th>\n",
       "      <td>Where is this from?</td>\n",
       "      <td>[Here's the source](https://www.pixiv.net/en/a...</td>\n",
       "    </tr>\n",
       "  </tbody>\n",
       "</table>\n",
       "</div>"
      ],
      "text/plain": [
       "                                               title  \\\n",
       "0  From the Manga Naruto...and I have a new found...   \n",
       "1  [DISC] Is this possibly the most wholesome 4 p...   \n",
       "2                                Where is this from?   \n",
       "3  [DISC] You Boys Love These Sorts of Things, Ri...   \n",
       "4                                Where is this from?   \n",
       "\n",
       "                                         top_comment  \n",
       "0      Shit like this is why mangaka have assistants  \n",
       "1  Was I the only one who got <three days of happ...  \n",
       "2  Tamen gushi.\\n\\nWord of warning, it’s a Yuri M...  \n",
       "3  Guys only want one thing and it's fucking ~~di...  \n",
       "4  [Here's the source](https://www.pixiv.net/en/a...  "
      ]
     },
     "execution_count": 31,
     "metadata": {},
     "output_type": "execute_result"
    }
   ],
   "source": [
    "df_sr7 = pd.DataFrame(q_and_a_sr7)\n",
    "df_sr7.head()"
   ]
  },
  {
   "cell_type": "code",
   "execution_count": 32,
   "id": "afb0d5ee",
   "metadata": {},
   "outputs": [],
   "source": [
    "top_questions_sr8 = sr8.top(limit = 625)\n",
    "\n",
    "q_and_a_sr8 = []\n",
    "\n",
    "for submission in top_questions_sr8:\n",
    "    if '?' in submission.title:\n",
    "        top_comment = submission.comments[0].body if submission.comments else None\n",
    "    \n",
    "        question_data = {\n",
    "            'title': submission.title,\n",
    "            'top_comment': top_comment\n",
    "        }\n",
    "\n",
    "        q_and_a_sr8.append(question_data)"
   ]
  },
  {
   "cell_type": "code",
   "execution_count": 33,
   "id": "b7bf6d04",
   "metadata": {},
   "outputs": [
    {
     "data": {
      "text/html": [
       "<div>\n",
       "<style scoped>\n",
       "    .dataframe tbody tr th:only-of-type {\n",
       "        vertical-align: middle;\n",
       "    }\n",
       "\n",
       "    .dataframe tbody tr th {\n",
       "        vertical-align: top;\n",
       "    }\n",
       "\n",
       "    .dataframe thead th {\n",
       "        text-align: right;\n",
       "    }\n",
       "</style>\n",
       "<table border=\"1\" class=\"dataframe\">\n",
       "  <thead>\n",
       "    <tr style=\"text-align: right;\">\n",
       "      <th></th>\n",
       "      <th>title</th>\n",
       "      <th>top_comment</th>\n",
       "    </tr>\n",
       "  </thead>\n",
       "  <tbody>\n",
       "    <tr>\n",
       "      <th>0</th>\n",
       "      <td>Max Kellerman on Lebron: \"It's called selling ...</td>\n",
       "      <td>Mohammad Ali is the perfect example. Dude lost...</td>\n",
       "    </tr>\n",
       "    <tr>\n",
       "      <th>1</th>\n",
       "      <td>Kareem Abdul-Jabbar: Where Is the Outrage Over...</td>\n",
       "      <td>Kareem just cocked it back and yammed it on St...</td>\n",
       "    </tr>\n",
       "    <tr>\n",
       "      <th>2</th>\n",
       "      <td>Doc Rivers: “I will say it, because I don’t th...</td>\n",
       "      <td>Hi all,  \\n\\nOur enhanced auto-moderation tool...</td>\n",
       "    </tr>\n",
       "    <tr>\n",
       "      <th>3</th>\n",
       "      <td>Is Lebron DENNIS systeming the cavs?</td>\n",
       "      <td>IT getting all buddy buddy with dan gilbert so...</td>\n",
       "    </tr>\n",
       "    <tr>\n",
       "      <th>4</th>\n",
       "      <td>Can we please stop calling players that 90% of...</td>\n",
       "      <td>&gt; AND GOOGLE TO FIND OUT THIS MF WAS TALKING A...</td>\n",
       "    </tr>\n",
       "  </tbody>\n",
       "</table>\n",
       "</div>"
      ],
      "text/plain": [
       "                                               title  \\\n",
       "0  Max Kellerman on Lebron: \"It's called selling ...   \n",
       "1  Kareem Abdul-Jabbar: Where Is the Outrage Over...   \n",
       "2  Doc Rivers: “I will say it, because I don’t th...   \n",
       "3               Is Lebron DENNIS systeming the cavs?   \n",
       "4  Can we please stop calling players that 90% of...   \n",
       "\n",
       "                                         top_comment  \n",
       "0  Mohammad Ali is the perfect example. Dude lost...  \n",
       "1  Kareem just cocked it back and yammed it on St...  \n",
       "2  Hi all,  \\n\\nOur enhanced auto-moderation tool...  \n",
       "3  IT getting all buddy buddy with dan gilbert so...  \n",
       "4  > AND GOOGLE TO FIND OUT THIS MF WAS TALKING A...  "
      ]
     },
     "execution_count": 33,
     "metadata": {},
     "output_type": "execute_result"
    }
   ],
   "source": [
    "df_sr8 = pd.DataFrame(q_and_a_sr8)\n",
    "df_sr8.head()"
   ]
  },
  {
   "cell_type": "code",
   "execution_count": 34,
   "id": "a5982c8f",
   "metadata": {},
   "outputs": [],
   "source": [
    "top_questions_sr9 = sr9.top(limit = 625)\n",
    "\n",
    "q_and_a_sr9 = []\n",
    "\n",
    "for submission in top_questions_sr9:\n",
    "    if '?' in submission.title:\n",
    "        top_comment = submission.comments[0].body if submission.comments else None\n",
    "    \n",
    "        question_data = {\n",
    "            'title': submission.title,\n",
    "            'top_comment': top_comment\n",
    "        }\n",
    "\n",
    "        q_and_a_sr9.append(question_data)"
   ]
  },
  {
   "cell_type": "code",
   "execution_count": 35,
   "id": "c90d86b0",
   "metadata": {},
   "outputs": [
    {
     "data": {
      "text/html": [
       "<div>\n",
       "<style scoped>\n",
       "    .dataframe tbody tr th:only-of-type {\n",
       "        vertical-align: middle;\n",
       "    }\n",
       "\n",
       "    .dataframe tbody tr th {\n",
       "        vertical-align: top;\n",
       "    }\n",
       "\n",
       "    .dataframe thead th {\n",
       "        text-align: right;\n",
       "    }\n",
       "</style>\n",
       "<table border=\"1\" class=\"dataframe\">\n",
       "  <thead>\n",
       "    <tr style=\"text-align: right;\">\n",
       "      <th></th>\n",
       "      <th>title</th>\n",
       "      <th>top_comment</th>\n",
       "    </tr>\n",
       "  </thead>\n",
       "  <tbody>\n",
       "    <tr>\n",
       "      <th>0</th>\n",
       "      <td>How come he don't want us?</td>\n",
       "      <td>This is so sad and funny at the same time lmao...</td>\n",
       "    </tr>\n",
       "    <tr>\n",
       "      <th>1</th>\n",
       "      <td>Wait what, actually!?</td>\n",
       "      <td>For some reason, I thought Scottie Barnes was ...</td>\n",
       "    </tr>\n",
       "    <tr>\n",
       "      <th>2</th>\n",
       "      <td>Little cousin met Uncle Dennis at the airport ...</td>\n",
       "      <td>Damn uncle Dennis could’ve played in the NBA</td>\n",
       "    </tr>\n",
       "    <tr>\n",
       "      <th>3</th>\n",
       "      <td>Nav Bhatia on Kawhi’s jersey being retired? “N...</td>\n",
       "      <td>Kawhi was absolutely the difference maker in u...</td>\n",
       "    </tr>\n",
       "    <tr>\n",
       "      <th>4</th>\n",
       "      <td>Vote for best Oscar actor - Harden or Embiid?</td>\n",
       "      <td>Yes.\\n\\nThis is hilarious btw lmfao.</td>\n",
       "    </tr>\n",
       "  </tbody>\n",
       "</table>\n",
       "</div>"
      ],
      "text/plain": [
       "                                               title  \\\n",
       "0                         How come he don't want us?   \n",
       "1                              Wait what, actually!?   \n",
       "2  Little cousin met Uncle Dennis at the airport ...   \n",
       "3  Nav Bhatia on Kawhi’s jersey being retired? “N...   \n",
       "4      Vote for best Oscar actor - Harden or Embiid?   \n",
       "\n",
       "                                         top_comment  \n",
       "0  This is so sad and funny at the same time lmao...  \n",
       "1  For some reason, I thought Scottie Barnes was ...  \n",
       "2       Damn uncle Dennis could’ve played in the NBA  \n",
       "3  Kawhi was absolutely the difference maker in u...  \n",
       "4               Yes.\\n\\nThis is hilarious btw lmfao.  "
      ]
     },
     "execution_count": 35,
     "metadata": {},
     "output_type": "execute_result"
    }
   ],
   "source": [
    "df_sr9 = pd.DataFrame(q_and_a_sr9)\n",
    "df_sr9.head()\n",
    "#Delete ones which have [removed]"
   ]
  },
  {
   "cell_type": "code",
   "execution_count": 36,
   "id": "b6d57e5f",
   "metadata": {},
   "outputs": [],
   "source": [
    "top_questions_sr10 = sr10.top(limit = 625)\n",
    "\n",
    "q_and_a_sr10 = []\n",
    "\n",
    "for submission in top_questions_sr10:\n",
    "    top_comment = submission.comments[0].body if submission.comments else None\n",
    "    \n",
    "    question_data = {\n",
    "        'title': submission.title,\n",
    "        'top_comment': top_comment\n",
    "    }\n",
    "    \n",
    "    q_and_a_sr10.append(question_data)"
   ]
  },
  {
   "cell_type": "code",
   "execution_count": 37,
   "id": "2f5869ee",
   "metadata": {},
   "outputs": [
    {
     "data": {
      "text/html": [
       "<div>\n",
       "<style scoped>\n",
       "    .dataframe tbody tr th:only-of-type {\n",
       "        vertical-align: middle;\n",
       "    }\n",
       "\n",
       "    .dataframe tbody tr th {\n",
       "        vertical-align: top;\n",
       "    }\n",
       "\n",
       "    .dataframe thead th {\n",
       "        text-align: right;\n",
       "    }\n",
       "</style>\n",
       "<table border=\"1\" class=\"dataframe\">\n",
       "  <thead>\n",
       "    <tr style=\"text-align: right;\">\n",
       "      <th></th>\n",
       "      <th>title</th>\n",
       "      <th>top_comment</th>\n",
       "    </tr>\n",
       "  </thead>\n",
       "  <tbody>\n",
       "    <tr>\n",
       "      <th>0</th>\n",
       "      <td>Why does the president seem so personally inte...</td>\n",
       "      <td>I've been reading through these comments, and ...</td>\n",
       "    </tr>\n",
       "    <tr>\n",
       "      <th>1</th>\n",
       "      <td>How did you end up in your career path? Are yo...</td>\n",
       "      <td>i'm a massage therapist. not the seaweed wrap ...</td>\n",
       "    </tr>\n",
       "    <tr>\n",
       "      <th>2</th>\n",
       "      <td>Why does the world come together spending hund...</td>\n",
       "      <td>Being blunt but here are my two big factors:\\n...</td>\n",
       "    </tr>\n",
       "    <tr>\n",
       "      <th>3</th>\n",
       "      <td>What atrocities are occurring around the world...</td>\n",
       "      <td>My heart is particularly called out to the Con...</td>\n",
       "    </tr>\n",
       "    <tr>\n",
       "      <th>4</th>\n",
       "      <td>How can a male boss better lookout and protect...</td>\n",
       "      <td>By firing the guy you already did more than yo...</td>\n",
       "    </tr>\n",
       "  </tbody>\n",
       "</table>\n",
       "</div>"
      ],
      "text/plain": [
       "                                               title  \\\n",
       "0  Why does the president seem so personally inte...   \n",
       "1  How did you end up in your career path? Are yo...   \n",
       "2  Why does the world come together spending hund...   \n",
       "3  What atrocities are occurring around the world...   \n",
       "4  How can a male boss better lookout and protect...   \n",
       "\n",
       "                                         top_comment  \n",
       "0  I've been reading through these comments, and ...  \n",
       "1  i'm a massage therapist. not the seaweed wrap ...  \n",
       "2  Being blunt but here are my two big factors:\\n...  \n",
       "3  My heart is particularly called out to the Con...  \n",
       "4  By firing the guy you already did more than yo...  "
      ]
     },
     "execution_count": 37,
     "metadata": {},
     "output_type": "execute_result"
    }
   ],
   "source": [
    "df_sr10 = pd.DataFrame(q_and_a_sr10)\n",
    "df_sr10.head()\n",
    "#Remove ones that start with 'Welcome'"
   ]
  },
  {
   "cell_type": "code",
   "execution_count": 43,
   "id": "fe29642a",
   "metadata": {},
   "outputs": [
    {
     "data": {
      "text/plain": [
       "(3864, 2)"
      ]
     },
     "execution_count": 43,
     "metadata": {},
     "output_type": "execute_result"
    }
   ],
   "source": [
    "#Stack all dataframes on top each other\n",
    "df_reddit = pd.concat([df_sr1, df_sr2, df_sr3, df_sr4, df_sr5, df_sr6, df_sr7, df_sr8, df_sr9, df_sr10], axis = 0)\n",
    "df_reddit.shape"
   ]
  },
  {
   "cell_type": "code",
   "execution_count": 45,
   "id": "c6ef3700",
   "metadata": {},
   "outputs": [],
   "source": [
    "#Includes all subreddits\n",
    "df_reddit.to_csv('reddit_q_and_a.csv', index = False)"
   ]
  },
  {
   "cell_type": "code",
   "execution_count": 46,
   "id": "19e31cca",
   "metadata": {},
   "outputs": [
    {
     "data": {
      "text/plain": [
       "(3750, 2)"
      ]
     },
     "execution_count": 46,
     "metadata": {},
     "output_type": "execute_result"
    }
   ],
   "source": [
    "#Stack all question/ask dataframes on top each other\n",
    "df_reddit_ask_question = pd.concat([df_sr1, df_sr2, df_sr3, df_sr4, df_sr5, df_sr10], axis = 0)\n",
    "df_reddit_ask_question.shape"
   ]
  },
  {
   "cell_type": "code",
   "execution_count": 47,
   "id": "c3b1eeca",
   "metadata": {},
   "outputs": [],
   "source": [
    "#Only subreddits predicated on asks and questions\n",
    "df_reddit_ask_question.to_csv('reddit_ask_question.csv', index = False)"
   ]
  },
  {
   "cell_type": "code",
   "execution_count": 48,
   "id": "a91a2680",
   "metadata": {},
   "outputs": [
    {
     "data": {
      "text/plain": [
       "(114, 2)"
      ]
     },
     "execution_count": 48,
     "metadata": {},
     "output_type": "execute_result"
    }
   ],
   "source": [
    "#Stack all other subreddits on top each other\n",
    "df_reddit_others = pd.concat([df_sr6, df_sr7, df_sr8, df_sr9], axis = 0)\n",
    "df_reddit_others.shape"
   ]
  },
  {
   "cell_type": "code",
   "execution_count": 49,
   "id": "4727b8f9",
   "metadata": {},
   "outputs": [],
   "source": [
    "df_reddit_others.to_csv('reddit_others.csv', index = False)"
   ]
  },
  {
   "cell_type": "code",
   "execution_count": null,
   "id": "16eeee87",
   "metadata": {},
   "outputs": [],
   "source": [
    "#Practicing/Trying out pulling questions\n",
    "#Took from Eric in breakfast hour\n",
    "\"\"\"\n",
    "questions = []\n",
    "\n",
    "for question in \n",
    "hot_posts = reddit.subreddit('askculinary').hot(limit=1250)\n",
    "for post in hot_posts:\n",
    "    print(post.title)\n",
    "\"\"\""
   ]
  }
 ],
 "metadata": {
  "kernelspec": {
   "display_name": "Python 3 (ipykernel)",
   "language": "python",
   "name": "python3"
  },
  "language_info": {
   "codemirror_mode": {
    "name": "ipython",
    "version": 3
   },
   "file_extension": ".py",
   "mimetype": "text/x-python",
   "name": "python",
   "nbconvert_exporter": "python",
   "pygments_lexer": "ipython3",
   "version": "3.11.4"
  }
 },
 "nbformat": 4,
 "nbformat_minor": 5
}
