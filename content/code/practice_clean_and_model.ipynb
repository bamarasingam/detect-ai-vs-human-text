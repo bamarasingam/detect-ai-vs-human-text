{
 "cells": [
  {
   "cell_type": "code",
   "execution_count": 86,
   "id": "66809335",
   "metadata": {},
   "outputs": [],
   "source": [
    "import pandas as pd\n",
    "import numpy as np\n",
    "from sklearn.model_selection import train_test_split\n",
    "from sklearn.feature_extraction.text import TfidfVectorizer\n",
    "from sklearn.linear_model import LogisticRegression"
   ]
  },
  {
   "cell_type": "markdown",
   "id": "69b01fca",
   "metadata": {},
   "source": [
    "# Data Cleaning & EDA"
   ]
  },
  {
   "cell_type": "code",
   "execution_count": 31,
   "id": "114b0470",
   "metadata": {},
   "outputs": [],
   "source": [
    "#Read in csv file\n",
    "others = pd.read_csv('reddit_others_full.csv')"
   ]
  },
  {
   "cell_type": "code",
   "execution_count": 32,
   "id": "b5a0cdee",
   "metadata": {},
   "outputs": [
    {
     "data": {
      "text/html": [
       "<div>\n",
       "<style scoped>\n",
       "    .dataframe tbody tr th:only-of-type {\n",
       "        vertical-align: middle;\n",
       "    }\n",
       "\n",
       "    .dataframe tbody tr th {\n",
       "        vertical-align: top;\n",
       "    }\n",
       "\n",
       "    .dataframe thead th {\n",
       "        text-align: right;\n",
       "    }\n",
       "</style>\n",
       "<table border=\"1\" class=\"dataframe\">\n",
       "  <thead>\n",
       "    <tr style=\"text-align: right;\">\n",
       "      <th></th>\n",
       "      <th>title</th>\n",
       "      <th>top_comment</th>\n",
       "      <th>answers</th>\n",
       "    </tr>\n",
       "  </thead>\n",
       "  <tbody>\n",
       "    <tr>\n",
       "      <th>0</th>\n",
       "      <td>Found this online, is it true?</td>\n",
       "      <td>- If you are interested in the live action for...</td>\n",
       "      <td>\\n\\nWithout knowing the source of the informat...</td>\n",
       "    </tr>\n",
       "    <tr>\n",
       "      <th>1</th>\n",
       "      <td>One Piece Summarized, took 30 hours. Can you f...</td>\n",
       "      <td>I didn't think anyone could summarize the enti...</td>\n",
       "      <td>\\n\\nPandaman can be found in the One Piece man...</td>\n",
       "    </tr>\n",
       "    <tr>\n",
       "      <th>2</th>\n",
       "      <td>You saved some of the treasure, right?</td>\n",
       "      <td>Zoro making a run for it and taking Sanji with...</td>\n",
       "      <td>\\n\\nYes, I did save some of the treasure.</td>\n",
       "    </tr>\n",
       "    <tr>\n",
       "      <th>3</th>\n",
       "      <td>Where’s Pandaman? Took 71 hours. Can you find ...</td>\n",
       "      <td>I love all the details put on this, like Zoro ...</td>\n",
       "      <td>\\n\\n1. In the upper right corner of the image....</td>\n",
       "    </tr>\n",
       "    <tr>\n",
       "      <th>4</th>\n",
       "      <td>Is it real ?</td>\n",
       "      <td>That's naruto's last chapter. Oda paying respe...</td>\n",
       "      <td>\\n\\nThat depends on what you are asking about.</td>\n",
       "    </tr>\n",
       "  </tbody>\n",
       "</table>\n",
       "</div>"
      ],
      "text/plain": [
       "                                               title  \\\n",
       "0                     Found this online, is it true?   \n",
       "1  One Piece Summarized, took 30 hours. Can you f...   \n",
       "2             You saved some of the treasure, right?   \n",
       "3  Where’s Pandaman? Took 71 hours. Can you find ...   \n",
       "4                                       Is it real ?   \n",
       "\n",
       "                                         top_comment  \\\n",
       "0  - If you are interested in the live action for...   \n",
       "1  I didn't think anyone could summarize the enti...   \n",
       "2  Zoro making a run for it and taking Sanji with...   \n",
       "3  I love all the details put on this, like Zoro ...   \n",
       "4  That's naruto's last chapter. Oda paying respe...   \n",
       "\n",
       "                                             answers  \n",
       "0  \\n\\nWithout knowing the source of the informat...  \n",
       "1  \\n\\nPandaman can be found in the One Piece man...  \n",
       "2          \\n\\nYes, I did save some of the treasure.  \n",
       "3  \\n\\n1. In the upper right corner of the image....  \n",
       "4     \\n\\nThat depends on what you are asking about.  "
      ]
     },
     "execution_count": 32,
     "metadata": {},
     "output_type": "execute_result"
    }
   ],
   "source": [
    "others.head()"
   ]
  },
  {
   "cell_type": "code",
   "execution_count": 33,
   "id": "23343009",
   "metadata": {},
   "outputs": [],
   "source": [
    "#Start index at 1 instead of 0\n",
    "#https://www.includehelp.com/python/pandas-start-row-index-from-1-instead-of-zero-without-creating-additional-column.aspx\n",
    "others.index = np.arange(1, len(others) + 1)"
   ]
  },
  {
   "cell_type": "code",
   "execution_count": 35,
   "id": "1a8f41c3",
   "metadata": {},
   "outputs": [],
   "source": [
    "#Rename index to row_id\n",
    "#https://saturncloud.io/blog/how-to-name-your-pandas-index-column-a-guide-for-data-scientists/#:~:text=Method%201%3A%20Using%20the%20rename_axis()%20Method&text=In%20this%20example%2C%20we%20first,index%20column%20to%20'person'.\n",
    "others.rename_axis('row_id', inplace=True)"
   ]
  },
  {
   "cell_type": "code",
   "execution_count": 36,
   "id": "aa7a7d67",
   "metadata": {
    "scrolled": false
   },
   "outputs": [
    {
     "data": {
      "text/html": [
       "<div>\n",
       "<style scoped>\n",
       "    .dataframe tbody tr th:only-of-type {\n",
       "        vertical-align: middle;\n",
       "    }\n",
       "\n",
       "    .dataframe tbody tr th {\n",
       "        vertical-align: top;\n",
       "    }\n",
       "\n",
       "    .dataframe thead th {\n",
       "        text-align: right;\n",
       "    }\n",
       "</style>\n",
       "<table border=\"1\" class=\"dataframe\">\n",
       "  <thead>\n",
       "    <tr style=\"text-align: right;\">\n",
       "      <th></th>\n",
       "      <th>title</th>\n",
       "      <th>top_comment</th>\n",
       "      <th>answers</th>\n",
       "    </tr>\n",
       "    <tr>\n",
       "      <th>row_id</th>\n",
       "      <th></th>\n",
       "      <th></th>\n",
       "      <th></th>\n",
       "    </tr>\n",
       "  </thead>\n",
       "  <tbody>\n",
       "    <tr>\n",
       "      <th>1</th>\n",
       "      <td>Found this online, is it true?</td>\n",
       "      <td>- If you are interested in the live action for...</td>\n",
       "      <td>\\n\\nWithout knowing the source of the informat...</td>\n",
       "    </tr>\n",
       "    <tr>\n",
       "      <th>2</th>\n",
       "      <td>One Piece Summarized, took 30 hours. Can you f...</td>\n",
       "      <td>I didn't think anyone could summarize the enti...</td>\n",
       "      <td>\\n\\nPandaman can be found in the One Piece man...</td>\n",
       "    </tr>\n",
       "    <tr>\n",
       "      <th>3</th>\n",
       "      <td>You saved some of the treasure, right?</td>\n",
       "      <td>Zoro making a run for it and taking Sanji with...</td>\n",
       "      <td>\\n\\nYes, I did save some of the treasure.</td>\n",
       "    </tr>\n",
       "    <tr>\n",
       "      <th>4</th>\n",
       "      <td>Where’s Pandaman? Took 71 hours. Can you find ...</td>\n",
       "      <td>I love all the details put on this, like Zoro ...</td>\n",
       "      <td>\\n\\n1. In the upper right corner of the image....</td>\n",
       "    </tr>\n",
       "    <tr>\n",
       "      <th>5</th>\n",
       "      <td>Is it real ?</td>\n",
       "      <td>That's naruto's last chapter. Oda paying respe...</td>\n",
       "      <td>\\n\\nThat depends on what you are asking about.</td>\n",
       "    </tr>\n",
       "  </tbody>\n",
       "</table>\n",
       "</div>"
      ],
      "text/plain": [
       "                                                    title  \\\n",
       "row_id                                                      \n",
       "1                          Found this online, is it true?   \n",
       "2       One Piece Summarized, took 30 hours. Can you f...   \n",
       "3                  You saved some of the treasure, right?   \n",
       "4       Where’s Pandaman? Took 71 hours. Can you find ...   \n",
       "5                                            Is it real ?   \n",
       "\n",
       "                                              top_comment  \\\n",
       "row_id                                                      \n",
       "1       - If you are interested in the live action for...   \n",
       "2       I didn't think anyone could summarize the enti...   \n",
       "3       Zoro making a run for it and taking Sanji with...   \n",
       "4       I love all the details put on this, like Zoro ...   \n",
       "5       That's naruto's last chapter. Oda paying respe...   \n",
       "\n",
       "                                                  answers  \n",
       "row_id                                                     \n",
       "1       \\n\\nWithout knowing the source of the informat...  \n",
       "2       \\n\\nPandaman can be found in the One Piece man...  \n",
       "3               \\n\\nYes, I did save some of the treasure.  \n",
       "4       \\n\\n1. In the upper right corner of the image....  \n",
       "5          \\n\\nThat depends on what you are asking about.  "
      ]
     },
     "execution_count": 36,
     "metadata": {},
     "output_type": "execute_result"
    }
   ],
   "source": [
    "others.head()"
   ]
  },
  {
   "cell_type": "code",
   "execution_count": 39,
   "id": "8407f41e",
   "metadata": {
    "scrolled": true
   },
   "outputs": [
    {
     "name": "stdout",
     "output_type": "stream",
     "text": [
      "\n",
      "\n",
      "Without knowing the source of the information, it is impossible to know if it is true or not. It is always best to research any information you find online to make sure it is accurate and reliable.\n"
     ]
    }
   ],
   "source": [
    "print(others.at[1, 'answers'])"
   ]
  },
  {
   "cell_type": "code",
   "execution_count": 42,
   "id": "9cc22c3d",
   "metadata": {},
   "outputs": [
    {
     "name": "stdout",
     "output_type": "stream",
     "text": [
      "Without knowing the source of the information, it is impossible to know if it is true or not. It is always best to research any information you find online to make sure it is accurate and reliable.\n"
     ]
    }
   ],
   "source": [
    "#Removing white space from all answers\n",
    "#https://www.geeksforgeeks.org/pandas-strip-whitespace-from-entire-dataframe/\n",
    "others['answers'] = others['answers'].str.strip()\n",
    "print(others.at[1, 'answers'])"
   ]
  },
  {
   "cell_type": "code",
   "execution_count": 43,
   "id": "5995b8d5",
   "metadata": {},
   "outputs": [
    {
     "data": {
      "text/html": [
       "<div>\n",
       "<style scoped>\n",
       "    .dataframe tbody tr th:only-of-type {\n",
       "        vertical-align: middle;\n",
       "    }\n",
       "\n",
       "    .dataframe tbody tr th {\n",
       "        vertical-align: top;\n",
       "    }\n",
       "\n",
       "    .dataframe thead th {\n",
       "        text-align: right;\n",
       "    }\n",
       "</style>\n",
       "<table border=\"1\" class=\"dataframe\">\n",
       "  <thead>\n",
       "    <tr style=\"text-align: right;\">\n",
       "      <th></th>\n",
       "      <th>title</th>\n",
       "      <th>top_comment</th>\n",
       "      <th>answers</th>\n",
       "    </tr>\n",
       "    <tr>\n",
       "      <th>row_id</th>\n",
       "      <th></th>\n",
       "      <th></th>\n",
       "      <th></th>\n",
       "    </tr>\n",
       "  </thead>\n",
       "  <tbody>\n",
       "    <tr>\n",
       "      <th>1</th>\n",
       "      <td>Found this online, is it true?</td>\n",
       "      <td>- If you are interested in the live action for...</td>\n",
       "      <td>Without knowing the source of the information,...</td>\n",
       "    </tr>\n",
       "    <tr>\n",
       "      <th>2</th>\n",
       "      <td>One Piece Summarized, took 30 hours. Can you f...</td>\n",
       "      <td>I didn't think anyone could summarize the enti...</td>\n",
       "      <td>Pandaman can be found in the One Piece manga a...</td>\n",
       "    </tr>\n",
       "    <tr>\n",
       "      <th>3</th>\n",
       "      <td>You saved some of the treasure, right?</td>\n",
       "      <td>Zoro making a run for it and taking Sanji with...</td>\n",
       "      <td>Yes, I did save some of the treasure.</td>\n",
       "    </tr>\n",
       "    <tr>\n",
       "      <th>4</th>\n",
       "      <td>Where’s Pandaman? Took 71 hours. Can you find ...</td>\n",
       "      <td>I love all the details put on this, like Zoro ...</td>\n",
       "      <td>1. In the upper right corner of the image.\\n2....</td>\n",
       "    </tr>\n",
       "    <tr>\n",
       "      <th>5</th>\n",
       "      <td>Is it real ?</td>\n",
       "      <td>That's naruto's last chapter. Oda paying respe...</td>\n",
       "      <td>That depends on what you are asking about.</td>\n",
       "    </tr>\n",
       "  </tbody>\n",
       "</table>\n",
       "</div>"
      ],
      "text/plain": [
       "                                                    title  \\\n",
       "row_id                                                      \n",
       "1                          Found this online, is it true?   \n",
       "2       One Piece Summarized, took 30 hours. Can you f...   \n",
       "3                  You saved some of the treasure, right?   \n",
       "4       Where’s Pandaman? Took 71 hours. Can you find ...   \n",
       "5                                            Is it real ?   \n",
       "\n",
       "                                              top_comment  \\\n",
       "row_id                                                      \n",
       "1       - If you are interested in the live action for...   \n",
       "2       I didn't think anyone could summarize the enti...   \n",
       "3       Zoro making a run for it and taking Sanji with...   \n",
       "4       I love all the details put on this, like Zoro ...   \n",
       "5       That's naruto's last chapter. Oda paying respe...   \n",
       "\n",
       "                                                  answers  \n",
       "row_id                                                     \n",
       "1       Without knowing the source of the information,...  \n",
       "2       Pandaman can be found in the One Piece manga a...  \n",
       "3                   Yes, I did save some of the treasure.  \n",
       "4       1. In the upper right corner of the image.\\n2....  \n",
       "5              That depends on what you are asking about.  "
      ]
     },
     "execution_count": 43,
     "metadata": {},
     "output_type": "execute_result"
    }
   ],
   "source": [
    "others.head()"
   ]
  },
  {
   "cell_type": "code",
   "execution_count": null,
   "id": "d9d948bd",
   "metadata": {},
   "outputs": [],
   "source": [
    "#Need to remove rows which include [deleted] in comment\n",
    "#Need to remove rows which include '# Message to all users...'\n",
    "#Delete ones which have [removed]\n",
    "#Remove ones that start with 'Welcome'\n",
    "#Remove NaN\n",
    "\n",
    "#italics, bold, and links\n",
    "\n",
    "#NLTK\n",
    "    #Lemmatizer\n",
    "    #StopWords\n"
   ]
  },
  {
   "cell_type": "markdown",
   "id": "84ccf159",
   "metadata": {},
   "source": [
    "Need to make dataframe with a column containing both answers from humans and AI, and another column which contains a binary value which represents either human or AI. "
   ]
  },
  {
   "cell_type": "code",
   "execution_count": 47,
   "id": "be74c450",
   "metadata": {},
   "outputs": [
    {
     "data": {
      "text/html": [
       "<div>\n",
       "<style scoped>\n",
       "    .dataframe tbody tr th:only-of-type {\n",
       "        vertical-align: middle;\n",
       "    }\n",
       "\n",
       "    .dataframe tbody tr th {\n",
       "        vertical-align: top;\n",
       "    }\n",
       "\n",
       "    .dataframe thead th {\n",
       "        text-align: right;\n",
       "    }\n",
       "</style>\n",
       "<table border=\"1\" class=\"dataframe\">\n",
       "  <thead>\n",
       "    <tr style=\"text-align: right;\">\n",
       "      <th></th>\n",
       "      <th>answer</th>\n",
       "    </tr>\n",
       "    <tr>\n",
       "      <th>row_id</th>\n",
       "      <th></th>\n",
       "    </tr>\n",
       "  </thead>\n",
       "  <tbody>\n",
       "    <tr>\n",
       "      <th>1</th>\n",
       "      <td>- If you are interested in the live action for...</td>\n",
       "    </tr>\n",
       "    <tr>\n",
       "      <th>2</th>\n",
       "      <td>I didn't think anyone could summarize the enti...</td>\n",
       "    </tr>\n",
       "    <tr>\n",
       "      <th>3</th>\n",
       "      <td>Zoro making a run for it and taking Sanji with...</td>\n",
       "    </tr>\n",
       "    <tr>\n",
       "      <th>4</th>\n",
       "      <td>I love all the details put on this, like Zoro ...</td>\n",
       "    </tr>\n",
       "    <tr>\n",
       "      <th>5</th>\n",
       "      <td>That's naruto's last chapter. Oda paying respe...</td>\n",
       "    </tr>\n",
       "  </tbody>\n",
       "</table>\n",
       "</div>"
      ],
      "text/plain": [
       "                                                   answer\n",
       "row_id                                                   \n",
       "1       - If you are interested in the live action for...\n",
       "2       I didn't think anyone could summarize the enti...\n",
       "3       Zoro making a run for it and taking Sanji with...\n",
       "4       I love all the details put on this, like Zoro ...\n",
       "5       That's naruto's last chapter. Oda paying respe..."
      ]
     },
     "execution_count": 47,
     "metadata": {},
     "output_type": "execute_result"
    }
   ],
   "source": [
    "#New dataframe with answers from human\n",
    "df1 = pd.DataFrame()\n",
    "df1['answer'] = others['top_comment']\n",
    "df1.head()"
   ]
  },
  {
   "cell_type": "code",
   "execution_count": 48,
   "id": "3bf9ec8c",
   "metadata": {},
   "outputs": [
    {
     "data": {
      "text/html": [
       "<div>\n",
       "<style scoped>\n",
       "    .dataframe tbody tr th:only-of-type {\n",
       "        vertical-align: middle;\n",
       "    }\n",
       "\n",
       "    .dataframe tbody tr th {\n",
       "        vertical-align: top;\n",
       "    }\n",
       "\n",
       "    .dataframe thead th {\n",
       "        text-align: right;\n",
       "    }\n",
       "</style>\n",
       "<table border=\"1\" class=\"dataframe\">\n",
       "  <thead>\n",
       "    <tr style=\"text-align: right;\">\n",
       "      <th></th>\n",
       "      <th>answer</th>\n",
       "      <th>who_from</th>\n",
       "    </tr>\n",
       "    <tr>\n",
       "      <th>row_id</th>\n",
       "      <th></th>\n",
       "      <th></th>\n",
       "    </tr>\n",
       "  </thead>\n",
       "  <tbody>\n",
       "    <tr>\n",
       "      <th>1</th>\n",
       "      <td>- If you are interested in the live action for...</td>\n",
       "      <td>0</td>\n",
       "    </tr>\n",
       "    <tr>\n",
       "      <th>2</th>\n",
       "      <td>I didn't think anyone could summarize the enti...</td>\n",
       "      <td>0</td>\n",
       "    </tr>\n",
       "    <tr>\n",
       "      <th>3</th>\n",
       "      <td>Zoro making a run for it and taking Sanji with...</td>\n",
       "      <td>0</td>\n",
       "    </tr>\n",
       "    <tr>\n",
       "      <th>4</th>\n",
       "      <td>I love all the details put on this, like Zoro ...</td>\n",
       "      <td>0</td>\n",
       "    </tr>\n",
       "    <tr>\n",
       "      <th>5</th>\n",
       "      <td>That's naruto's last chapter. Oda paying respe...</td>\n",
       "      <td>0</td>\n",
       "    </tr>\n",
       "  </tbody>\n",
       "</table>\n",
       "</div>"
      ],
      "text/plain": [
       "                                                   answer  who_from\n",
       "row_id                                                             \n",
       "1       - If you are interested in the live action for...         0\n",
       "2       I didn't think anyone could summarize the enti...         0\n",
       "3       Zoro making a run for it and taking Sanji with...         0\n",
       "4       I love all the details put on this, like Zoro ...         0\n",
       "5       That's naruto's last chapter. Oda paying respe...         0"
      ]
     },
     "execution_count": 48,
     "metadata": {},
     "output_type": "execute_result"
    }
   ],
   "source": [
    "#New column 'who_from' where 0 is human response, 1 is AI response\n",
    "df1['who_from'] = 0\n",
    "df1.head()"
   ]
  },
  {
   "cell_type": "code",
   "execution_count": 49,
   "id": "60bf3f78",
   "metadata": {},
   "outputs": [
    {
     "data": {
      "text/html": [
       "<div>\n",
       "<style scoped>\n",
       "    .dataframe tbody tr th:only-of-type {\n",
       "        vertical-align: middle;\n",
       "    }\n",
       "\n",
       "    .dataframe tbody tr th {\n",
       "        vertical-align: top;\n",
       "    }\n",
       "\n",
       "    .dataframe thead th {\n",
       "        text-align: right;\n",
       "    }\n",
       "</style>\n",
       "<table border=\"1\" class=\"dataframe\">\n",
       "  <thead>\n",
       "    <tr style=\"text-align: right;\">\n",
       "      <th></th>\n",
       "      <th>answer</th>\n",
       "      <th>who_from</th>\n",
       "    </tr>\n",
       "    <tr>\n",
       "      <th>row_id</th>\n",
       "      <th></th>\n",
       "      <th></th>\n",
       "    </tr>\n",
       "  </thead>\n",
       "  <tbody>\n",
       "    <tr>\n",
       "      <th>1</th>\n",
       "      <td>Without knowing the source of the information,...</td>\n",
       "      <td>1</td>\n",
       "    </tr>\n",
       "    <tr>\n",
       "      <th>2</th>\n",
       "      <td>Pandaman can be found in the One Piece manga a...</td>\n",
       "      <td>1</td>\n",
       "    </tr>\n",
       "    <tr>\n",
       "      <th>3</th>\n",
       "      <td>Yes, I did save some of the treasure.</td>\n",
       "      <td>1</td>\n",
       "    </tr>\n",
       "    <tr>\n",
       "      <th>4</th>\n",
       "      <td>1. In the upper right corner of the image.\\n2....</td>\n",
       "      <td>1</td>\n",
       "    </tr>\n",
       "    <tr>\n",
       "      <th>5</th>\n",
       "      <td>That depends on what you are asking about.</td>\n",
       "      <td>1</td>\n",
       "    </tr>\n",
       "  </tbody>\n",
       "</table>\n",
       "</div>"
      ],
      "text/plain": [
       "                                                   answer  who_from\n",
       "row_id                                                             \n",
       "1       Without knowing the source of the information,...         1\n",
       "2       Pandaman can be found in the One Piece manga a...         1\n",
       "3                   Yes, I did save some of the treasure.         1\n",
       "4       1. In the upper right corner of the image.\\n2....         1\n",
       "5              That depends on what you are asking about.         1"
      ]
     },
     "execution_count": 49,
     "metadata": {},
     "output_type": "execute_result"
    }
   ],
   "source": [
    "#Dataframe for AI responses\n",
    "df2 = pd.DataFrame()\n",
    "df2['answer'] = others['answers']\n",
    "df2['who_from'] = 1\n",
    "df2.head()"
   ]
  },
  {
   "cell_type": "code",
   "execution_count": 60,
   "id": "fc34ee0c",
   "metadata": {},
   "outputs": [
    {
     "data": {
      "text/html": [
       "<div>\n",
       "<style scoped>\n",
       "    .dataframe tbody tr th:only-of-type {\n",
       "        vertical-align: middle;\n",
       "    }\n",
       "\n",
       "    .dataframe tbody tr th {\n",
       "        vertical-align: top;\n",
       "    }\n",
       "\n",
       "    .dataframe thead th {\n",
       "        text-align: right;\n",
       "    }\n",
       "</style>\n",
       "<table border=\"1\" class=\"dataframe\">\n",
       "  <thead>\n",
       "    <tr style=\"text-align: right;\">\n",
       "      <th></th>\n",
       "      <th>answer</th>\n",
       "      <th>who_from</th>\n",
       "    </tr>\n",
       "    <tr>\n",
       "      <th>row_id</th>\n",
       "      <th></th>\n",
       "      <th></th>\n",
       "    </tr>\n",
       "  </thead>\n",
       "  <tbody>\n",
       "    <tr>\n",
       "      <th>1</th>\n",
       "      <td>- If you are interested in the live action for...</td>\n",
       "      <td>0</td>\n",
       "    </tr>\n",
       "    <tr>\n",
       "      <th>2</th>\n",
       "      <td>I didn't think anyone could summarize the enti...</td>\n",
       "      <td>0</td>\n",
       "    </tr>\n",
       "    <tr>\n",
       "      <th>3</th>\n",
       "      <td>Zoro making a run for it and taking Sanji with...</td>\n",
       "      <td>0</td>\n",
       "    </tr>\n",
       "    <tr>\n",
       "      <th>4</th>\n",
       "      <td>I love all the details put on this, like Zoro ...</td>\n",
       "      <td>0</td>\n",
       "    </tr>\n",
       "    <tr>\n",
       "      <th>5</th>\n",
       "      <td>That's naruto's last chapter. Oda paying respe...</td>\n",
       "      <td>0</td>\n",
       "    </tr>\n",
       "    <tr>\n",
       "      <th>...</th>\n",
       "      <td>...</td>\n",
       "      <td>...</td>\n",
       "    </tr>\n",
       "    <tr>\n",
       "      <th>110</th>\n",
       "      <td>Kawhi Leonard is the star of the Toronto Rapto...</td>\n",
       "      <td>1</td>\n",
       "    </tr>\n",
       "    <tr>\n",
       "      <th>111</th>\n",
       "      <td>?\\n\\nYes! Let's give a big shout out to our gu...</td>\n",
       "      <td>1</td>\n",
       "    </tr>\n",
       "    <tr>\n",
       "      <th>112</th>\n",
       "      <td>No, we should not be that fanbase. We need to ...</td>\n",
       "      <td>1</td>\n",
       "    </tr>\n",
       "    <tr>\n",
       "      <th>113</th>\n",
       "      <td>Yes, this is the dagger. It is a powerful arti...</td>\n",
       "      <td>1</td>\n",
       "    </tr>\n",
       "    <tr>\n",
       "      <th>114</th>\n",
       "      <td>No, we should not collectively hate this man. ...</td>\n",
       "      <td>1</td>\n",
       "    </tr>\n",
       "  </tbody>\n",
       "</table>\n",
       "<p>228 rows × 2 columns</p>\n",
       "</div>"
      ],
      "text/plain": [
       "                                                   answer  who_from\n",
       "row_id                                                             \n",
       "1       - If you are interested in the live action for...         0\n",
       "2       I didn't think anyone could summarize the enti...         0\n",
       "3       Zoro making a run for it and taking Sanji with...         0\n",
       "4       I love all the details put on this, like Zoro ...         0\n",
       "5       That's naruto's last chapter. Oda paying respe...         0\n",
       "...                                                   ...       ...\n",
       "110     Kawhi Leonard is the star of the Toronto Rapto...         1\n",
       "111     ?\\n\\nYes! Let's give a big shout out to our gu...         1\n",
       "112     No, we should not be that fanbase. We need to ...         1\n",
       "113     Yes, this is the dagger. It is a powerful arti...         1\n",
       "114     No, we should not collectively hate this man. ...         1\n",
       "\n",
       "[228 rows x 2 columns]"
      ]
     },
     "execution_count": 60,
     "metadata": {},
     "output_type": "execute_result"
    }
   ],
   "source": [
    "#Put df1 and df2 together\n",
    "df = pd.concat([df1, df2])\n",
    "df.head(500)"
   ]
  },
  {
   "cell_type": "code",
   "execution_count": 61,
   "id": "6d2abdbf",
   "metadata": {},
   "outputs": [
    {
     "data": {
      "text/html": [
       "<div>\n",
       "<style scoped>\n",
       "    .dataframe tbody tr th:only-of-type {\n",
       "        vertical-align: middle;\n",
       "    }\n",
       "\n",
       "    .dataframe tbody tr th {\n",
       "        vertical-align: top;\n",
       "    }\n",
       "\n",
       "    .dataframe thead th {\n",
       "        text-align: right;\n",
       "    }\n",
       "</style>\n",
       "<table border=\"1\" class=\"dataframe\">\n",
       "  <thead>\n",
       "    <tr style=\"text-align: right;\">\n",
       "      <th></th>\n",
       "      <th>row_id</th>\n",
       "      <th>answer</th>\n",
       "      <th>who_from</th>\n",
       "    </tr>\n",
       "  </thead>\n",
       "  <tbody>\n",
       "    <tr>\n",
       "      <th>0</th>\n",
       "      <td>1</td>\n",
       "      <td>- If you are interested in the live action for...</td>\n",
       "      <td>0</td>\n",
       "    </tr>\n",
       "    <tr>\n",
       "      <th>1</th>\n",
       "      <td>2</td>\n",
       "      <td>I didn't think anyone could summarize the enti...</td>\n",
       "      <td>0</td>\n",
       "    </tr>\n",
       "    <tr>\n",
       "      <th>2</th>\n",
       "      <td>3</td>\n",
       "      <td>Zoro making a run for it and taking Sanji with...</td>\n",
       "      <td>0</td>\n",
       "    </tr>\n",
       "    <tr>\n",
       "      <th>3</th>\n",
       "      <td>4</td>\n",
       "      <td>I love all the details put on this, like Zoro ...</td>\n",
       "      <td>0</td>\n",
       "    </tr>\n",
       "    <tr>\n",
       "      <th>4</th>\n",
       "      <td>5</td>\n",
       "      <td>That's naruto's last chapter. Oda paying respe...</td>\n",
       "      <td>0</td>\n",
       "    </tr>\n",
       "    <tr>\n",
       "      <th>...</th>\n",
       "      <td>...</td>\n",
       "      <td>...</td>\n",
       "      <td>...</td>\n",
       "    </tr>\n",
       "    <tr>\n",
       "      <th>195</th>\n",
       "      <td>82</td>\n",
       "      <td>NaN</td>\n",
       "      <td>1</td>\n",
       "    </tr>\n",
       "    <tr>\n",
       "      <th>196</th>\n",
       "      <td>83</td>\n",
       "      <td>Isaiah Thomas is now an incredibly impressive ...</td>\n",
       "      <td>1</td>\n",
       "    </tr>\n",
       "    <tr>\n",
       "      <th>197</th>\n",
       "      <td>84</td>\n",
       "      <td>Giannis is obviously sad to see his friend go ...</td>\n",
       "      <td>1</td>\n",
       "    </tr>\n",
       "    <tr>\n",
       "      <th>198</th>\n",
       "      <td>85</td>\n",
       "      <td>NaN</td>\n",
       "      <td>1</td>\n",
       "    </tr>\n",
       "    <tr>\n",
       "      <th>199</th>\n",
       "      <td>86</td>\n",
       "      <td>Yes, I think I'm getting used to it. In Housto...</td>\n",
       "      <td>1</td>\n",
       "    </tr>\n",
       "  </tbody>\n",
       "</table>\n",
       "<p>200 rows × 3 columns</p>\n",
       "</div>"
      ],
      "text/plain": [
       "     row_id                                             answer  who_from\n",
       "0         1  - If you are interested in the live action for...         0\n",
       "1         2  I didn't think anyone could summarize the enti...         0\n",
       "2         3  Zoro making a run for it and taking Sanji with...         0\n",
       "3         4  I love all the details put on this, like Zoro ...         0\n",
       "4         5  That's naruto's last chapter. Oda paying respe...         0\n",
       "..      ...                                                ...       ...\n",
       "195      82                                                NaN         1\n",
       "196      83  Isaiah Thomas is now an incredibly impressive ...         1\n",
       "197      84  Giannis is obviously sad to see his friend go ...         1\n",
       "198      85                                                NaN         1\n",
       "199      86  Yes, I think I'm getting used to it. In Housto...         1\n",
       "\n",
       "[200 rows x 3 columns]"
      ]
     },
     "execution_count": 61,
     "metadata": {},
     "output_type": "execute_result"
    }
   ],
   "source": [
    "#Need to fix row index\n",
    "#https://pynative.com/pandas-reset-index/#:~:text=Use%20DataFrame.reset_index()%20function,-We%20can%20use&text=reset_index()%20to%20reset%20the,of%20numbers%20starting%20at%200.\n",
    "df = df.reset_index()\n",
    "df.head(200)"
   ]
  },
  {
   "cell_type": "code",
   "execution_count": 77,
   "id": "467cf0e2",
   "metadata": {},
   "outputs": [
    {
     "data": {
      "text/html": [
       "<div>\n",
       "<style scoped>\n",
       "    .dataframe tbody tr th:only-of-type {\n",
       "        vertical-align: middle;\n",
       "    }\n",
       "\n",
       "    .dataframe tbody tr th {\n",
       "        vertical-align: top;\n",
       "    }\n",
       "\n",
       "    .dataframe thead th {\n",
       "        text-align: right;\n",
       "    }\n",
       "</style>\n",
       "<table border=\"1\" class=\"dataframe\">\n",
       "  <thead>\n",
       "    <tr style=\"text-align: right;\">\n",
       "      <th></th>\n",
       "      <th>row_id</th>\n",
       "      <th>answer</th>\n",
       "      <th>who_from</th>\n",
       "    </tr>\n",
       "  </thead>\n",
       "  <tbody>\n",
       "    <tr>\n",
       "      <th>0</th>\n",
       "      <td>1</td>\n",
       "      <td>- If you are interested in the live action for...</td>\n",
       "      <td>0</td>\n",
       "    </tr>\n",
       "    <tr>\n",
       "      <th>1</th>\n",
       "      <td>2</td>\n",
       "      <td>I didn't think anyone could summarize the enti...</td>\n",
       "      <td>0</td>\n",
       "    </tr>\n",
       "    <tr>\n",
       "      <th>2</th>\n",
       "      <td>3</td>\n",
       "      <td>Zoro making a run for it and taking Sanji with...</td>\n",
       "      <td>0</td>\n",
       "    </tr>\n",
       "    <tr>\n",
       "      <th>3</th>\n",
       "      <td>4</td>\n",
       "      <td>I love all the details put on this, like Zoro ...</td>\n",
       "      <td>0</td>\n",
       "    </tr>\n",
       "    <tr>\n",
       "      <th>4</th>\n",
       "      <td>5</td>\n",
       "      <td>That's naruto's last chapter. Oda paying respe...</td>\n",
       "      <td>0</td>\n",
       "    </tr>\n",
       "    <tr>\n",
       "      <th>...</th>\n",
       "      <td>...</td>\n",
       "      <td>...</td>\n",
       "      <td>...</td>\n",
       "    </tr>\n",
       "    <tr>\n",
       "      <th>205</th>\n",
       "      <td>92</td>\n",
       "      <td>No, Ben Simmons does not resemble Mona Lisa.</td>\n",
       "      <td>1</td>\n",
       "    </tr>\n",
       "    <tr>\n",
       "      <th>206</th>\n",
       "      <td>93</td>\n",
       "      <td>Butler: \"No, not at all. We all worked hard to...</td>\n",
       "      <td>1</td>\n",
       "    </tr>\n",
       "    <tr>\n",
       "      <th>208</th>\n",
       "      <td>95</td>\n",
       "      <td>It's difficult to say why someone may not want...</td>\n",
       "      <td>1</td>\n",
       "    </tr>\n",
       "    <tr>\n",
       "      <th>209</th>\n",
       "      <td>96</td>\n",
       "      <td>I'm sorry, I didn't quite catch that. Could yo...</td>\n",
       "      <td>1</td>\n",
       "    </tr>\n",
       "    <tr>\n",
       "      <th>210</th>\n",
       "      <td>97</td>\n",
       "      <td>ed mysterious and didn't say a word.</td>\n",
       "      <td>1</td>\n",
       "    </tr>\n",
       "  </tbody>\n",
       "</table>\n",
       "<p>200 rows × 3 columns</p>\n",
       "</div>"
      ],
      "text/plain": [
       "     row_id                                             answer  who_from\n",
       "0         1  - If you are interested in the live action for...         0\n",
       "1         2  I didn't think anyone could summarize the enti...         0\n",
       "2         3  Zoro making a run for it and taking Sanji with...         0\n",
       "3         4  I love all the details put on this, like Zoro ...         0\n",
       "4         5  That's naruto's last chapter. Oda paying respe...         0\n",
       "..      ...                                                ...       ...\n",
       "205      92       No, Ben Simmons does not resemble Mona Lisa.         1\n",
       "206      93  Butler: \"No, not at all. We all worked hard to...         1\n",
       "208      95  It's difficult to say why someone may not want...         1\n",
       "209      96  I'm sorry, I didn't quite catch that. Could yo...         1\n",
       "210      97               ed mysterious and didn't say a word.         1\n",
       "\n",
       "[200 rows x 3 columns]"
      ]
     },
     "execution_count": 77,
     "metadata": {},
     "output_type": "execute_result"
    }
   ],
   "source": [
    "#Drop rows with NaN\n",
    "df = df.dropna()\n",
    "df.head(200)"
   ]
  },
  {
   "cell_type": "code",
   "execution_count": 78,
   "id": "1de2c66f",
   "metadata": {},
   "outputs": [],
   "source": [
    "#Split data into predictive variables and target variable\n",
    "X = df['answer']\n",
    "y = df['who_from']"
   ]
  },
  {
   "cell_type": "code",
   "execution_count": 79,
   "id": "6c7e0324",
   "metadata": {},
   "outputs": [],
   "source": [
    "X_train, X_test, y_train, y_test = train_test_split(X, y, test_size=0.2, random_state=42)"
   ]
  },
  {
   "cell_type": "code",
   "execution_count": 80,
   "id": "2a89018a",
   "metadata": {},
   "outputs": [],
   "source": [
    "tfidf = TfidfVectorizer()\n",
    "X_train_tfidf = tfidf.fit_transform(X_train)\n",
    "X_test_tfidf = tfidf.transform(X_test)"
   ]
  },
  {
   "cell_type": "code",
   "execution_count": 81,
   "id": "2004b969",
   "metadata": {},
   "outputs": [
    {
     "data": {
      "text/html": [
       "<style>#sk-container-id-1 {color: black;}#sk-container-id-1 pre{padding: 0;}#sk-container-id-1 div.sk-toggleable {background-color: white;}#sk-container-id-1 label.sk-toggleable__label {cursor: pointer;display: block;width: 100%;margin-bottom: 0;padding: 0.3em;box-sizing: border-box;text-align: center;}#sk-container-id-1 label.sk-toggleable__label-arrow:before {content: \"▸\";float: left;margin-right: 0.25em;color: #696969;}#sk-container-id-1 label.sk-toggleable__label-arrow:hover:before {color: black;}#sk-container-id-1 div.sk-estimator:hover label.sk-toggleable__label-arrow:before {color: black;}#sk-container-id-1 div.sk-toggleable__content {max-height: 0;max-width: 0;overflow: hidden;text-align: left;background-color: #f0f8ff;}#sk-container-id-1 div.sk-toggleable__content pre {margin: 0.2em;color: black;border-radius: 0.25em;background-color: #f0f8ff;}#sk-container-id-1 input.sk-toggleable__control:checked~div.sk-toggleable__content {max-height: 200px;max-width: 100%;overflow: auto;}#sk-container-id-1 input.sk-toggleable__control:checked~label.sk-toggleable__label-arrow:before {content: \"▾\";}#sk-container-id-1 div.sk-estimator input.sk-toggleable__control:checked~label.sk-toggleable__label {background-color: #d4ebff;}#sk-container-id-1 div.sk-label input.sk-toggleable__control:checked~label.sk-toggleable__label {background-color: #d4ebff;}#sk-container-id-1 input.sk-hidden--visually {border: 0;clip: rect(1px 1px 1px 1px);clip: rect(1px, 1px, 1px, 1px);height: 1px;margin: -1px;overflow: hidden;padding: 0;position: absolute;width: 1px;}#sk-container-id-1 div.sk-estimator {font-family: monospace;background-color: #f0f8ff;border: 1px dotted black;border-radius: 0.25em;box-sizing: border-box;margin-bottom: 0.5em;}#sk-container-id-1 div.sk-estimator:hover {background-color: #d4ebff;}#sk-container-id-1 div.sk-parallel-item::after {content: \"\";width: 100%;border-bottom: 1px solid gray;flex-grow: 1;}#sk-container-id-1 div.sk-label:hover label.sk-toggleable__label {background-color: #d4ebff;}#sk-container-id-1 div.sk-serial::before {content: \"\";position: absolute;border-left: 1px solid gray;box-sizing: border-box;top: 0;bottom: 0;left: 50%;z-index: 0;}#sk-container-id-1 div.sk-serial {display: flex;flex-direction: column;align-items: center;background-color: white;padding-right: 0.2em;padding-left: 0.2em;position: relative;}#sk-container-id-1 div.sk-item {position: relative;z-index: 1;}#sk-container-id-1 div.sk-parallel {display: flex;align-items: stretch;justify-content: center;background-color: white;position: relative;}#sk-container-id-1 div.sk-item::before, #sk-container-id-1 div.sk-parallel-item::before {content: \"\";position: absolute;border-left: 1px solid gray;box-sizing: border-box;top: 0;bottom: 0;left: 50%;z-index: -1;}#sk-container-id-1 div.sk-parallel-item {display: flex;flex-direction: column;z-index: 1;position: relative;background-color: white;}#sk-container-id-1 div.sk-parallel-item:first-child::after {align-self: flex-end;width: 50%;}#sk-container-id-1 div.sk-parallel-item:last-child::after {align-self: flex-start;width: 50%;}#sk-container-id-1 div.sk-parallel-item:only-child::after {width: 0;}#sk-container-id-1 div.sk-dashed-wrapped {border: 1px dashed gray;margin: 0 0.4em 0.5em 0.4em;box-sizing: border-box;padding-bottom: 0.4em;background-color: white;}#sk-container-id-1 div.sk-label label {font-family: monospace;font-weight: bold;display: inline-block;line-height: 1.2em;}#sk-container-id-1 div.sk-label-container {text-align: center;}#sk-container-id-1 div.sk-container {/* jupyter's `normalize.less` sets `[hidden] { display: none; }` but bootstrap.min.css set `[hidden] { display: none !important; }` so we also need the `!important` here to be able to override the default hidden behavior on the sphinx rendered scikit-learn.org. See: https://github.com/scikit-learn/scikit-learn/issues/21755 */display: inline-block !important;position: relative;}#sk-container-id-1 div.sk-text-repr-fallback {display: none;}</style><div id=\"sk-container-id-1\" class=\"sk-top-container\"><div class=\"sk-text-repr-fallback\"><pre>LogisticRegression()</pre><b>In a Jupyter environment, please rerun this cell to show the HTML representation or trust the notebook. <br />On GitHub, the HTML representation is unable to render, please try loading this page with nbviewer.org.</b></div><div class=\"sk-container\" hidden><div class=\"sk-item\"><div class=\"sk-estimator sk-toggleable\"><input class=\"sk-toggleable__control sk-hidden--visually\" id=\"sk-estimator-id-1\" type=\"checkbox\" checked><label for=\"sk-estimator-id-1\" class=\"sk-toggleable__label sk-toggleable__label-arrow\">LogisticRegression</label><div class=\"sk-toggleable__content\"><pre>LogisticRegression()</pre></div></div></div></div></div>"
      ],
      "text/plain": [
       "LogisticRegression()"
      ]
     },
     "execution_count": 81,
     "metadata": {},
     "output_type": "execute_result"
    }
   ],
   "source": [
    "lr = LogisticRegression()\n",
    "lr.fit(X_train_tfidf, y_train)"
   ]
  },
  {
   "cell_type": "code",
   "execution_count": 82,
   "id": "69cd0892",
   "metadata": {},
   "outputs": [],
   "source": [
    "y_pred = lr.predict(X_test_tfidf)"
   ]
  },
  {
   "cell_type": "code",
   "execution_count": 88,
   "id": "0c222002",
   "metadata": {
    "scrolled": true
   },
   "outputs": [
    {
     "data": {
      "text/plain": [
       "0.8636363636363636"
      ]
     },
     "execution_count": 88,
     "metadata": {},
     "output_type": "execute_result"
    }
   ],
   "source": [
    "accuracy_score(y_test, y_pred)"
   ]
  },
  {
   "cell_type": "code",
   "execution_count": 89,
   "id": "7a3d4fcd",
   "metadata": {
    "scrolled": true
   },
   "outputs": [
    {
     "data": {
      "text/plain": [
       "1    0.545455\n",
       "0    0.454545\n",
       "Name: who_from, dtype: float64"
      ]
     },
     "execution_count": 89,
     "metadata": {},
     "output_type": "execute_result"
    }
   ],
   "source": [
    "y_test.value_counts(normalize = True)"
   ]
  },
  {
   "cell_type": "code",
   "execution_count": 92,
   "id": "0779ac30",
   "metadata": {},
   "outputs": [
    {
     "data": {
      "text/plain": [
       "0    0.545455\n",
       "1    0.454545\n",
       "dtype: float64"
      ]
     },
     "execution_count": 92,
     "metadata": {},
     "output_type": "execute_result"
    }
   ],
   "source": [
    "pd.Series(y_pred).value_counts(normalize = True)"
   ]
  }
 ],
 "metadata": {
  "kernelspec": {
   "display_name": "Python 3 (ipykernel)",
   "language": "python",
   "name": "python3"
  },
  "language_info": {
   "codemirror_mode": {
    "name": "ipython",
    "version": 3
   },
   "file_extension": ".py",
   "mimetype": "text/x-python",
   "name": "python",
   "nbconvert_exporter": "python",
   "pygments_lexer": "ipython3",
   "version": "3.11.4"
  }
 },
 "nbformat": 4,
 "nbformat_minor": 5
}
